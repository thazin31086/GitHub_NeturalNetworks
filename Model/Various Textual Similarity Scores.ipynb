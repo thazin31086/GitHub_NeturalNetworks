{
  "nbformat": 4,
  "nbformat_minor": 0,
  "metadata": {
    "colab": {
      "name": "Untitled17.ipynb",
      "provenance": []
    },
    "kernelspec": {
      "name": "python3",
      "display_name": "Python 3"
    }
  },
  "cells": [
    {
      "cell_type": "code",
      "metadata": {
        "id": "-HBkNm4snNbJ",
        "colab_type": "code",
        "colab": {}
      },
      "source": [
        "sentences_test = [\"Add brace new line code style for switch expressions\",\"New line setting for C# switch expression is missing\"]\n",
        "with tf.Session() as session:\n",
        "\n",
        "  session.run([tf.global_variables_initializer(), tf.tables_initializer()])\n",
        "  sentences_embed = session.run(embed(sentences_test))\n",
        "\n",
        "# For evaluation we use exactly normalized rather than\n",
        "# approximately normalized.\n",
        "sts_encode1 = tf.nn.l2_normalize(sentences_embed[0])\n",
        "sts_encode2 = tf.nn.l2_normalize(sentences_embed[1])\n",
        "cosine_similarities = tf.reduce_sum(tf.multiply(sts_encode1, sts_encode2))\n",
        "clip_cosine_similarities = tf.clip_by_value(cosine_similarities, -1.0, 1.0)\n",
        "sim_scores = 1.0 - tf.acos(clip_cosine_similarities)"
      ],
      "execution_count": 0,
      "outputs": []
    },
    {
      "cell_type": "code",
      "metadata": {
        "id": "kMnOhx6QsDKt",
        "colab_type": "code",
        "colab": {
          "base_uri": "https://localhost:8080/",
          "height": 34
        },
        "outputId": "1ddf63b1-5dc2-4a8c-bfb9-be81c9879307"
      },
      "source": [
        "import numpy as np\n",
        "np.inner(sentences_embed[0], sentences_embed[1])\n"
      ],
      "execution_count": 78,
      "outputs": [
        {
          "output_type": "execute_result",
          "data": {
            "text/plain": [
              "0.8265699"
            ]
          },
          "metadata": {
            "tags": []
          },
          "execution_count": 78
        }
      ]
    },
    {
      "cell_type": "code",
      "metadata": {
        "id": "0YEVFni32kC-",
        "colab_type": "code",
        "colab": {
          "base_uri": "https://localhost:8080/",
          "height": 34
        },
        "outputId": "80745b48-dd97-4459-df85-66fbd24f50dc"
      },
      "source": [
        "from scipy.spatial import distance\n",
        "test = distance.euclidean(sentences_embed[0], sentences_embed[1])\n",
        "test"
      ],
      "execution_count": 77,
      "outputs": [
        {
          "output_type": "execute_result",
          "data": {
            "text/plain": [
              "0.5889483690261841"
            ]
          },
          "metadata": {
            "tags": []
          },
          "execution_count": 77
        }
      ]
    },
    {
      "cell_type": "code",
      "metadata": {
        "id": "8NJ4VgmVvd4m",
        "colab_type": "code",
        "colab": {
          "base_uri": "https://localhost:8080/",
          "height": 88
        },
        "outputId": "d24a0080-b70e-4dae-cb81-a47a0ebf3381"
      },
      "source": [
        "import spacy\n",
        "\n",
        "nlp = spacy.load('en')\n",
        "\n",
        "#search_doc = nlp(\"Add brace new line code style for switch expressions\")\n",
        "#main_doc = nlp(\"New line setting for C# switch expression is missing\")\n",
        "\n",
        "search_doc = nlp(\"New line setting for C# switch expression is missing\")\n",
        "main_doc = nlp(\"Add brace new line code style for switch expressions\")\n",
        "print(main_doc.similarity(search_doc))"
      ],
      "execution_count": 80,
      "outputs": [
        {
          "output_type": "stream",
          "text": [
            "0.7846811147040956\n"
          ],
          "name": "stdout"
        },
        {
          "output_type": "stream",
          "text": [
            "/usr/lib/python3.6/runpy.py:193: ModelsWarning: [W007] The model you're using has no word vectors loaded, so the result of the Doc.similarity method will be based on the tagger, parser and NER, which may not give useful similarity judgements. This may happen if you're using one of the small models, e.g. `en_core_web_sm`, which don't ship with word vectors and only use context-sensitive tensors. You can always add your own word vectors, or use one of the larger models instead if available.\n",
            "  \"__main__\", mod_spec)\n"
          ],
          "name": "stderr"
        }
      ]
    }
  ]
}