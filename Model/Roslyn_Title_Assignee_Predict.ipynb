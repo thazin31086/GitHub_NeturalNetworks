{
  "nbformat": 4,
  "nbformat_minor": 0,
  "metadata": {
    "colab": {
      "name": "SVF_TitleDescription_Assignee_Predict.ipynb",
      "provenance": [],
      "collapsed_sections": [],
      "toc_visible": true
    },
    "kernelspec": {
      "name": "python3",
      "display_name": "Python 3"
    }
  },
  "cells": [
    {
      "cell_type": "code",
      "metadata": {
        "id": "3xIbLyam6PAj",
        "colab_type": "code",
        "colab": {}
      },
      "source": [
        "#This Code predict Assignee for Roslyn Issues with Title\n",
        "\n",
        "import tensorflow as tf\n",
        "import tensorflow_hub as hub\n",
        "import pandas as pd\n",
        "from sklearn import preprocessing\n",
        "import keras\n",
        "import numpy as np\n",
        "\n",
        "url = \"https://tfhub.dev/google/universal-sentence-encoder-large/3\"\n",
        "embed = hub.Module(url)\n",
        "\n",
        "data = pd.read_csv('IssueDetailsRoslyn_20102019.csv', encoding='latin-1')\n",
        "\n",
        "y = list(data['Assignee']) \n",
        "x = list(data['Title']) \n",
        "\n",
        "le = preprocessing.LabelEncoder()\n",
        "le.fit(y)\n",
        "\n",
        "categories = list(set(y))\n",
        "\n",
        "def encode(le, labels):\n",
        "    enc = le.transform(labels)\n",
        "    return keras.utils.to_categorical(enc)\n",
        "\n",
        "def decode(le, one_hot):\n",
        "    dec = np.argmax(one_hot, axis=1)\n",
        "    return le.inverse_transform(dec)\n",
        "\n",
        "test = encode(le,categories)\n",
        "\n",
        "untest = decode(le, test)\n",
        "\n",
        "\n",
        "x_enc = x\n",
        "y_enc = encode(le, y)\n",
        "\n",
        "x_train = np.asarray(x_enc[:800])\n",
        "y_train = np.asarray(y_enc[:800])\n",
        "\n",
        "\n",
        "x_test = np.asarray(x_enc[800:])\n",
        "y_test = np.asarray(y_enc[800:])"
      ],
      "execution_count": 0,
      "outputs": []
    },
    {
      "cell_type": "code",
      "metadata": {
        "id": "Lxgn6vzHdReY",
        "colab_type": "code",
        "colab": {}
      },
      "source": [
        "from keras.layers import Input, Lambda, Dense\n",
        "from keras.models import Model\n",
        "import keras.backend as K\n",
        "\n",
        "def UniversalEmbedding(x):\n",
        "    return embed(tf.squeeze(tf.cast(x, tf.string)))"
      ],
      "execution_count": 0,
      "outputs": []
    },
    {
      "cell_type": "code",
      "metadata": {
        "id": "Wfe-mPpJdUA0",
        "colab_type": "code",
        "outputId": "2777d0a7-d171-4d97-e96a-dff55ea7926d",
        "colab": {
          "base_uri": "https://localhost:8080/",
          "height": 51
        }
      },
      "source": [
        "input_text = Input(shape=(1,), dtype=tf.string)\n",
        "embedding = Lambda(UniversalEmbedding, output_shape=(512, ))(input_text)\n",
        "dense = Dense(256, activation='relu')(embedding)\n",
        "pred = Dense(len(categories), activation='softmax')(dense)\n",
        "model = Model(inputs=[input_text], outputs=pred)\n",
        "model.compile(loss='categorical_crossentropy', optimizer='adam', metrics=['accuracy'])"
      ],
      "execution_count": 56,
      "outputs": [
        {
          "output_type": "stream",
          "text": [
            "INFO:tensorflow:Saver not created because there are no variables in the graph to restore\n"
          ],
          "name": "stdout"
        },
        {
          "output_type": "stream",
          "text": [
            "INFO:tensorflow:Saver not created because there are no variables in the graph to restore\n"
          ],
          "name": "stderr"
        }
      ]
    },
    {
      "cell_type": "code",
      "metadata": {
        "id": "kL5QKGbCdWEs",
        "colab_type": "code",
        "outputId": "c652a9bc-b8e9-4b65-d339-a6f27e9b4985",
        "colab": {
          "base_uri": "https://localhost:8080/",
          "height": 1000
        }
      },
      "source": [
        "with tf.Session() as session:\n",
        "    K.set_session(session)\n",
        "    session.run(tf.global_variables_initializer())  \n",
        "    session.run(tf.tables_initializer())\n",
        "    history = model.fit(x_train, y_train, epochs=30, batch_size=32)\n",
        "    model.save_weights('./model_roslyn_Title_Assignee_Prediction.h5')"
      ],
      "execution_count": 58,
      "outputs": [
        {
          "output_type": "stream",
          "text": [
            "Epoch 1/30\n",
            "800/800 [==============================] - 20s 25ms/step - loss: 5.5135 - acc: 0.0762\n",
            "Epoch 2/30\n",
            "800/800 [==============================] - 9s 11ms/step - loss: 4.7393 - acc: 0.0938\n",
            "Epoch 3/30\n",
            "800/800 [==============================] - 9s 11ms/step - loss: 4.3563 - acc: 0.1175\n",
            "Epoch 4/30\n",
            "800/800 [==============================] - 9s 11ms/step - loss: 4.1722 - acc: 0.1613\n",
            "Epoch 5/30\n",
            "800/800 [==============================] - 9s 11ms/step - loss: 4.0208 - acc: 0.1775\n",
            "Epoch 6/30\n",
            "800/800 [==============================] - 9s 11ms/step - loss: 3.8754 - acc: 0.1850\n",
            "Epoch 7/30\n",
            "800/800 [==============================] - 9s 11ms/step - loss: 3.7347 - acc: 0.2038\n",
            "Epoch 8/30\n",
            "800/800 [==============================] - 9s 11ms/step - loss: 3.5968 - acc: 0.2100\n",
            "Epoch 9/30\n",
            "800/800 [==============================] - 9s 11ms/step - loss: 3.4682 - acc: 0.2300\n",
            "Epoch 10/30\n",
            "800/800 [==============================] - 9s 11ms/step - loss: 3.3489 - acc: 0.2350\n",
            "Epoch 11/30\n",
            "800/800 [==============================] - 9s 11ms/step - loss: 3.2203 - acc: 0.2412\n",
            "Epoch 12/30\n",
            "800/800 [==============================] - 9s 11ms/step - loss: 3.1068 - acc: 0.2450\n",
            "Epoch 13/30\n",
            "800/800 [==============================] - 9s 11ms/step - loss: 2.9798 - acc: 0.2512\n",
            "Epoch 14/30\n",
            "800/800 [==============================] - 9s 11ms/step - loss: 2.8579 - acc: 0.2787\n",
            "Epoch 15/30\n",
            "800/800 [==============================] - 9s 11ms/step - loss: 2.7369 - acc: 0.2900\n",
            "Epoch 16/30\n",
            "800/800 [==============================] - 9s 11ms/step - loss: 2.6203 - acc: 0.3100\n",
            "Epoch 17/30\n",
            "800/800 [==============================] - 9s 11ms/step - loss: 2.4956 - acc: 0.3350\n",
            "Epoch 18/30\n",
            "800/800 [==============================] - 9s 11ms/step - loss: 2.3901 - acc: 0.3450\n",
            "Epoch 19/30\n",
            "800/800 [==============================] - 9s 11ms/step - loss: 2.2769 - acc: 0.3875\n",
            "Epoch 20/30\n",
            "800/800 [==============================] - 9s 11ms/step - loss: 2.1743 - acc: 0.4213\n",
            "Epoch 21/30\n",
            "800/800 [==============================] - 9s 11ms/step - loss: 2.0785 - acc: 0.4413\n",
            "Epoch 22/30\n",
            "800/800 [==============================] - 9s 11ms/step - loss: 1.9855 - acc: 0.4987\n",
            "Epoch 23/30\n",
            "800/800 [==============================] - 9s 11ms/step - loss: 1.9081 - acc: 0.5162\n",
            "Epoch 24/30\n",
            "800/800 [==============================] - 9s 11ms/step - loss: 1.8228 - acc: 0.5487\n",
            "Epoch 25/30\n",
            "800/800 [==============================] - 9s 12ms/step - loss: 1.7492 - acc: 0.5625\n",
            "Epoch 26/30\n",
            "800/800 [==============================] - 9s 11ms/step - loss: 1.6872 - acc: 0.5875\n",
            "Epoch 27/30\n",
            "800/800 [==============================] - 9s 11ms/step - loss: 1.6224 - acc: 0.5938\n",
            "Epoch 28/30\n",
            "800/800 [==============================] - 9s 11ms/step - loss: 1.5684 - acc: 0.6100\n",
            "Epoch 29/30\n",
            "800/800 [==============================] - 9s 11ms/step - loss: 1.5251 - acc: 0.6125\n",
            "Epoch 30/30\n",
            "800/800 [==============================] - 9s 11ms/step - loss: 1.4714 - acc: 0.6325\n"
          ],
          "name": "stdout"
        }
      ]
    },
    {
      "cell_type": "code",
      "metadata": {
        "id": "yh7KFTBXdaj-",
        "colab_type": "code",
        "colab": {}
      },
      "source": [
        "with tf.Session() as session:\n",
        "    K.set_session(session)\n",
        "    session.run(tf.global_variables_initializer())\n",
        "    session.run(tf.tables_initializer())\n",
        "    model.load_weights('./model_roslyn_Title_Assignee_Prediction.h5')  \n",
        "    predicts = model.predict(x_test, batch_size=32)  "
      ],
      "execution_count": 0,
      "outputs": []
    },
    {
      "cell_type": "code",
      "metadata": {
        "id": "sY2Wve_zIMce",
        "colab_type": "code",
        "outputId": "37d4e023-0e4a-4d44-8fd2-29f680c7269c",
        "colab": {
          "base_uri": "https://localhost:8080/",
          "height": 1000
        }
      },
      "source": [
        "y_test = np.asarray(y_enc[800:])\n",
        "\n",
        "\n",
        "y_test = decode(le, y_test)\n",
        "y_preds = decode(le, predicts)\n",
        "\n",
        "from sklearn import metrics\n",
        "\n",
        "metrics.confusion_matrix(y_test, y_preds)\n",
        "\n",
        "print(metrics.classification_report(y_test, y_preds))\n"
      ],
      "execution_count": 60,
      "outputs": [
        {
          "output_type": "stream",
          "text": [
            "                                                                                          precision    recall  f1-score   support\n",
            "\n",
            "                                                                          333fred|gafter       0.00      0.00      0.00         1\n",
            "                                                333fred|jaredpar|heejaechang|tmat|agocke       0.00      0.00      0.00         1\n",
            "                                                                   333fred|tmat|jaredpar       0.00      0.00      0.00         1\n",
            "                                                                               AlekseyTs       0.00      0.00      0.00         3\n",
            "                                                                        AlekseyTs|gafter       0.00      0.00      0.00         1\n",
            "                                                        Cosifne|sharwell|vatsalyaagrawal       0.00      0.00      0.00         1\n",
            "                                                                               JoeRobich       0.00      0.00      0.00         1\n",
            "                                                                             RikkiGibson       0.00      0.00      0.00         0\n",
            "                                                             RikkiGibson|gafter|jaredpar       0.00      0.00      0.00         1\n",
            "                                                                    RikkiGibson|jaredpar       0.00      0.00      0.00         0\n",
            "                                                             RikkiGibson|jaredpar|gafter       0.00      0.00      0.00         0\n",
            "                                                                       RikkiGibson|jcouv       0.00      0.00      0.00         0\n",
            "                                                                                  agocke       0.00      0.00      0.00         0\n",
            "                                                 agocke|jasonmalinowski|333fred|jaredpar       0.00      0.00      0.00         1\n",
            "agocke|jcouv|333fred|jaredpar|gafter|RikkiGibson|VSadov|AlekseyTs|cston|chsienki|fayrose       0.00      0.00      0.00         1\n",
            "                                                                             allisonchou       0.00      0.00      0.00         0\n",
            "                                                                                  chborl       0.00      0.00      0.00         1\n",
            "                                                                      chsienki|AlekseyTs       0.00      0.00      0.00         1\n",
            "                                                                                   cston       0.00      0.00      0.00         1\n",
            "                                                                   cston|AlekseyTs|jcouv       0.00      0.00      0.00         1\n",
            "cston|jaredpar|agocke|333fred|gafter|RikkiGibson|VSadov|AlekseyTs|jcouv|chsienki|fayrose       0.00      0.00      0.00         1\n",
            "                 davkean|gafter|jasonmalinowski|agocke|vatsalyaagrawal|panopticoncentral       0.00      0.00      0.00         1\n",
            "                                                                                dibarbet       0.00      0.00      0.00         3\n",
            "                                                        dibarbet|daytonellwanger|amcasey       0.00      0.00      0.00         1\n",
            "                                                                    dotnet-bot|JoeRobich       0.00      0.00      0.00         2\n",
            "                                                                  dotnet-bot|RikkiGibson       0.00      0.00      0.00         3\n",
            "                                                  dotnet-bot|agocke|dotnet-automerge-bot       0.00      0.00      0.00         0\n",
            "                                                         dotnet-bot|dotnet-automerge-bot       0.33      1.00      0.50         2\n",
            "                               dotnet-bot|jasonmalinowski|ivanbasov|dotnet-automerge-bot       0.00      0.00      0.00         1\n",
            "                                                          dotnet-maestro[bot]|jinujoseph       0.00      0.00      0.00         0\n",
            "                                                                                  gafter       0.12      0.11      0.12         9\n",
            "                                                                        gafter|AlekseyTs       0.00      0.00      0.00         1\n",
            "                                                                         gafter|NextTurn       0.00      0.00      0.00         0\n",
            "                                                                         gafter|jaredpar       0.00      0.00      0.00         1\n",
            "                                                                       gafter|jinujoseph       0.00      0.00      0.00         0\n",
            "                                                              gafter|jinujoseph|sharwell       0.00      0.00      0.00         0\n",
            "                                                                         gafter|sharwell       0.00      0.00      0.00         2\n",
            "                                                                  gafter|vatsalyaagrawal       0.00      0.00      0.00         6\n",
            "                                                       gafter|vatsalyaagrawal|jinujoseph       0.00      0.00      0.00         1\n",
            "                                                                                   genlu       0.00      0.00      0.00         0\n",
            "                                                                             heejaechang       0.00      0.00      0.00         0\n",
            "                                                                               ivanbasov       0.00      0.00      0.00         3\n",
            "                                                          ivanbasov|CyrusNajmabadi|genlu       0.00      0.00      0.00         1\n",
            "                                                                     ivanbasov|JoeRobich       0.00      0.00      0.00         1\n",
            "                                                                ivanbasov|cston|sharwell       0.00      0.00      0.00         1\n",
            "                                          ivanbasov|heejaechang|AmadeusW|jasonmalinowski       0.00      0.00      0.00         0\n",
            "                                                                                jaredpar       0.00      0.00      0.00         1\n",
            "jaredpar|agocke|333fred|gafter|RikkiGibson|VSadov|AlekseyTs|cston|jcouv|chsienki|fayrose       0.00      0.00      0.00         2\n",
            "                                                                       jaredpar|sharwell       0.00      0.00      0.00         1\n",
            "                                                     jaredpar|vatsalyaagrawal|jinujoseph       0.00      0.00      0.00         1\n",
            "                                                                         jasonmalinowski       0.00      0.00      0.00         6\n",
            "                                                                                   jcouv       0.13      0.33      0.19         6\n",
            "                                                                            jcouv|gafter       0.00      0.00      0.00         1\n",
            "                                                                                mavasani       0.08      0.17      0.11         6\n",
            "                                                                     mavasani|jinujoseph       0.00      0.00      0.00         0\n",
            "                                                                mavasani|vatsalyaagrawal       0.00      0.00      0.00         1\n",
            "                                                                                petrroll       0.00      0.00      0.00         3\n",
            "                                                                petrroll|vatsalyaagrawal       0.00      0.00      0.00         1\n",
            "                                                     petrroll|vatsalyaagrawal|jinujoseph       0.00      0.00      0.00         1\n",
            "                                                                                sharwell       0.00      0.00      0.00         3\n",
            "                                                                        sharwell|333fred       0.00      0.00      0.00         0\n",
            "                                                                     sharwell|jinujoseph       0.00      0.00      0.00         0\n",
            "                                                                                    tmat       0.00      0.00      0.00         0\n",
            "                                                                           tmat|jaredpar       0.00      0.00      0.00         1\n",
            "                                                tmat|sharwell|vatsalyaagrawal|jinujoseph       0.00      0.00      0.00         1\n",
            "                                                      tmeschter|mavasani|vatsalyaagrawal       0.00      0.00      0.00         1\n",
            "                  v-zbsail|tmeschter|vatsalyaagrawal|jasonmalinowski|agocke|msftbot[bot]       0.00      0.00      0.00         1\n",
            "                                                              vatsalyaagrawal|jinujoseph       0.00      0.00      0.00         1\n",
            "                                vatsalyaagrawal|ryzngard|jmarolf|jasonmalinowski|davkean       0.00      0.00      0.00         1\n",
            "\n",
            "                                                                                accuracy                           0.06        95\n",
            "                                                                               macro avg       0.01      0.02      0.01        95\n",
            "                                                                            weighted avg       0.03      0.06      0.04        95\n",
            "\n"
          ],
          "name": "stdout"
        },
        {
          "output_type": "stream",
          "text": [
            "/usr/local/lib/python3.6/dist-packages/sklearn/metrics/classification.py:1437: UndefinedMetricWarning: Precision and F-score are ill-defined and being set to 0.0 in labels with no predicted samples.\n",
            "  'precision', 'predicted', average, warn_for)\n",
            "/usr/local/lib/python3.6/dist-packages/sklearn/metrics/classification.py:1439: UndefinedMetricWarning: Recall and F-score are ill-defined and being set to 0.0 in labels with no true samples.\n",
            "  'recall', 'true', average, warn_for)\n"
          ],
          "name": "stderr"
        }
      ]
    },
    {
      "cell_type": "code",
      "metadata": {
        "id": "bNG02At0yGXV",
        "colab_type": "code",
        "colab": {}
      },
      "source": [
        ""
      ],
      "execution_count": 0,
      "outputs": []
    },
    {
      "cell_type": "markdown",
      "metadata": {
        "id": "pckCKEEe6q4g",
        "colab_type": "text"
      },
      "source": [
        "# New Section"
      ]
    }
  ]
}