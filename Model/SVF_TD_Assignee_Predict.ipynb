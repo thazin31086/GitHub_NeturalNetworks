{
  "nbformat": 4,
  "nbformat_minor": 0,
  "metadata": {
    "colab": {
      "name": "Copy of Untitled6.ipynb",
      "provenance": [],
      "collapsed_sections": [],
      "toc_visible": true
    },
    "kernelspec": {
      "name": "python3",
      "display_name": "Python 3"
    }
  },
  "cells": [
    {
      "cell_type": "code",
      "metadata": {
        "id": "3xIbLyam6PAj",
        "colab_type": "code",
        "colab": {}
      },
      "source": [
        "#This Code predict Label for SVF Issues \n",
        "\n",
        "import tensorflow as tf\n",
        "import tensorflow_hub as hub\n",
        "import pandas as pd\n",
        "from sklearn import preprocessing\n",
        "import keras\n",
        "import numpy as np\n",
        "\n",
        "url = \"https://tfhub.dev/google/universal-sentence-encoder-large/3\"\n",
        "embed = hub.Module(url)\n",
        "\n",
        "data = pd.read_csv('IssueDetailsSVF_20102019.csv')\n",
        "\n",
        "y = list(data['Assignee']) \n",
        "x = list(data['Title_Description']) \n",
        "\n",
        "le = preprocessing.LabelEncoder()\n",
        "le.fit(y)\n",
        "\n",
        "categories = list(set(y))\n",
        "\n",
        "def encode(le, labels):\n",
        "    enc = le.transform(labels)\n",
        "    return keras.utils.to_categorical(enc)\n",
        "\n",
        "def decode(le, one_hot):\n",
        "    dec = np.argmax(one_hot, axis=1)\n",
        "    return le.inverse_transform(dec)\n",
        "\n",
        "test = encode(le,categories)\n",
        "\n",
        "untest = decode(le, test)\n",
        "\n",
        "\n",
        "x_enc = x\n",
        "y_enc = encode(le, y)\n",
        "\n",
        "x_train = np.asarray(x_enc[:80])\n",
        "y_train = np.asarray(y_enc[:80])\n",
        "\n",
        "\n",
        "x_test = np.asarray(x_enc[80:])\n",
        "y_test = np.asarray(y_enc[80:])"
      ],
      "execution_count": 0,
      "outputs": []
    },
    {
      "cell_type": "code",
      "metadata": {
        "id": "Lxgn6vzHdReY",
        "colab_type": "code",
        "colab": {}
      },
      "source": [
        "from keras.layers import Input, Lambda, Dense\n",
        "from keras.models import Model\n",
        "import keras.backend as K\n",
        "\n",
        "def UniversalEmbedding(x):\n",
        "    return embed(tf.squeeze(tf.cast(x, tf.string)))"
      ],
      "execution_count": 0,
      "outputs": []
    },
    {
      "cell_type": "code",
      "metadata": {
        "id": "Wfe-mPpJdUA0",
        "colab_type": "code",
        "colab": {
          "base_uri": "https://localhost:8080/",
          "height": 51
        },
        "outputId": "cd3876a6-d438-4f19-b0af-b62e0515ee37"
      },
      "source": [
        "input_text = Input(shape=(1,), dtype=tf.string)\n",
        "embedding = Lambda(UniversalEmbedding, output_shape=(512, ))(input_text)\n",
        "dense = Dense(256, activation='relu')(embedding)\n",
        "pred = Dense(len(categories), activation='softmax')(dense)\n",
        "model = Model(inputs=[input_text], outputs=pred)\n",
        "model.compile(loss='categorical_crossentropy', optimizer='adam', metrics=['accuracy'])"
      ],
      "execution_count": 40,
      "outputs": [
        {
          "output_type": "stream",
          "text": [
            "INFO:tensorflow:Saver not created because there are no variables in the graph to restore\n"
          ],
          "name": "stdout"
        },
        {
          "output_type": "stream",
          "text": [
            "INFO:tensorflow:Saver not created because there are no variables in the graph to restore\n"
          ],
          "name": "stderr"
        }
      ]
    },
    {
      "cell_type": "code",
      "metadata": {
        "id": "kL5QKGbCdWEs",
        "colab_type": "code",
        "colab": {
          "base_uri": "https://localhost:8080/",
          "height": 1000
        },
        "outputId": "066e8980-3123-4133-fab3-b51e710b136d"
      },
      "source": [
        "with tf.Session() as session:\n",
        "    K.set_session(session)\n",
        "    session.run(tf.global_variables_initializer())  \n",
        "    session.run(tf.tables_initializer())\n",
        "    history = model.fit(x_train, y_train, epochs=30, batch_size=32)\n",
        "    model.save_weights('./model.h5')"
      ],
      "execution_count": 41,
      "outputs": [
        {
          "output_type": "stream",
          "text": [
            "Epoch 1/30\n",
            "80/80 [==============================] - 12s 153ms/step - loss: 2.3650 - acc: 0.6750\n",
            "Epoch 2/30\n",
            "80/80 [==============================] - 7s 85ms/step - loss: 2.0597 - acc: 0.8000\n",
            "Epoch 3/30\n",
            "80/80 [==============================] - 7s 85ms/step - loss: 1.7104 - acc: 0.8000\n",
            "Epoch 4/30\n",
            "80/80 [==============================] - 7s 85ms/step - loss: 1.3987 - acc: 0.8000\n",
            "Epoch 5/30\n",
            "80/80 [==============================] - 7s 86ms/step - loss: 1.1361 - acc: 0.8000\n",
            "Epoch 6/30\n",
            "80/80 [==============================] - 7s 85ms/step - loss: 0.9979 - acc: 0.8000\n",
            "Epoch 7/30\n",
            "80/80 [==============================] - 7s 85ms/step - loss: 0.9400 - acc: 0.8000\n",
            "Epoch 8/30\n",
            "80/80 [==============================] - 7s 86ms/step - loss: 0.9369 - acc: 0.8000\n",
            "Epoch 9/30\n",
            "80/80 [==============================] - 7s 85ms/step - loss: 0.9347 - acc: 0.8000\n",
            "Epoch 10/30\n",
            "80/80 [==============================] - 7s 85ms/step - loss: 0.9221 - acc: 0.8000\n",
            "Epoch 11/30\n",
            "80/80 [==============================] - 7s 86ms/step - loss: 0.9004 - acc: 0.8000\n",
            "Epoch 12/30\n",
            "80/80 [==============================] - 7s 85ms/step - loss: 0.8751 - acc: 0.8000\n",
            "Epoch 13/30\n",
            "80/80 [==============================] - 7s 85ms/step - loss: 0.8427 - acc: 0.8000\n",
            "Epoch 14/30\n",
            "80/80 [==============================] - 7s 85ms/step - loss: 0.8215 - acc: 0.8000\n",
            "Epoch 15/30\n",
            "80/80 [==============================] - 7s 85ms/step - loss: 0.8060 - acc: 0.8000\n",
            "Epoch 16/30\n",
            "80/80 [==============================] - 7s 85ms/step - loss: 0.7913 - acc: 0.8000\n",
            "Epoch 17/30\n",
            "80/80 [==============================] - 7s 86ms/step - loss: 0.7798 - acc: 0.8000\n",
            "Epoch 18/30\n",
            "80/80 [==============================] - 7s 85ms/step - loss: 0.7672 - acc: 0.8000\n",
            "Epoch 19/30\n",
            "80/80 [==============================] - 7s 85ms/step - loss: 0.7548 - acc: 0.8000\n",
            "Epoch 20/30\n",
            "80/80 [==============================] - 7s 85ms/step - loss: 0.7404 - acc: 0.8000\n",
            "Epoch 21/30\n",
            "80/80 [==============================] - 7s 85ms/step - loss: 0.7278 - acc: 0.8000\n",
            "Epoch 22/30\n",
            "80/80 [==============================] - 7s 86ms/step - loss: 0.7151 - acc: 0.8000\n",
            "Epoch 23/30\n",
            "80/80 [==============================] - 8s 100ms/step - loss: 0.7020 - acc: 0.8000\n",
            "Epoch 24/30\n",
            "80/80 [==============================] - 7s 85ms/step - loss: 0.6873 - acc: 0.8000\n",
            "Epoch 25/30\n",
            "80/80 [==============================] - 7s 86ms/step - loss: 0.6734 - acc: 0.8000\n",
            "Epoch 26/30\n",
            "80/80 [==============================] - 7s 87ms/step - loss: 0.6651 - acc: 0.8000\n",
            "Epoch 27/30\n",
            "80/80 [==============================] - 7s 86ms/step - loss: 0.6484 - acc: 0.8000\n",
            "Epoch 28/30\n",
            "80/80 [==============================] - 7s 86ms/step - loss: 0.6353 - acc: 0.8000\n",
            "Epoch 29/30\n",
            "80/80 [==============================] - 7s 86ms/step - loss: 0.6222 - acc: 0.8000\n",
            "Epoch 30/30\n",
            "80/80 [==============================] - 7s 86ms/step - loss: 0.6081 - acc: 0.8000\n"
          ],
          "name": "stdout"
        }
      ]
    },
    {
      "cell_type": "code",
      "metadata": {
        "id": "yh7KFTBXdaj-",
        "colab_type": "code",
        "colab": {}
      },
      "source": [
        "with tf.Session() as session:\n",
        "    K.set_session(session)\n",
        "    session.run(tf.global_variables_initializer())\n",
        "    session.run(tf.tables_initializer())\n",
        "    model.load_weights('./model.h5')  \n",
        "    predicts = model.predict(x_test, batch_size=32)  "
      ],
      "execution_count": 0,
      "outputs": []
    },
    {
      "cell_type": "code",
      "metadata": {
        "id": "cVG_eZ8jdbzN",
        "colab_type": "code",
        "colab": {
          "base_uri": "https://localhost:8080/",
          "height": 241
        },
        "outputId": "8f0f42ea-68ab-4be8-851d-18407f36d9aa"
      },
      "source": [
        "y_test = np.asarray(y_enc[80:])\n",
        "y_test = decode(le, y_test)\n",
        "y_preds = decode(le, predicts)\n",
        "\n",
        "from sklearn import metrics\n",
        "\n",
        "metrics.confusion_matrix(y_test, y_preds)\n",
        "\n",
        "print(metrics.classification_report(y_test, y_preds))\n",
        "\n"
      ],
      "execution_count": 47,
      "outputs": [
        {
          "output_type": "stream",
          "text": [
            "                     precision    recall  f1-score   support\n",
            "\n",
            " unsw-corg|yuleisui       0.00      0.00      0.00         2\n",
            "           yuleisui       0.75      1.00      0.86         9\n",
            "yuleisui|jcarlson23       0.00      0.00      0.00         1\n",
            "\n",
            "           accuracy                           0.75        12\n",
            "          macro avg       0.25      0.33      0.29        12\n",
            "       weighted avg       0.56      0.75      0.64        12\n",
            "\n"
          ],
          "name": "stdout"
        },
        {
          "output_type": "stream",
          "text": [
            "/usr/local/lib/python3.6/dist-packages/sklearn/metrics/classification.py:1437: UndefinedMetricWarning: Precision and F-score are ill-defined and being set to 0.0 in labels with no predicted samples.\n",
            "  'precision', 'predicted', average, warn_for)\n"
          ],
          "name": "stderr"
        }
      ]
    },
    {
      "cell_type": "code",
      "metadata": {
        "id": "bNG02At0yGXV",
        "colab_type": "code",
        "colab": {}
      },
      "source": [
        ""
      ],
      "execution_count": 0,
      "outputs": []
    },
    {
      "cell_type": "markdown",
      "metadata": {
        "id": "pckCKEEe6q4g",
        "colab_type": "text"
      },
      "source": [
        "# New Section"
      ]
    }
  ]
}