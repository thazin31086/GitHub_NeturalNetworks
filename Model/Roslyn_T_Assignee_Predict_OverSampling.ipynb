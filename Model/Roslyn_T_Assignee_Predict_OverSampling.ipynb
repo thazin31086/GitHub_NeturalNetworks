{
  "nbformat": 4,
  "nbformat_minor": 0,
  "metadata": {
    "colab": {
      "name": "Roslyn_T_Assignee_Predict.ipynb",
      "provenance": [],
      "collapsed_sections": [],
      "toc_visible": true
    },
    "kernelspec": {
      "name": "python3",
      "display_name": "Python 3"
    }
  },
  "cells": [
    {
      "cell_type": "code",
      "metadata": {
        "id": "3xIbLyam6PAj",
        "colab_type": "code",
        "colab": {}
      },
      "source": [
        "#https://medium.com/towards-artificial-intelligence/application-of-synthetic-minority-over-sampling-technique-smote-for-imbalanced-data-sets-509ab55cfdaf\n",
        "#This Code predict Assignee for Roslyn Issues with Title\n",
        "\n",
        "import tensorflow as tf\n",
        "import tensorflow_hub as hub\n",
        "import pandas as pd\n",
        "import keras\n",
        "import numpy as np\n",
        "import matplotlib.pyplot as plt\n",
        "import random\n",
        "from keras.utils.vis_utils import plot_model\n",
        "from sklearn import preprocessing\n",
        "from IPython.display import SVG\n",
        "from keras.utils import model_to_dot\n",
        "from imblearn.over_sampling import SMOTE\n",
        "from bs4 import BeautifulSoup\n",
        "from math import sqrt\n",
        "\n",
        "\n",
        "url = \"https://tfhub.dev/google/universal-sentence-encoder-large/3\"\n",
        "embed = hub.Module(url)\n",
        "\n",
        "data = pd.read_csv('IssueDetailsRoslyn_20102019_Single.csv', encoding='latin-1')\n",
        "data = data.reindex(np.random.permutation(data.index))\n",
        "y = list(data['Assignee']) \n",
        "x = list(data['Title']) \n",
        "\n",
        "le = preprocessing.LabelEncoder()\n",
        "le.fit(y)\n",
        "\n",
        "categories = list(set(y))\n",
        "\n",
        "def encode(le, labels):\n",
        "    enc = le.transform(labels)\n",
        "    return keras.utils.to_categorical(enc)\n",
        "\n",
        "def decode(le, one_hot):\n",
        "    dec = np.argmax(one_hot, axis=1)\n",
        "    return le.inverse_transform(dec)\n",
        "\n",
        "test = encode(le,categories)\n",
        "\n",
        "untest = decode(le, test)\n",
        "\n",
        "x_enc = x\n",
        "y_enc = encode(le, y)\n",
        "\n",
        "#80% / 20% train / test split:\n",
        "\n",
        "train_size = int(len(x) * .8)\n",
        "\n",
        "#x_train = np.asarray(x_enc[:train_size])\n",
        "x_train = data['Title'].tolist()\n",
        "with tf.Session() as session:\n",
        "  session.run([tf.global_variables_initializer(), tf.tables_initializer()])\n",
        "  x_train = session.run(embed(x_train))\n",
        "#x_train = np.array(x_train[:train_size], dtype=object)[:, np.newaxis]\n",
        "x_train = np.array(x_train[:train_size], dtype=object)\n",
        "y_train = np.asarray(y_enc[:train_size])\n",
        "\n",
        "x_test = np.asarray(x_enc[train_size:])\n",
        "y_test = np.asarray(y_enc[train_size:])"
      ],
      "execution_count": 0,
      "outputs": []
    },
    {
      "cell_type": "code",
      "metadata": {
        "id": "sSTGywbOSEcA",
        "colab_type": "code",
        "colab": {}
      },
      "source": [
        "from imblearn.over_sampling import RandomOverSampler\n",
        "ros = RandomOverSampler(random_state=42)\n",
        "# X_f and y_f are the Training Set Features and Labels respectively \n",
        "X_res, y_res = ros.fit_resample(x_train, y_train)"
      ],
      "execution_count": 0,
      "outputs": []
    },
    {
      "cell_type": "code",
      "metadata": {
        "id": "KFlOVnLf_klG",
        "colab_type": "code",
        "colab": {
          "base_uri": "https://localhost:8080/",
          "height": 34
        },
        "outputId": "93a0384f-eaa9-4924-b231-3a1101d3c015"
      },
      "source": [
        "y_res.shape[1]"
      ],
      "execution_count": 197,
      "outputs": [
        {
          "output_type": "execute_result",
          "data": {
            "text/plain": [
              "44"
            ]
          },
          "metadata": {
            "tags": []
          },
          "execution_count": 197
        }
      ]
    },
    {
      "cell_type": "code",
      "metadata": {
        "id": "Lxgn6vzHdReY",
        "colab_type": "code",
        "colab": {}
      },
      "source": [
        "from keras.layers import Input, Lambda, Dense\n",
        "from keras.models import Model\n",
        "import keras.backend as K\n",
        "\n",
        "def UniversalEmbedding(x):\n",
        "    return embed(tf.squeeze(x))"
      ],
      "execution_count": 0,
      "outputs": []
    },
    {
      "cell_type": "code",
      "metadata": {
        "id": "rkJd2EwW24Rv",
        "colab_type": "code",
        "colab": {
          "base_uri": "https://localhost:8080/",
          "height": 34
        },
        "outputId": "82fc6608-8a1f-471d-f650-56caf4cdb853"
      },
      "source": [
        "x_train_SMOTE.shape"
      ],
      "execution_count": 208,
      "outputs": [
        {
          "output_type": "execute_result",
          "data": {
            "text/plain": [
              "(1430, 512)"
            ]
          },
          "metadata": {
            "tags": []
          },
          "execution_count": 208
        }
      ]
    },
    {
      "cell_type": "code",
      "metadata": {
        "id": "Wfe-mPpJdUA0",
        "colab_type": "code",
        "outputId": "ace4905a-29c0-4bc8-96a9-e5381cb1abf9",
        "colab": {
          "base_uri": "https://localhost:8080/",
          "height": 255
        }
      },
      "source": [
        "import tensorflow as tf\n",
        "input_text = Input(shape=(512,))\n",
        "#embedding = Lambda(UniversalEmbedding, output_shape=(512,))(input_text)\n",
        "#Add the dense layer with 256 units and recified learn \n",
        "dense = Dense(256, activation='relu', input_shape=(512,))(input_text)\n",
        "#Add the dense with No of Categories unit and softmax function\n",
        "pred = Dense(y_res.shape[1], activation='softmax')(dense)\n",
        "model = Model(inputs=[input_text], outputs=pred)\n",
        "model.compile(loss='categorical_crossentropy', optimizer='adam', metrics=['accuracy'])\n",
        "model.summary()"
      ],
      "execution_count": 209,
      "outputs": [
        {
          "output_type": "stream",
          "text": [
            "Model: \"model_9\"\n",
            "_________________________________________________________________\n",
            "Layer (type)                 Output Shape              Param #   \n",
            "=================================================================\n",
            "input_26 (InputLayer)        (None, 512)               0         \n",
            "_________________________________________________________________\n",
            "dense_43 (Dense)             (None, 256)               131328    \n",
            "_________________________________________________________________\n",
            "dense_44 (Dense)             (None, 46)                11822     \n",
            "=================================================================\n",
            "Total params: 143,150\n",
            "Trainable params: 143,150\n",
            "Non-trainable params: 0\n",
            "_________________________________________________________________\n"
          ],
          "name": "stdout"
        }
      ]
    },
    {
      "cell_type": "code",
      "metadata": {
        "id": "kL5QKGbCdWEs",
        "colab_type": "code",
        "outputId": "4fdbe79d-43c4-4d28-bbeb-078172438f94",
        "colab": {
          "base_uri": "https://localhost:8080/",
          "height": 1000
        }
      },
      "source": [
        "with tf.Session() as session:\n",
        "    K.set_session(session)\n",
        "    session.run(tf.global_variables_initializer())  \n",
        "    session.run(tf.tables_initializer())\n",
        "    history = model.fit(X_res, y_res, epochs=100, batch_size=32)\n",
        "    model.save_weights('./model_roslyn_Title_Assignee_Prediction.h5')"
      ],
      "execution_count": 210,
      "outputs": [
        {
          "output_type": "stream",
          "text": [
            "Epoch 1/100\n",
            "5888/5888 [==============================] - 16s 3ms/step - loss: 2.5353 - acc: 0.5099\n",
            "Epoch 2/100\n",
            "5888/5888 [==============================] - 1s 175us/step - loss: 1.2361 - acc: 0.7040\n",
            "Epoch 3/100\n",
            "5888/5888 [==============================] - 1s 169us/step - loss: 0.9386 - acc: 0.7655\n",
            "Epoch 4/100\n",
            "5888/5888 [==============================] - 1s 169us/step - loss: 0.7723 - acc: 0.8072\n",
            "Epoch 5/100\n",
            "5888/5888 [==============================] - 1s 182us/step - loss: 0.6559 - acc: 0.8346\n",
            "Epoch 6/100\n",
            "5888/5888 [==============================] - 1s 177us/step - loss: 0.5685 - acc: 0.8567\n",
            "Epoch 7/100\n",
            "5888/5888 [==============================] - 1s 174us/step - loss: 0.4969 - acc: 0.8758\n",
            "Epoch 8/100\n",
            "5888/5888 [==============================] - 1s 177us/step - loss: 0.4354 - acc: 0.8939\n",
            "Epoch 9/100\n",
            "5888/5888 [==============================] - 1s 168us/step - loss: 0.3865 - acc: 0.9108\n",
            "Epoch 10/100\n",
            "5888/5888 [==============================] - 1s 179us/step - loss: 0.3467 - acc: 0.9226\n",
            "Epoch 11/100\n",
            "5888/5888 [==============================] - 1s 179us/step - loss: 0.3101 - acc: 0.9293\n",
            "Epoch 12/100\n",
            "5888/5888 [==============================] - 1s 176us/step - loss: 0.2798 - acc: 0.9365\n",
            "Epoch 13/100\n",
            "5888/5888 [==============================] - 1s 179us/step - loss: 0.2544 - acc: 0.9445\n",
            "Epoch 14/100\n",
            "5888/5888 [==============================] - 1s 177us/step - loss: 0.2301 - acc: 0.9501\n",
            "Epoch 15/100\n",
            "5888/5888 [==============================] - 1s 187us/step - loss: 0.2082 - acc: 0.9564\n",
            "Epoch 16/100\n",
            "5888/5888 [==============================] - 1s 178us/step - loss: 0.1913 - acc: 0.9589\n",
            "Epoch 17/100\n",
            "5888/5888 [==============================] - 1s 180us/step - loss: 0.1752 - acc: 0.9647\n",
            "Epoch 18/100\n",
            "5888/5888 [==============================] - 1s 184us/step - loss: 0.1613 - acc: 0.9672\n",
            "Epoch 19/100\n",
            "5888/5888 [==============================] - 1s 176us/step - loss: 0.1488 - acc: 0.9698\n",
            "Epoch 20/100\n",
            "5888/5888 [==============================] - 1s 174us/step - loss: 0.1377 - acc: 0.9715\n",
            "Epoch 21/100\n",
            "5888/5888 [==============================] - 1s 174us/step - loss: 0.1287 - acc: 0.9738\n",
            "Epoch 22/100\n",
            "5888/5888 [==============================] - 1s 174us/step - loss: 0.1194 - acc: 0.9755\n",
            "Epoch 23/100\n",
            "5888/5888 [==============================] - 1s 181us/step - loss: 0.1098 - acc: 0.9771\n",
            "Epoch 24/100\n",
            "5888/5888 [==============================] - 1s 178us/step - loss: 0.1031 - acc: 0.9784\n",
            "Epoch 25/100\n",
            "5888/5888 [==============================] - 1s 179us/step - loss: 0.0982 - acc: 0.9779\n",
            "Epoch 26/100\n",
            "5888/5888 [==============================] - 1s 178us/step - loss: 0.0900 - acc: 0.9820\n",
            "Epoch 27/100\n",
            "5888/5888 [==============================] - 1s 180us/step - loss: 0.0830 - acc: 0.9830\n",
            "Epoch 28/100\n",
            "5888/5888 [==============================] - 1s 177us/step - loss: 0.0785 - acc: 0.9832\n",
            "Epoch 29/100\n",
            "5888/5888 [==============================] - 1s 170us/step - loss: 0.0745 - acc: 0.9854\n",
            "Epoch 30/100\n",
            "5888/5888 [==============================] - 1s 174us/step - loss: 0.0715 - acc: 0.9859\n",
            "Epoch 31/100\n",
            "5888/5888 [==============================] - 1s 178us/step - loss: 0.0654 - acc: 0.9871\n",
            "Epoch 32/100\n",
            "5888/5888 [==============================] - 1s 171us/step - loss: 0.0633 - acc: 0.9874\n",
            "Epoch 33/100\n",
            "5888/5888 [==============================] - 1s 178us/step - loss: 0.0604 - acc: 0.9874\n",
            "Epoch 34/100\n",
            "5888/5888 [==============================] - 1s 175us/step - loss: 0.0576 - acc: 0.9885\n",
            "Epoch 35/100\n",
            "5888/5888 [==============================] - 1s 179us/step - loss: 0.0543 - acc: 0.9898\n",
            "Epoch 36/100\n",
            "5888/5888 [==============================] - 1s 177us/step - loss: 0.0536 - acc: 0.9881\n",
            "Epoch 37/100\n",
            "5888/5888 [==============================] - 1s 173us/step - loss: 0.0495 - acc: 0.9891\n",
            "Epoch 38/100\n",
            "5888/5888 [==============================] - 1s 170us/step - loss: 0.0479 - acc: 0.9893\n",
            "Epoch 39/100\n",
            "5888/5888 [==============================] - 1s 182us/step - loss: 0.0470 - acc: 0.9886\n",
            "Epoch 40/100\n",
            "5888/5888 [==============================] - 1s 174us/step - loss: 0.0437 - acc: 0.9908\n",
            "Epoch 41/100\n",
            "5888/5888 [==============================] - 1s 177us/step - loss: 0.0422 - acc: 0.9905\n",
            "Epoch 42/100\n",
            "5888/5888 [==============================] - 1s 177us/step - loss: 0.0393 - acc: 0.9901\n",
            "Epoch 43/100\n",
            "5888/5888 [==============================] - 1s 172us/step - loss: 0.0392 - acc: 0.9912\n",
            "Epoch 44/100\n",
            "5888/5888 [==============================] - 1s 176us/step - loss: 0.0381 - acc: 0.9908\n",
            "Epoch 45/100\n",
            "5888/5888 [==============================] - 1s 178us/step - loss: 0.0363 - acc: 0.9912\n",
            "Epoch 46/100\n",
            "5888/5888 [==============================] - 1s 176us/step - loss: 0.0356 - acc: 0.9913\n",
            "Epoch 47/100\n",
            "5888/5888 [==============================] - 1s 172us/step - loss: 0.0348 - acc: 0.9922\n",
            "Epoch 48/100\n",
            "5888/5888 [==============================] - 1s 182us/step - loss: 0.0337 - acc: 0.9920\n",
            "Epoch 49/100\n",
            "5888/5888 [==============================] - 1s 181us/step - loss: 0.0329 - acc: 0.9922\n",
            "Epoch 50/100\n",
            "5888/5888 [==============================] - 1s 181us/step - loss: 0.0327 - acc: 0.9925\n",
            "Epoch 51/100\n",
            "5888/5888 [==============================] - 1s 175us/step - loss: 0.0314 - acc: 0.9929\n",
            "Epoch 52/100\n",
            "5888/5888 [==============================] - 1s 172us/step - loss: 0.0326 - acc: 0.9907\n",
            "Epoch 53/100\n",
            "5888/5888 [==============================] - 1s 181us/step - loss: 0.0306 - acc: 0.9918\n",
            "Epoch 54/100\n",
            "5888/5888 [==============================] - 1s 179us/step - loss: 0.0297 - acc: 0.9924\n",
            "Epoch 55/100\n",
            "5888/5888 [==============================] - 1s 185us/step - loss: 0.0290 - acc: 0.9927\n",
            "Epoch 56/100\n",
            "5888/5888 [==============================] - 1s 185us/step - loss: 0.0285 - acc: 0.9913\n",
            "Epoch 57/100\n",
            "5888/5888 [==============================] - 1s 179us/step - loss: 0.0280 - acc: 0.9922\n",
            "Epoch 58/100\n",
            "5888/5888 [==============================] - 1s 182us/step - loss: 0.0286 - acc: 0.9925\n",
            "Epoch 59/100\n",
            "5888/5888 [==============================] - 1s 179us/step - loss: 0.0283 - acc: 0.9927\n",
            "Epoch 60/100\n",
            "5888/5888 [==============================] - 1s 174us/step - loss: 0.0277 - acc: 0.9925\n",
            "Epoch 61/100\n",
            "5888/5888 [==============================] - 1s 176us/step - loss: 0.0285 - acc: 0.9920\n",
            "Epoch 62/100\n",
            "5888/5888 [==============================] - 1s 174us/step - loss: 0.0261 - acc: 0.9927\n",
            "Epoch 63/100\n",
            "5888/5888 [==============================] - 1s 181us/step - loss: 0.0253 - acc: 0.9929\n",
            "Epoch 64/100\n",
            "5888/5888 [==============================] - 1s 186us/step - loss: 0.0254 - acc: 0.9925\n",
            "Epoch 65/100\n",
            "5888/5888 [==============================] - 1s 181us/step - loss: 0.0248 - acc: 0.9932\n",
            "Epoch 66/100\n",
            "5888/5888 [==============================] - 1s 177us/step - loss: 0.0246 - acc: 0.9929\n",
            "Epoch 67/100\n",
            "5888/5888 [==============================] - 1s 173us/step - loss: 0.0241 - acc: 0.9930\n",
            "Epoch 68/100\n",
            "5888/5888 [==============================] - 1s 181us/step - loss: 0.0264 - acc: 0.9925\n",
            "Epoch 69/100\n",
            "5888/5888 [==============================] - 1s 184us/step - loss: 0.0254 - acc: 0.9930\n",
            "Epoch 70/100\n",
            "5888/5888 [==============================] - 1s 177us/step - loss: 0.0239 - acc: 0.9929\n",
            "Epoch 71/100\n",
            "5888/5888 [==============================] - 1s 175us/step - loss: 0.0239 - acc: 0.9925\n",
            "Epoch 72/100\n",
            "5888/5888 [==============================] - 1s 175us/step - loss: 0.0242 - acc: 0.9922\n",
            "Epoch 73/100\n",
            "5888/5888 [==============================] - 1s 180us/step - loss: 0.0237 - acc: 0.9935\n",
            "Epoch 74/100\n",
            "5888/5888 [==============================] - 1s 184us/step - loss: 0.0223 - acc: 0.9934\n",
            "Epoch 75/100\n",
            "5888/5888 [==============================] - 1s 183us/step - loss: 0.0226 - acc: 0.9930\n",
            "Epoch 76/100\n",
            "5888/5888 [==============================] - 1s 178us/step - loss: 0.0244 - acc: 0.9924\n",
            "Epoch 77/100\n",
            "5888/5888 [==============================] - 1s 175us/step - loss: 0.0247 - acc: 0.9917\n",
            "Epoch 78/100\n",
            "5888/5888 [==============================] - 1s 166us/step - loss: 0.0239 - acc: 0.9924\n",
            "Epoch 79/100\n",
            "5888/5888 [==============================] - 1s 175us/step - loss: 0.0266 - acc: 0.9918\n",
            "Epoch 80/100\n",
            "5888/5888 [==============================] - 1s 174us/step - loss: 0.0252 - acc: 0.9927\n",
            "Epoch 81/100\n",
            "5888/5888 [==============================] - 1s 172us/step - loss: 0.0211 - acc: 0.9935\n",
            "Epoch 82/100\n",
            "5888/5888 [==============================] - 1s 182us/step - loss: 0.0230 - acc: 0.9925\n",
            "Epoch 83/100\n",
            "5888/5888 [==============================] - 1s 173us/step - loss: 0.0216 - acc: 0.9939\n",
            "Epoch 84/100\n",
            "5888/5888 [==============================] - 1s 185us/step - loss: 0.0221 - acc: 0.9935\n",
            "Epoch 85/100\n",
            "5888/5888 [==============================] - 1s 179us/step - loss: 0.0216 - acc: 0.9935\n",
            "Epoch 86/100\n",
            "5888/5888 [==============================] - 1s 177us/step - loss: 0.0214 - acc: 0.9932\n",
            "Epoch 87/100\n",
            "5888/5888 [==============================] - 1s 179us/step - loss: 0.0229 - acc: 0.9925\n",
            "Epoch 88/100\n",
            "5888/5888 [==============================] - 1s 175us/step - loss: 0.0214 - acc: 0.9934\n",
            "Epoch 89/100\n",
            "5888/5888 [==============================] - 1s 177us/step - loss: 0.0212 - acc: 0.9925\n",
            "Epoch 90/100\n",
            "5888/5888 [==============================] - 1s 171us/step - loss: 0.0221 - acc: 0.9937\n",
            "Epoch 91/100\n",
            "5888/5888 [==============================] - 1s 178us/step - loss: 0.0222 - acc: 0.9935\n",
            "Epoch 92/100\n",
            "5888/5888 [==============================] - 1s 181us/step - loss: 0.0228 - acc: 0.9927\n",
            "Epoch 93/100\n",
            "5888/5888 [==============================] - 1s 178us/step - loss: 0.0224 - acc: 0.9934\n",
            "Epoch 94/100\n",
            "5888/5888 [==============================] - 1s 187us/step - loss: 0.0237 - acc: 0.9929\n",
            "Epoch 95/100\n",
            "5888/5888 [==============================] - 1s 176us/step - loss: 0.0218 - acc: 0.9930\n",
            "Epoch 96/100\n",
            "5888/5888 [==============================] - 1s 179us/step - loss: 0.0208 - acc: 0.9937\n",
            "Epoch 97/100\n",
            "5888/5888 [==============================] - 1s 176us/step - loss: 0.0218 - acc: 0.9932\n",
            "Epoch 98/100\n",
            "5888/5888 [==============================] - 1s 176us/step - loss: 0.0219 - acc: 0.9935\n",
            "Epoch 99/100\n",
            "5888/5888 [==============================] - 1s 178us/step - loss: 0.0206 - acc: 0.9939\n",
            "Epoch 100/100\n",
            "5888/5888 [==============================] - 1s 180us/step - loss: 0.0204 - acc: 0.9935\n"
          ],
          "name": "stdout"
        }
      ]
    },
    {
      "cell_type": "code",
      "metadata": {
        "id": "U_-8FvC67jIt",
        "colab_type": "code",
        "colab": {
          "base_uri": "https://localhost:8080/",
          "height": 51
        },
        "outputId": "fa2efb0a-dcea-4f74-c29c-bdacdb6780a5"
      },
      "source": [
        "with tf.Session() as session:\n",
        "  session.run([tf.global_variables_initializer(), tf.tables_initializer()])\n",
        "  x_test = session.run(embed(x_test))"
      ],
      "execution_count": 211,
      "outputs": [
        {
          "output_type": "stream",
          "text": [
            "INFO:tensorflow:Saver not created because there are no variables in the graph to restore\n"
          ],
          "name": "stdout"
        },
        {
          "output_type": "stream",
          "text": [
            "INFO:tensorflow:Saver not created because there are no variables in the graph to restore\n"
          ],
          "name": "stderr"
        }
      ]
    },
    {
      "cell_type": "code",
      "metadata": {
        "id": "yh7KFTBXdaj-",
        "colab_type": "code",
        "colab": {}
      },
      "source": [
        "with tf.Session() as session:\n",
        "    K.set_session(session)\n",
        "    session.run(tf.global_variables_initializer())\n",
        "    session.run(tf.tables_initializer())\n",
        "    model.load_weights('./model_roslyn_Title_Assignee_Prediction.h5')  \n",
        "    predicts = model.predict(x_train, batch_size=32)  "
      ],
      "execution_count": 0,
      "outputs": []
    },
    {
      "cell_type": "code",
      "metadata": {
        "id": "sY2Wve_zIMce",
        "colab_type": "code",
        "outputId": "778b864d-5dd9-45b2-dcf5-81c299b77e42",
        "colab": {
          "base_uri": "https://localhost:8080/",
          "height": 1000
        }
      },
      "source": [
        "y_test = np.asarray(y_enc[:train_size])\n",
        "\n",
        "\n",
        "y_test = decode(le, y_test)\n",
        "y_preds = decode(le, predicts)\n",
        "\n",
        "from sklearn import metrics\n",
        "\n",
        "metrics.confusion_matrix(y_test, y_preds)\n",
        "\n",
        "print(metrics.classification_report(y_test, y_preds))\n"
      ],
      "execution_count": 214,
      "outputs": [
        {
          "output_type": "stream",
          "text": [
            "                     precision    recall  f1-score   support\n",
            "\n",
            "            333fred       1.00      1.00      1.00        15\n",
            "            AArnott       1.00      1.00      1.00         1\n",
            "    AdamSpeight2008       1.00      1.00      1.00         1\n",
            "          AlekseyTs       1.00      1.00      1.00        10\n",
            "           AmadeusW       1.00      1.00      1.00         2\n",
            "         BillWagner       1.00      1.00      1.00         1\n",
            "            Cosifne       1.00      1.00      1.00         1\n",
            "     CyrusNajmabadi       1.00      1.00      1.00         5\n",
            "          JoeRobich       1.00      0.95      0.97        20\n",
            "        RikkiGibson       1.00      0.97      0.98        30\n",
            "              TIHan       0.00      0.00      0.00         0\n",
            "              abock       0.00      0.00      0.00         1\n",
            "             agocke       0.00      0.00      0.00        19\n",
            "        allisonchou       0.00      0.00      0.00         8\n",
            "               alrz       0.00      0.00      0.00         1\n",
            "            canton7       0.00      0.00      0.00         1\n",
            "           castholm       0.00      0.00      0.00         1\n",
            "             chborl       0.00      0.00      0.00         2\n",
            "           chsienki       0.00      0.00      0.00         3\n",
            "              cston       0.00      0.00      0.00         8\n",
            "            davkean       0.00      0.00      0.00         0\n",
            "           dibarbet       0.00      0.00      0.00        17\n",
            "         dotnet-bot       0.00      0.00      0.00       128\n",
            "dotnet-maestro[bot]       0.00      0.00      0.00         2\n",
            "         drewnoakes       0.00      0.00      0.00         1\n",
            "             gafter       0.00      0.00      0.00        91\n",
            "              genlu       0.00      0.00      0.00        15\n",
            "        heejaechang       0.00      0.00      0.00         0\n",
            "         huoyaoyuan       0.00      0.00      0.00         1\n",
            "          ivanbasov       0.00      0.00      0.00        27\n",
            "           jaredpar       0.00      0.00      0.00        23\n",
            "    jasonmalinowski       0.00      0.00      0.00        24\n",
            "              jcouv       0.00      0.00      0.00        47\n",
            "         jinujoseph       0.00      0.00      0.00        20\n",
            "            jmarolf       0.00      0.00      0.00         1\n",
            "               jnm2       0.00      0.00      0.00         2\n",
            "       kendrahavens       0.00      0.00      0.00         1\n",
            "           mavasani       0.00      0.00      0.00        43\n",
            "          nnpcYvIVl       0.00      0.00      0.00         8\n",
            "             olegtk       0.00      0.00      0.00         1\n",
            "           petrroll       0.00      0.00      0.00        10\n",
            "       reaction1989       0.00      0.00      0.00         1\n",
            "           ryzngard       0.00      0.00      0.00        23\n",
            "           sharwell       0.00      0.00      0.00        76\n",
            "        stephentoub       0.00      0.00      0.00         2\n",
            "              svick       0.00      0.00      0.00         0\n",
            "               tmat       0.00      0.00      0.00        16\n",
            "          tmeschter       0.00      0.00      0.00         1\n",
            "          tuespetre       0.00      0.00      0.00         1\n",
            "    vatsalyaagrawal       0.00      0.00      0.00         3\n",
            "\n",
            "           accuracy                           0.12       715\n",
            "          macro avg       0.20      0.20      0.20       715\n",
            "       weighted avg       0.12      0.12      0.12       715\n",
            "\n"
          ],
          "name": "stdout"
        },
        {
          "output_type": "stream",
          "text": [
            "/usr/local/lib/python3.6/dist-packages/sklearn/metrics/classification.py:1437: UndefinedMetricWarning: Precision and F-score are ill-defined and being set to 0.0 in labels with no predicted samples.\n",
            "  'precision', 'predicted', average, warn_for)\n",
            "/usr/local/lib/python3.6/dist-packages/sklearn/metrics/classification.py:1439: UndefinedMetricWarning: Recall and F-score are ill-defined and being set to 0.0 in labels with no true samples.\n",
            "  'recall', 'true', average, warn_for)\n"
          ],
          "name": "stderr"
        }
      ]
    },
    {
      "cell_type": "code",
      "metadata": {
        "id": "bNG02At0yGXV",
        "colab_type": "code",
        "outputId": "0cc87816-5f06-4e19-fe3a-cbaba1e955a5",
        "colab": {
          "base_uri": "https://localhost:8080/",
          "height": 547
        }
      },
      "source": [
        "#statistics\n",
        "data['word_count'] = data['Description'].apply(lambda x: len(str(x).split()))\n",
        "desc_lengths = list(data['word_count'])\n",
        "print(\"Number of descriptions:\",len(desc_lengths),\n",
        "      \"\\nAverage word count\", np.average(desc_lengths),\n",
        "      \"\\nMinimum word count\", min(desc_lengths),\n",
        "      \"\\nMaximum word count\", max(desc_lengths))\n",
        "\n",
        "#Model Graph\n",
        "plot_model(model, to_file='model_roslyn_Title_Assignee_Prediction_plot.png', expand_nested=True, show_shapes=True, show_layer_names=True)\n",
        "\n",
        "#SVG Diagram\n",
        "#SVG(model_to_dot(model).create(prog='dot', format='svg'))\n",
        "\n",
        "\n",
        "\n",
        "# Plot training & validation accuracy values\n",
        "plt.plot(history.history['acc'])\n",
        "plt.plot(history.history['val_acc'])\n",
        "plt.title('Model accuracy')\n",
        "plt.ylabel('Accuracy')\n",
        "plt.xlabel('Epoch')\n",
        "plt.legend(['Train', 'Test'], loc='upper left')\n",
        "plt.show()\n",
        "\n",
        "# Plot training & validation loss values\n",
        "plt.plot(history.history['loss'])\n",
        "plt.plot(history.history['val_loss'])\n",
        "plt.title('Model loss')\n",
        "plt.ylabel('Loss')\n",
        "plt.xlabel('Epoch')\n",
        "plt.legend(['Train', 'Test'], loc='upper left')\n",
        "plt.show()"
      ],
      "execution_count": 26,
      "outputs": [
        {
          "output_type": "stream",
          "text": [
            "Number of descriptions: 895 \n",
            "Average word count 90.37430167597765 \n",
            "Minimum word count 1 \n",
            "Maximum word count 1220\n"
          ],
          "name": "stdout"
        },
        {
          "output_type": "error",
          "ename": "KeyError",
          "evalue": "ignored",
          "traceback": [
            "\u001b[0;31m---------------------------------------------------------------------------\u001b[0m",
            "\u001b[0;31mKeyError\u001b[0m                                  Traceback (most recent call last)",
            "\u001b[0;32m<ipython-input-26-12f28154a795>\u001b[0m in \u001b[0;36m<module>\u001b[0;34m()\u001b[0m\n\u001b[1;32m     16\u001b[0m \u001b[0;31m# Plot training & validation accuracy values\u001b[0m\u001b[0;34m\u001b[0m\u001b[0;34m\u001b[0m\u001b[0;34m\u001b[0m\u001b[0m\n\u001b[1;32m     17\u001b[0m \u001b[0mplt\u001b[0m\u001b[0;34m.\u001b[0m\u001b[0mplot\u001b[0m\u001b[0;34m(\u001b[0m\u001b[0mhistory\u001b[0m\u001b[0;34m.\u001b[0m\u001b[0mhistory\u001b[0m\u001b[0;34m[\u001b[0m\u001b[0;34m'acc'\u001b[0m\u001b[0;34m]\u001b[0m\u001b[0;34m)\u001b[0m\u001b[0;34m\u001b[0m\u001b[0;34m\u001b[0m\u001b[0m\n\u001b[0;32m---> 18\u001b[0;31m \u001b[0mplt\u001b[0m\u001b[0;34m.\u001b[0m\u001b[0mplot\u001b[0m\u001b[0;34m(\u001b[0m\u001b[0mhistory\u001b[0m\u001b[0;34m.\u001b[0m\u001b[0mhistory\u001b[0m\u001b[0;34m[\u001b[0m\u001b[0;34m'val_acc'\u001b[0m\u001b[0;34m]\u001b[0m\u001b[0;34m)\u001b[0m\u001b[0;34m\u001b[0m\u001b[0;34m\u001b[0m\u001b[0m\n\u001b[0m\u001b[1;32m     19\u001b[0m \u001b[0mplt\u001b[0m\u001b[0;34m.\u001b[0m\u001b[0mtitle\u001b[0m\u001b[0;34m(\u001b[0m\u001b[0;34m'Model accuracy'\u001b[0m\u001b[0;34m)\u001b[0m\u001b[0;34m\u001b[0m\u001b[0;34m\u001b[0m\u001b[0m\n\u001b[1;32m     20\u001b[0m \u001b[0mplt\u001b[0m\u001b[0;34m.\u001b[0m\u001b[0mylabel\u001b[0m\u001b[0;34m(\u001b[0m\u001b[0;34m'Accuracy'\u001b[0m\u001b[0;34m)\u001b[0m\u001b[0;34m\u001b[0m\u001b[0;34m\u001b[0m\u001b[0m\n",
            "\u001b[0;31mKeyError\u001b[0m: 'val_acc'"
          ]
        },
        {
          "output_type": "display_data",
          "data": {
            "image/png": "[encoded data removed]",
            "text/plain": [
              "<Figure size 432x288 with 1 Axes>"
            ]
          },
          "metadata": {
            "tags": []
          }
        }
      ]
    },
    {
      "cell_type": "markdown",
      "metadata": {
        "id": "pckCKEEe6q4g",
        "colab_type": "text"
      },
      "source": [
        "# New Section"
      ]
    }
  ]
}