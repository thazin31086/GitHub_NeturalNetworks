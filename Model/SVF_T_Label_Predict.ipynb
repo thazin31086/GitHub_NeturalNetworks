{
  "nbformat": 4,
  "nbformat_minor": 0,
  "metadata": {
    "colab": {
      "name": "SVF_T_Label_Predict.ipynb",
      "provenance": [],
      "collapsed_sections": [],
      "toc_visible": true
    },
    "kernelspec": {
      "name": "python3",
      "display_name": "Python 3"
    }
  },
  "cells": [
    {
      "cell_type": "code",
      "metadata": {
        "id": "3xIbLyam6PAj",
        "colab_type": "code",
        "colab": {
          "base_uri": "https://localhost:8080/",
          "height": 649
        },
        "outputId": "3c32f0fb-48a1-4143-d8ee-dd2d31d97c20"
      },
      "source": [
        "#This Code predict Label for SVF Issues with Title\n",
        "\n",
        "import tensorflow as tf\n",
        "import tensorflow_hub as hub\n",
        "import pandas as pd\n",
        "from sklearn import preprocessing\n",
        "import keras\n",
        "import numpy as np\n",
        "\n",
        "url = \"https://tfhub.dev/google/universal-sentence-encoder-large/3\"\n",
        "embed = hub.Module(url)\n",
        "\n",
        "data = pd.read_csv('IssueDetailsSVF_20102019.csv')\n",
        "data = data.sample(frac=1)\n",
        "\n",
        "y = list(data['Label']) \n",
        "x = list(data['Title']) \n",
        "\n",
        "le = preprocessing.LabelEncoder()\n",
        "le.fit(y)\n",
        "\n",
        "categories = list(set(y))\n",
        "\n",
        "def encode(le, labels):\n",
        "    enc = le.transform(labels)\n",
        "    return keras.utils.to_categorical(enc)\n",
        "\n",
        "def decode(le, one_hot):\n",
        "    dec = np.argmax(one_hot, axis=1)\n",
        "    return le.inverse_transform(dec)\n",
        "\n",
        "test = encode(le,categories)\n",
        "\n",
        "untest = decode(le, test)\n",
        "\n",
        "\n",
        "x_enc = x\n",
        "y_enc = encode(le, y)\n",
        "\n",
        "#80% / 20% train / test split:\n",
        "\n",
        "train_size = int(len(x) * .8)\n",
        "\n",
        "x_train = np.asarray(x_enc[:train_size])\n",
        "y_train = np.asarray(y_enc[:train_size])\n",
        "\n",
        "x_test = np.asarray(x_enc[train_size:])\n",
        "y_test = np.asarray(y_enc[train_size:])\n",
        "\n",
        "from keras.layers import Input, Lambda, Dense\n",
        "from keras.models import Model\n",
        "from keras.optimizers import Adam\n",
        "import keras.backend as K\n",
        "\n",
        "def UniversalEmbedding(x):\n",
        "    return embed(tf.squeeze(tf.cast(x, tf.string)))\n",
        "\n",
        "input_text = Input(shape=(1,), dtype=tf.string)\n",
        "embedding = Lambda(UniversalEmbedding, output_shape=(512, ))(input_text)\n",
        "dense = Dense(256, activation='relu')(embedding)\n",
        "pred = Dense(len(categories), activation='softmax')(dense)\n",
        "adam = Adam(lr=0.04)\n",
        "model = Model(inputs=[input_text], outputs=pred)\n",
        "model.compile(loss='categorical_crossentropy', optimizer=adam, metrics=['accuracy'])\n",
        "\n",
        "with tf.Session() as session:\n",
        "    K.set_session(session)\n",
        "    session.run(tf.global_variables_initializer())  \n",
        "    session.run(tf.tables_initializer())\n",
        "    history = model.fit(x_train, y_train, epochs=10, batch_size=32)\n",
        "    model.save_weights('./SVF_T_Label_Predict.h5')\n",
        "\n",
        "with tf.Session() as session:\n",
        "    K.set_session(session)\n",
        "    session.run(tf.global_variables_initializer())\n",
        "    session.run(tf.tables_initializer())\n",
        "    model.load_weights('./SVF_T_Label_Predict.h5')  \n",
        "    predicts = model.predict(x_test, batch_size=32)  \n",
        "\n",
        "y_test = np.asarray(y_enc[train_size:])\n",
        "y_test = decode(le, y_test)\n",
        "y_preds = decode(le, predicts)\n",
        "\n",
        "from sklearn import metrics\n",
        "\n",
        "metrics.confusion_matrix(y_test, y_preds)\n",
        "\n",
        "print(metrics.classification_report(y_test, y_preds))"
      ],
      "execution_count": 3,
      "outputs": [
        {
          "output_type": "stream",
          "text": [
            "INFO:tensorflow:Saver not created because there are no variables in the graph to restore\n"
          ],
          "name": "stdout"
        },
        {
          "output_type": "stream",
          "text": [
            "INFO:tensorflow:Saver not created because there are no variables in the graph to restore\n"
          ],
          "name": "stderr"
        },
        {
          "output_type": "stream",
          "text": [
            "Epoch 1/10\n",
            "73/73 [==============================] - 5s 73ms/step - loss: 1.6287 - acc: 0.5068\n",
            "Epoch 2/10\n",
            "73/73 [==============================] - 1s 8ms/step - loss: 1.1586 - acc: 0.6712\n",
            "Epoch 3/10\n",
            "73/73 [==============================] - 1s 8ms/step - loss: 0.9166 - acc: 0.6164\n",
            "Epoch 4/10\n",
            "73/73 [==============================] - 1s 8ms/step - loss: 0.6450 - acc: 0.7260\n",
            "Epoch 5/10\n",
            "73/73 [==============================] - 1s 8ms/step - loss: 0.4254 - acc: 0.8219\n",
            "Epoch 6/10\n",
            "73/73 [==============================] - 1s 8ms/step - loss: 0.3738 - acc: 0.8493\n",
            "Epoch 7/10\n",
            "73/73 [==============================] - 1s 8ms/step - loss: 0.2230 - acc: 0.9315\n",
            "Epoch 8/10\n",
            "73/73 [==============================] - 1s 8ms/step - loss: 0.1753 - acc: 0.9589\n",
            "Epoch 9/10\n",
            "73/73 [==============================] - 1s 8ms/step - loss: 0.0786 - acc: 0.9726\n",
            "Epoch 10/10\n",
            "73/73 [==============================] - 1s 8ms/step - loss: 0.0450 - acc: 1.0000\n",
            "              precision    recall  f1-score   support\n",
            "\n",
            "         bug       0.00      0.00      0.00         1\n",
            " enhancement       1.00      0.14      0.25         7\n",
            " help wanted       0.00      0.00      0.00         4\n",
            "     invalid       1.00      0.50      0.67         2\n",
            "    question       0.31      0.80      0.44         5\n",
            "\n",
            "    accuracy                           0.32        19\n",
            "   macro avg       0.46      0.29      0.27        19\n",
            "weighted avg       0.55      0.32      0.28        19\n",
            "\n"
          ],
          "name": "stdout"
        },
        {
          "output_type": "stream",
          "text": [
            "/usr/local/lib/python3.6/dist-packages/sklearn/metrics/classification.py:1437: UndefinedMetricWarning: Precision and F-score are ill-defined and being set to 0.0 in labels with no predicted samples.\n",
            "  'precision', 'predicted', average, warn_for)\n"
          ],
          "name": "stderr"
        }
      ]
    },
    {
      "cell_type": "markdown",
      "metadata": {
        "id": "pckCKEEe6q4g",
        "colab_type": "text"
      },
      "source": [
        "# New Section"
      ]
    }
  ]
}