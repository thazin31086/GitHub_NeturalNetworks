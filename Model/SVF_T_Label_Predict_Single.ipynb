{
  "nbformat": 4,
  "nbformat_minor": 0,
  "metadata": {
    "colab": {
      "name": "SVF_Title_Assignee_Predict.ipynb",
      "provenance": [],
      "collapsed_sections": [],
      "toc_visible": true
    },
    "kernelspec": {
      "name": "python3",
      "display_name": "Python 3"
    }
  },
  "cells": [
    {
      "cell_type": "code",
      "metadata": {
        "id": "3xIbLyam6PAj",
        "colab_type": "code",
        "colab": {}
      },
      "source": [
        "#This Code predict Label for SVF Issues with Title\n",
        "\n",
        "import tensorflow as tf\n",
        "import tensorflow_hub as hub\n",
        "import pandas as pd\n",
        "from sklearn import preprocessing\n",
        "import keras\n",
        "import numpy as np\n",
        "\n",
        "url = \"https://tfhub.dev/google/universal-sentence-encoder-large/3\"\n",
        "embed = hub.Module(url)\n",
        "\n",
        "data = pd.read_csv('IssueDetailsSVF_20102019_Single.csv')\n",
        "data = data.sample(frac=1)\n",
        "\n",
        "y = list(data['Label']) \n",
        "x = list(data['Title']) \n",
        "\n",
        "le = preprocessing.LabelEncoder()\n",
        "le.fit(y)\n",
        "\n",
        "categories = list(set(y))\n",
        "\n",
        "def encode(le, labels):\n",
        "    enc = le.transform(labels)\n",
        "    return keras.utils.to_categorical(enc)\n",
        "\n",
        "def decode(le, one_hot):\n",
        "    dec = np.argmax(one_hot, axis=1)\n",
        "    return le.inverse_transform(dec)\n",
        "\n",
        "test = encode(le,categories)\n",
        "\n",
        "untest = decode(le, test)\n",
        "\n",
        "\n",
        "x_enc = x\n",
        "y_enc = encode(le, y)\n",
        "\n",
        "#80% / 20% train / test split:\n",
        "\n",
        "train_size = int(len(x) * .8)\n",
        "\n",
        "x_train = np.asarray(x_enc[:train_size])\n",
        "y_train = np.asarray(y_enc[:train_size])\n",
        "\n",
        "x_test = np.asarray(x_enc[train_size:])\n",
        "y_test = np.asarray(y_enc[train_size:])"
      ],
      "execution_count": 0,
      "outputs": []
    },
    {
      "cell_type": "code",
      "metadata": {
        "id": "Lxgn6vzHdReY",
        "colab_type": "code",
        "colab": {}
      },
      "source": [
        "from keras.layers import Input, Lambda, Dense\n",
        "from keras.models import Model\n",
        "import keras.backend as K\n",
        "\n",
        "def UniversalEmbedding(x):\n",
        "    return embed(tf.squeeze(tf.cast(x, tf.string)))"
      ],
      "execution_count": 0,
      "outputs": []
    },
    {
      "cell_type": "code",
      "metadata": {
        "id": "Wfe-mPpJdUA0",
        "colab_type": "code",
        "outputId": "31145150-9e22-4509-c8c7-e98ac34eabd7",
        "colab": {
          "base_uri": "https://localhost:8080/",
          "height": 51
        }
      },
      "source": [
        "input_text = Input(shape=(1,), dtype=tf.string)\n",
        "embedding = Lambda(UniversalEmbedding, output_shape=(512, ))(input_text)\n",
        "dense = Dense(256, activation='relu')(embedding)\n",
        "pred = Dense(len(categories), activation='softmax')(dense)\n",
        "model = Model(inputs=[input_text], outputs=pred)\n",
        "model.compile(loss='categorical_crossentropy', optimizer='adam', metrics=['accuracy'])"
      ],
      "execution_count": 37,
      "outputs": [
        {
          "output_type": "stream",
          "text": [
            "INFO:tensorflow:Saver not created because there are no variables in the graph to restore\n"
          ],
          "name": "stdout"
        },
        {
          "output_type": "stream",
          "text": [
            "INFO:tensorflow:Saver not created because there are no variables in the graph to restore\n"
          ],
          "name": "stderr"
        }
      ]
    },
    {
      "cell_type": "code",
      "metadata": {
        "id": "kL5QKGbCdWEs",
        "colab_type": "code",
        "outputId": "d2478a7e-9395-46b5-9aea-701b6acff7c6",
        "colab": {
          "base_uri": "https://localhost:8080/",
          "height": 1000
        }
      },
      "source": [
        "with tf.Session() as session:\n",
        "    K.set_session(session)\n",
        "    session.run(tf.global_variables_initializer())  \n",
        "    session.run(tf.tables_initializer())\n",
        "    history = model.fit(x_train, y_train, epochs=60, batch_size=32)\n",
        "    model.save_weights('./SVF_T_Label_Predict_Single.h5')"
      ],
      "execution_count": 38,
      "outputs": [
        {
          "output_type": "stream",
          "text": [
            "Epoch 1/60\n",
            "73/73 [==============================] - 10s 143ms/step - loss: 1.7697 - acc: 0.2603\n",
            "Epoch 2/60\n",
            "73/73 [==============================] - 1s 11ms/step - loss: 1.6637 - acc: 0.4932\n",
            "Epoch 3/60\n",
            "73/73 [==============================] - 1s 11ms/step - loss: 1.5653 - acc: 0.5068\n",
            "Epoch 4/60\n",
            "73/73 [==============================] - 1s 11ms/step - loss: 1.4750 - acc: 0.4932\n",
            "Epoch 5/60\n",
            "73/73 [==============================] - 1s 11ms/step - loss: 1.4000 - acc: 0.4932\n",
            "Epoch 6/60\n",
            "73/73 [==============================] - 1s 11ms/step - loss: 1.3343 - acc: 0.4932\n",
            "Epoch 7/60\n",
            "73/73 [==============================] - 1s 11ms/step - loss: 1.2990 - acc: 0.4932\n",
            "Epoch 8/60\n",
            "73/73 [==============================] - 1s 11ms/step - loss: 1.2737 - acc: 0.4932\n",
            "Epoch 9/60\n",
            "73/73 [==============================] - 1s 12ms/step - loss: 1.2486 - acc: 0.4932\n",
            "Epoch 10/60\n",
            "73/73 [==============================] - 1s 12ms/step - loss: 1.2202 - acc: 0.4932\n",
            "Epoch 11/60\n",
            "73/73 [==============================] - 1s 11ms/step - loss: 1.1819 - acc: 0.4932\n",
            "Epoch 12/60\n",
            "73/73 [==============================] - 1s 11ms/step - loss: 1.1442 - acc: 0.5205\n",
            "Epoch 13/60\n",
            "73/73 [==============================] - 1s 11ms/step - loss: 1.1170 - acc: 0.5342\n",
            "Epoch 14/60\n",
            "73/73 [==============================] - 1s 11ms/step - loss: 1.0877 - acc: 0.5890\n",
            "Epoch 15/60\n",
            "73/73 [==============================] - 1s 11ms/step - loss: 1.0569 - acc: 0.6301\n",
            "Epoch 16/60\n",
            "73/73 [==============================] - 1s 12ms/step - loss: 1.0278 - acc: 0.6438\n",
            "Epoch 17/60\n",
            "73/73 [==============================] - 1s 11ms/step - loss: 0.9969 - acc: 0.6712\n",
            "Epoch 18/60\n",
            "73/73 [==============================] - 1s 12ms/step - loss: 0.9666 - acc: 0.6849\n",
            "Epoch 19/60\n",
            "73/73 [==============================] - 1s 12ms/step - loss: 0.9367 - acc: 0.6986\n",
            "Epoch 20/60\n",
            "73/73 [==============================] - 1s 12ms/step - loss: 0.9078 - acc: 0.7123\n",
            "Epoch 21/60\n",
            "73/73 [==============================] - 1s 11ms/step - loss: 0.8798 - acc: 0.7671\n",
            "Epoch 22/60\n",
            "73/73 [==============================] - 1s 11ms/step - loss: 0.8523 - acc: 0.7671\n",
            "Epoch 23/60\n",
            "73/73 [==============================] - 1s 12ms/step - loss: 0.8237 - acc: 0.7671\n",
            "Epoch 24/60\n",
            "73/73 [==============================] - 1s 11ms/step - loss: 0.8002 - acc: 0.7808\n",
            "Epoch 25/60\n",
            "73/73 [==============================] - 1s 12ms/step - loss: 0.7728 - acc: 0.7945\n",
            "Epoch 26/60\n",
            "73/73 [==============================] - 1s 12ms/step - loss: 0.7449 - acc: 0.8219\n",
            "Epoch 27/60\n",
            "73/73 [==============================] - 1s 11ms/step - loss: 0.7191 - acc: 0.8082\n",
            "Epoch 28/60\n",
            "73/73 [==============================] - 1s 11ms/step - loss: 0.6952 - acc: 0.7808\n",
            "Epoch 29/60\n",
            "73/73 [==============================] - 1s 11ms/step - loss: 0.6672 - acc: 0.8356\n",
            "Epoch 30/60\n",
            "73/73 [==============================] - 1s 11ms/step - loss: 0.6393 - acc: 0.8219\n",
            "Epoch 31/60\n",
            "73/73 [==============================] - 1s 11ms/step - loss: 0.6158 - acc: 0.8493\n",
            "Epoch 32/60\n",
            "73/73 [==============================] - 1s 11ms/step - loss: 0.5913 - acc: 0.8493\n",
            "Epoch 33/60\n",
            "73/73 [==============================] - 1s 11ms/step - loss: 0.5705 - acc: 0.8767\n",
            "Epoch 34/60\n",
            "73/73 [==============================] - 1s 12ms/step - loss: 0.5477 - acc: 0.8904\n",
            "Epoch 35/60\n",
            "73/73 [==============================] - 1s 12ms/step - loss: 0.5238 - acc: 0.9041\n",
            "Epoch 36/60\n",
            "73/73 [==============================] - 1s 11ms/step - loss: 0.5043 - acc: 0.8904\n",
            "Epoch 37/60\n",
            "73/73 [==============================] - 1s 11ms/step - loss: 0.4813 - acc: 0.8904\n",
            "Epoch 38/60\n",
            "73/73 [==============================] - 1s 12ms/step - loss: 0.4624 - acc: 0.9178\n",
            "Epoch 39/60\n",
            "73/73 [==============================] - 1s 12ms/step - loss: 0.4427 - acc: 0.9041\n",
            "Epoch 40/60\n",
            "73/73 [==============================] - 1s 11ms/step - loss: 0.4260 - acc: 0.9041\n",
            "Epoch 41/60\n",
            "73/73 [==============================] - 1s 12ms/step - loss: 0.4139 - acc: 0.8904\n",
            "Epoch 42/60\n",
            "73/73 [==============================] - 1s 11ms/step - loss: 0.3979 - acc: 0.9178\n",
            "Epoch 43/60\n",
            "73/73 [==============================] - 1s 11ms/step - loss: 0.3799 - acc: 0.9041\n",
            "Epoch 44/60\n",
            "73/73 [==============================] - 1s 11ms/step - loss: 0.3620 - acc: 0.9452\n",
            "Epoch 45/60\n",
            "73/73 [==============================] - 1s 11ms/step - loss: 0.3477 - acc: 0.9452\n",
            "Epoch 46/60\n",
            "73/73 [==============================] - 1s 11ms/step - loss: 0.3344 - acc: 0.9452\n",
            "Epoch 47/60\n",
            "73/73 [==============================] - 1s 11ms/step - loss: 0.3203 - acc: 0.9589\n",
            "Epoch 48/60\n",
            "73/73 [==============================] - 1s 11ms/step - loss: 0.3078 - acc: 0.9589\n",
            "Epoch 49/60\n",
            "73/73 [==============================] - 1s 12ms/step - loss: 0.2967 - acc: 0.9589\n",
            "Epoch 50/60\n",
            "73/73 [==============================] - 1s 11ms/step - loss: 0.2849 - acc: 0.9589\n",
            "Epoch 51/60\n",
            "73/73 [==============================] - 1s 12ms/step - loss: 0.2740 - acc: 0.9726\n",
            "Epoch 52/60\n",
            "73/73 [==============================] - 1s 11ms/step - loss: 0.2626 - acc: 0.9863\n",
            "Epoch 53/60\n",
            "73/73 [==============================] - 1s 12ms/step - loss: 0.2512 - acc: 0.9726\n",
            "Epoch 54/60\n",
            "73/73 [==============================] - 1s 11ms/step - loss: 0.2428 - acc: 0.9726\n",
            "Epoch 55/60\n",
            "73/73 [==============================] - 1s 11ms/step - loss: 0.2344 - acc: 0.9726\n",
            "Epoch 56/60\n",
            "73/73 [==============================] - 1s 12ms/step - loss: 0.2240 - acc: 0.9726\n",
            "Epoch 57/60\n",
            "73/73 [==============================] - 1s 11ms/step - loss: 0.2129 - acc: 0.9863\n",
            "Epoch 58/60\n",
            "73/73 [==============================] - 1s 11ms/step - loss: 0.2036 - acc: 1.0000\n",
            "Epoch 59/60\n",
            "73/73 [==============================] - 1s 12ms/step - loss: 0.1964 - acc: 1.0000\n",
            "Epoch 60/60\n",
            "73/73 [==============================] - 1s 11ms/step - loss: 0.1894 - acc: 1.0000\n"
          ],
          "name": "stdout"
        }
      ]
    },
    {
      "cell_type": "code",
      "metadata": {
        "id": "yh7KFTBXdaj-",
        "colab_type": "code",
        "colab": {}
      },
      "source": [
        "with tf.Session() as session:\n",
        "    K.set_session(session)\n",
        "    session.run(tf.global_variables_initializer())\n",
        "    session.run(tf.tables_initializer())\n",
        "    model.load_weights('./SVF_T_Label_Predict_Single.h5')  \n",
        "    predicts = model.predict(x_test, batch_size=32)  "
      ],
      "execution_count": 0,
      "outputs": []
    },
    {
      "cell_type": "code",
      "metadata": {
        "id": "cVG_eZ8jdbzN",
        "colab_type": "code",
        "outputId": "6b91315c-e0bc-4e13-90d5-26e9c54f9e10",
        "colab": {
          "base_uri": "https://localhost:8080/",
          "height": 275
        }
      },
      "source": [
        "y_test = np.asarray(y_enc[train_size:])\n",
        "y_test = decode(le, y_test)\n",
        "y_preds = decode(le, predicts)\n",
        "\n",
        "from sklearn import metrics\n",
        "\n",
        "metrics.confusion_matrix(y_test, y_preds)\n",
        "\n",
        "print(metrics.classification_report(y_test, y_preds))\n",
        "\n"
      ],
      "execution_count": 31,
      "outputs": [
        {
          "output_type": "stream",
          "text": [
            "              precision    recall  f1-score   support\n",
            "\n",
            "         bug       0.00      0.00      0.00         2\n",
            " enhancement       0.14      0.25      0.18         4\n",
            " help wanted       0.00      0.00      0.00         3\n",
            "     invalid       0.00      0.00      0.00         1\n",
            "    question       0.45      0.56      0.50         9\n",
            "\n",
            "    accuracy                           0.32        19\n",
            "   macro avg       0.12      0.16      0.14        19\n",
            "weighted avg       0.25      0.32      0.28        19\n",
            "\n"
          ],
          "name": "stdout"
        },
        {
          "output_type": "stream",
          "text": [
            "/usr/local/lib/python3.6/dist-packages/sklearn/metrics/classification.py:1437: UndefinedMetricWarning: Precision and F-score are ill-defined and being set to 0.0 in labels with no predicted samples.\n",
            "  'precision', 'predicted', average, warn_for)\n"
          ],
          "name": "stderr"
        }
      ]
    },
    {
      "cell_type": "code",
      "metadata": {
        "id": "bNG02At0yGXV",
        "colab_type": "code",
        "colab": {}
      },
      "source": [
        ""
      ],
      "execution_count": 0,
      "outputs": []
    },
    {
      "cell_type": "markdown",
      "metadata": {
        "id": "pckCKEEe6q4g",
        "colab_type": "text"
      },
      "source": [
        "# New Section"
      ]
    }
  ]
}