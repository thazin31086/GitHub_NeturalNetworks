{
  "nbformat": 4,
  "nbformat_minor": 0,
  "metadata": {
    "colab": {
      "name": "Roslyn_Title_Assignee_Predict.ipynb",
      "provenance": [],
      "collapsed_sections": [],
      "toc_visible": true
    },
    "kernelspec": {
      "name": "python3",
      "display_name": "Python 3"
    }
  },
  "cells": [
    {
      "cell_type": "code",
      "metadata": {
        "id": "3xIbLyam6PAj",
        "colab_type": "code",
        "colab": {}
      },
      "source": [
        "#This Code predict Assignee for Roslyn Issues with Title\n",
        "\n",
        "import tensorflow as tf\n",
        "import tensorflow_hub as hub\n",
        "import pandas as pd\n",
        "from sklearn import preprocessing\n",
        "import keras\n",
        "import numpy as np\n",
        "\n",
        "url = \"https://tfhub.dev/google/universal-sentence-encoder-large/3\"\n",
        "embed = hub.Module(url)\n",
        "\n",
        "data = pd.read_csv('IssueDetailsRoslyn_20102019.csv', encoding='latin-1')\n",
        "\n",
        "y = list(data['Assignee']) \n",
        "x = list(data['Title']) \n",
        "\n",
        "le = preprocessing.LabelEncoder()\n",
        "le.fit(y)\n",
        "\n",
        "categories = list(set(y))\n",
        "\n",
        "def encode(le, labels):\n",
        "    enc = le.transform(labels)\n",
        "    return keras.utils.to_categorical(enc)\n",
        "\n",
        "def decode(le, one_hot):\n",
        "    dec = np.argmax(one_hot, axis=1)\n",
        "    return le.inverse_transform(dec)\n",
        "\n",
        "test = encode(le,categories)\n",
        "\n",
        "untest = decode(le, test)\n",
        "\n",
        "x_enc = x\n",
        "y_enc = encode(le, y)\n",
        "\n",
        "#80% / 20% train / test split:\n",
        "\n",
        "train_size = int(len(x) * .8)\n",
        "\n",
        "x_train = np.asarray(x_enc[:train_size])\n",
        "y_train = np.asarray(y_enc[:train_size])\n",
        "\n",
        "x_test = np.asarray(x_enc[train_size:])\n",
        "y_test = np.asarray(y_enc[train_size:])"
      ],
      "execution_count": 0,
      "outputs": []
    },
    {
      "cell_type": "code",
      "metadata": {
        "id": "Lxgn6vzHdReY",
        "colab_type": "code",
        "colab": {}
      },
      "source": [
        "from keras.layers import Input, Lambda, Dense\n",
        "from keras.models import Model\n",
        "import keras.backend as K\n",
        "\n",
        "def UniversalEmbedding(x):\n",
        "    return embed(tf.squeeze(tf.cast(x, tf.string)))"
      ],
      "execution_count": 0,
      "outputs": []
    },
    {
      "cell_type": "code",
      "metadata": {
        "id": "Wfe-mPpJdUA0",
        "colab_type": "code",
        "outputId": "9e8b7fdd-d189-45c2-e73b-47f3cd565e6c",
        "colab": {
          "base_uri": "https://localhost:8080/",
          "height": 51
        }
      },
      "source": [
        "input_text = Input(shape=(1,), dtype=tf.string)\n",
        "embedding = Lambda(UniversalEmbedding, output_shape=(512, ))(input_text)\n",
        "dense = Dense(256, activation='relu')(embedding)\n",
        "pred = Dense(len(categories), activation='softmax')(dense)\n",
        "model = Model(inputs=[input_text], outputs=pred)\n",
        "model.compile(loss='categorical_crossentropy', optimizer='adam', metrics=['accuracy'])"
      ],
      "execution_count": 14,
      "outputs": [
        {
          "output_type": "stream",
          "text": [
            "INFO:tensorflow:Saver not created because there are no variables in the graph to restore\n"
          ],
          "name": "stdout"
        },
        {
          "output_type": "stream",
          "text": [
            "INFO:tensorflow:Saver not created because there are no variables in the graph to restore\n"
          ],
          "name": "stderr"
        }
      ]
    },
    {
      "cell_type": "code",
      "metadata": {
        "id": "kL5QKGbCdWEs",
        "colab_type": "code",
        "outputId": "4895b743-0f84-4cb1-bcfc-1687eef122e5",
        "colab": {
          "base_uri": "https://localhost:8080/",
          "height": 1000
        }
      },
      "source": [
        "with tf.Session() as session:\n",
        "    K.set_session(session)\n",
        "    session.run(tf.global_variables_initializer())  \n",
        "    session.run(tf.tables_initializer())\n",
        "    history = model.fit(x_train, y_train, epochs=30, batch_size=32)\n",
        "    model.save_weights('./model_roslyn_Title_Assignee_Prediction.h5')"
      ],
      "execution_count": 15,
      "outputs": [
        {
          "output_type": "stream",
          "text": [
            "WARNING:tensorflow:From /usr/local/lib/python3.6/dist-packages/tensorflow_core/python/ops/math_grad.py:1424: where (from tensorflow.python.ops.array_ops) is deprecated and will be removed in a future version.\n",
            "Instructions for updating:\n",
            "Use tf.where in 2.0, which has the same broadcast rule as np.where\n"
          ],
          "name": "stdout"
        },
        {
          "output_type": "stream",
          "text": [
            "WARNING:tensorflow:From /usr/local/lib/python3.6/dist-packages/tensorflow_core/python/ops/math_grad.py:1424: where (from tensorflow.python.ops.array_ops) is deprecated and will be removed in a future version.\n",
            "Instructions for updating:\n",
            "Use tf.where in 2.0, which has the same broadcast rule as np.where\n"
          ],
          "name": "stderr"
        },
        {
          "output_type": "stream",
          "text": [
            "WARNING:tensorflow:From /usr/local/lib/python3.6/dist-packages/keras/backend/tensorflow_backend.py:1033: The name tf.assign_add is deprecated. Please use tf.compat.v1.assign_add instead.\n",
            "\n"
          ],
          "name": "stdout"
        },
        {
          "output_type": "stream",
          "text": [
            "WARNING:tensorflow:From /usr/local/lib/python3.6/dist-packages/keras/backend/tensorflow_backend.py:1033: The name tf.assign_add is deprecated. Please use tf.compat.v1.assign_add instead.\n",
            "\n"
          ],
          "name": "stderr"
        },
        {
          "output_type": "stream",
          "text": [
            "WARNING:tensorflow:From /usr/local/lib/python3.6/dist-packages/keras/backend/tensorflow_backend.py:1020: The name tf.assign is deprecated. Please use tf.compat.v1.assign instead.\n",
            "\n"
          ],
          "name": "stdout"
        },
        {
          "output_type": "stream",
          "text": [
            "WARNING:tensorflow:From /usr/local/lib/python3.6/dist-packages/keras/backend/tensorflow_backend.py:1020: The name tf.assign is deprecated. Please use tf.compat.v1.assign instead.\n",
            "\n"
          ],
          "name": "stderr"
        },
        {
          "output_type": "stream",
          "text": [
            "Epoch 1/30\n",
            "WARNING:tensorflow:From /usr/local/lib/python3.6/dist-packages/keras/backend/tensorflow_backend.py:223: The name tf.variables_initializer is deprecated. Please use tf.compat.v1.variables_initializer instead.\n",
            "\n"
          ],
          "name": "stdout"
        },
        {
          "output_type": "stream",
          "text": [
            "WARNING:tensorflow:From /usr/local/lib/python3.6/dist-packages/keras/backend/tensorflow_backend.py:223: The name tf.variables_initializer is deprecated. Please use tf.compat.v1.variables_initializer instead.\n",
            "\n"
          ],
          "name": "stderr"
        },
        {
          "output_type": "stream",
          "text": [
            "716/716 [==============================] - 18s 25ms/step - loss: 5.5351 - acc: 0.0656\n",
            "Epoch 2/30\n",
            "716/716 [==============================] - 9s 12ms/step - loss: 4.7703 - acc: 0.0922\n",
            "Epoch 3/30\n",
            "716/716 [==============================] - 8s 11ms/step - loss: 4.3125 - acc: 0.1494\n",
            "Epoch 4/30\n",
            "716/716 [==============================] - 8s 11ms/step - loss: 4.1056 - acc: 0.1704\n",
            "Epoch 5/30\n",
            "716/716 [==============================] - 8s 11ms/step - loss: 3.9389 - acc: 0.2025\n",
            "Epoch 6/30\n",
            "716/716 [==============================] - 8s 11ms/step - loss: 3.8000 - acc: 0.2067\n",
            "Epoch 7/30\n",
            "716/716 [==============================] - 8s 11ms/step - loss: 3.6665 - acc: 0.2249\n",
            "Epoch 8/30\n",
            "716/716 [==============================] - 8s 11ms/step - loss: 3.5406 - acc: 0.2221\n",
            "Epoch 9/30\n",
            "716/716 [==============================] - 8s 11ms/step - loss: 3.4219 - acc: 0.2444\n",
            "Epoch 10/30\n",
            "716/716 [==============================] - 8s 12ms/step - loss: 3.3144 - acc: 0.2374\n",
            "Epoch 11/30\n",
            "716/716 [==============================] - 8s 11ms/step - loss: 3.1972 - acc: 0.2542\n",
            "Epoch 12/30\n",
            "716/716 [==============================] - 8s 12ms/step - loss: 3.0782 - acc: 0.2528\n",
            "Epoch 13/30\n",
            "716/716 [==============================] - 8s 12ms/step - loss: 2.9636 - acc: 0.2751\n",
            "Epoch 14/30\n",
            "716/716 [==============================] - 8s 11ms/step - loss: 2.8568 - acc: 0.2640\n",
            "Epoch 15/30\n",
            "716/716 [==============================] - 8s 11ms/step - loss: 2.7483 - acc: 0.2891\n",
            "Epoch 16/30\n",
            "716/716 [==============================] - 8s 11ms/step - loss: 2.6322 - acc: 0.2947\n",
            "Epoch 17/30\n",
            "716/716 [==============================] - 8s 11ms/step - loss: 2.5339 - acc: 0.3296\n",
            "Epoch 18/30\n",
            "716/716 [==============================] - 8s 11ms/step - loss: 2.4233 - acc: 0.3575\n",
            "Epoch 19/30\n",
            "716/716 [==============================] - 8s 11ms/step - loss: 2.3299 - acc: 0.3520\n",
            "Epoch 20/30\n",
            "716/716 [==============================] - 8s 11ms/step - loss: 2.2375 - acc: 0.3841\n",
            "Epoch 21/30\n",
            "716/716 [==============================] - 8s 11ms/step - loss: 2.1412 - acc: 0.4316\n",
            "Epoch 22/30\n",
            "716/716 [==============================] - 8s 11ms/step - loss: 2.0563 - acc: 0.4385\n",
            "Epoch 23/30\n",
            "716/716 [==============================] - 8s 11ms/step - loss: 1.9681 - acc: 0.4916\n",
            "Epoch 24/30\n",
            "716/716 [==============================] - 8s 11ms/step - loss: 1.8945 - acc: 0.5140\n",
            "Epoch 25/30\n",
            "716/716 [==============================] - 8s 11ms/step - loss: 1.8227 - acc: 0.5349\n",
            "Epoch 26/30\n",
            "716/716 [==============================] - 8s 11ms/step - loss: 1.7602 - acc: 0.5279\n",
            "Epoch 27/30\n",
            "716/716 [==============================] - 8s 11ms/step - loss: 1.6820 - acc: 0.5782\n",
            "Epoch 28/30\n",
            "716/716 [==============================] - 8s 11ms/step - loss: 1.6318 - acc: 0.5838\n",
            "Epoch 29/30\n",
            "716/716 [==============================] - 8s 11ms/step - loss: 1.5861 - acc: 0.5908\n",
            "Epoch 30/30\n",
            "716/716 [==============================] - 8s 11ms/step - loss: 1.5366 - acc: 0.6201\n"
          ],
          "name": "stdout"
        }
      ]
    },
    {
      "cell_type": "code",
      "metadata": {
        "id": "yh7KFTBXdaj-",
        "colab_type": "code",
        "colab": {}
      },
      "source": [
        "with tf.Session() as session:\n",
        "    K.set_session(session)\n",
        "    session.run(tf.global_variables_initializer())\n",
        "    session.run(tf.tables_initializer())\n",
        "    model.load_weights('./model_roslyn_Title_Assignee_Prediction.h5')  \n",
        "    predicts = model.predict(x_test, batch_size=32)  "
      ],
      "execution_count": 0,
      "outputs": []
    },
    {
      "cell_type": "code",
      "metadata": {
        "id": "sY2Wve_zIMce",
        "colab_type": "code",
        "outputId": "b974164b-a8ea-4143-b55f-8f56bd722390",
        "colab": {
          "base_uri": "https://localhost:8080/",
          "height": 1000
        }
      },
      "source": [
        "y_test = np.asarray(y_enc[train_size:])\n",
        "\n",
        "\n",
        "y_test = decode(le, y_test)\n",
        "y_preds = decode(le, predicts)\n",
        "\n",
        "from sklearn import metrics\n",
        "\n",
        "metrics.confusion_matrix(y_test, y_preds)\n",
        "\n",
        "print(metrics.classification_report(y_test, y_preds))\n"
      ],
      "execution_count": 17,
      "outputs": [
        {
          "output_type": "stream",
          "text": [
            "                                                                                                                      precision    recall  f1-score   support\n",
            "\n",
            "                                                                                                      333fred|gafter       0.00      0.00      0.00         1\n",
            "                                                                            333fred|jaredpar|heejaechang|tmat|agocke       0.00      0.00      0.00         1\n",
            "   333fred|jasonmalinowski|ryzngard|jaredpar|agocke|gafter|RikkiGibson|VSadov|AlekseyTs|cston|jcouv|chsienki|fayrose       0.00      0.00      0.00         1\n",
            "                                                                                               333fred|tmat|jaredpar       0.00      0.00      0.00         1\n",
            "                                                                                                           AlekseyTs       0.00      0.00      0.00         3\n",
            "                                                                                                    AlekseyTs|gafter       0.00      0.00      0.00         1\n",
            "                            AlekseyTs|jaredpar|agocke|333fred|gafter|RikkiGibson|VSadov|cston|jcouv|chsienki|fayrose       0.00      0.00      0.00         1\n",
            "                                                                                           AlekseyTs|jaredpar|gafter       0.00      0.00      0.00         1\n",
            "                                                                          AmadeusW|gafter|ivanbasov|genlu|jinujoseph       0.00      0.00      0.00         1\n",
            "                                                                 BillWagner|CyrusNajmabadi|jcouv|jinujoseph|sharwell       0.00      0.00      0.00         1\n",
            "                                                                                    Cosifne|sharwell|vatsalyaagrawal       0.00      0.00      0.00         1\n",
            "                                                                                             CyrusNajmabadi|sharwell       0.00      0.00      0.00         1\n",
            "                                                                                                           JoeRobich       0.00      0.00      0.00         1\n",
            "                                                                                                         RikkiGibson       0.00      0.00      0.00         1\n",
            "                                                                                         RikkiGibson|gafter|jaredpar       0.00      0.00      0.00         1\n",
            "                                                                                                RikkiGibson|jaredpar       0.00      0.00      0.00         1\n",
            "                                                                                         RikkiGibson|jaredpar|gafter       0.00      0.00      0.00         0\n",
            "                                                                                     RikkiGibson|jinujoseph|sharwell       0.00      0.00      0.00         1\n",
            "                                                                                                              agocke       0.00      0.00      0.00         1\n",
            "                                                                                                  agocke|RikkiGibson       0.00      0.00      0.00         0\n",
            "                                                                             agocke|jasonmalinowski|333fred|jaredpar       0.00      0.00      0.00         1\n",
            "                                                                      agocke|jasonmalinowski|msftbot[bot]|jinujoseph       0.00      0.00      0.00         1\n",
            "                            agocke|jcouv|333fred|jaredpar|gafter|RikkiGibson|VSadov|AlekseyTs|cston|chsienki|fayrose       0.00      0.00      0.00         1\n",
            "                                                                                                              chborl       0.00      0.00      0.00         1\n",
            "                                                                                                  chsienki|AlekseyTs       0.00      0.00      0.00         1\n",
            "                                                                                                               cston       0.00      0.00      0.00         1\n",
            "                                                                                               cston|AlekseyTs|jcouv       0.00      0.00      0.00         1\n",
            "                            cston|jaredpar|agocke|333fred|gafter|RikkiGibson|VSadov|AlekseyTs|jcouv|chsienki|fayrose       0.00      0.00      0.00         1\n",
            "                                             davkean|gafter|jasonmalinowski|agocke|vatsalyaagrawal|panopticoncentral       0.00      0.00      0.00         1\n",
            "                                                                                                            dibarbet       0.00      0.00      0.00         3\n",
            "                                                                                    dibarbet|daytonellwanger|amcasey       0.00      0.00      0.00         1\n",
            "                                                                                                dotnet-bot|JoeRobich       0.00      0.00      0.00         2\n",
            "                                                                                              dotnet-bot|RikkiGibson       0.25      0.33      0.29         3\n",
            "                                                                              dotnet-bot|agocke|dotnet-automerge-bot       0.00      0.00      0.00         0\n",
            "                                                                                     dotnet-bot|dotnet-automerge-bot       0.62      0.62      0.62         8\n",
            "                                                           dotnet-bot|jasonmalinowski|ivanbasov|dotnet-automerge-bot       0.00      0.00      0.00         1\n",
            "                                                                                                              gafter       0.11      0.27      0.16        11\n",
            "                                                                                                    gafter|AlekseyTs       0.00      0.00      0.00         1\n",
            "                                                                                                  gafter|RikkiGibson       0.00      0.00      0.00         1\n",
            "                                                                                                     gafter|jaredpar       0.00      0.00      0.00         1\n",
            "                                                                                                   gafter|jinujoseph       0.00      0.00      0.00         0\n",
            "                                                                                          gafter|jinujoseph|sharwell       0.00      0.00      0.00         2\n",
            "                                                                                                     gafter|sharwell       0.00      0.00      0.00         2\n",
            "                                                                                              gafter|vatsalyaagrawal       0.00      0.00      0.00         6\n",
            "                                                                                   gafter|vatsalyaagrawal|jinujoseph       0.00      0.00      0.00         1\n",
            "                                                                                                               genlu       0.00      0.00      0.00         0\n",
            "                                                   genlu|ivanbasov|CyrusNajmabadi|jasonmalinowski|davkean|jinujoseph       0.00      0.00      0.00         1\n",
            "                                                                                                         heejaechang       0.00      0.00      0.00         1\n",
            "                                                                                                           ivanbasov       0.00      0.00      0.00         3\n",
            "                                                                                      ivanbasov|CyrusNajmabadi|genlu       0.00      0.00      0.00         1\n",
            "                                                                                                 ivanbasov|JoeRobich       0.00      0.00      0.00         1\n",
            "                                      ivanbasov|KirillOsenkov|sandyarmstrong|jasonmalinowski|CyrusNajmabadi|sharwell       0.00      0.00      0.00         1\n",
            "                                                                                            ivanbasov|cston|sharwell       0.00      0.00      0.00         1\n",
            "                                                                      ivanbasov|heejaechang|AmadeusW|jasonmalinowski       0.00      0.00      0.00         1\n",
            "                                                                       ivanbasov|jasonmalinowski|sharwell|jinujoseph       0.00      0.00      0.00         1\n",
            "                                                           ivanbasov|olegtk|jasonmalinowski|JoeRobich|CyrusNajmabadi       0.00      0.00      0.00         0\n",
            "                                                                                                            jaredpar       0.00      0.00      0.00         4\n",
            "                            jaredpar|agocke|333fred|gafter|RikkiGibson|VSadov|AlekseyTs|cston|jcouv|chsienki|fayrose       0.00      0.00      0.00         3\n",
            "                                                                                         jaredpar|gafter|RikkiGibson       0.00      0.00      0.00         1\n",
            "                                                                                                 jaredpar|jinujoseph       0.00      0.00      0.00         5\n",
            "                                                                                        jaredpar|jinujoseph|sharwell       0.00      0.00      0.00         1\n",
            "                                                                                                   jaredpar|sharwell       0.00      0.00      0.00         3\n",
            "                                                                                 jaredpar|vatsalyaagrawal|jinujoseph       0.00      0.00      0.00         1\n",
            "                                                                                                     jasonmalinowski       0.11      0.11      0.11         9\n",
            "                                                                                                               jcouv       0.09      0.20      0.13        10\n",
            "                                                                                                        jcouv|gafter       0.00      0.00      0.00         1\n",
            "                                                                                 jcouv|huoyaoyuan|RikkiGibson|gafter       0.00      0.00      0.00         1\n",
            "                                                                                                    jcouv|jinujoseph       0.00      0.00      0.00         2\n",
            "                                                                                           jcouv|sharwell|jinujoseph       0.00      0.00      0.00         1\n",
            "                                                                                                   jinujoseph|gafter       0.00      0.00      0.00         0\n",
            "                                                                                                            mavasani       0.12      0.38      0.19         8\n",
            "                                                                                          mavasani|chborl|jinujoseph       0.00      0.00      0.00         1\n",
            "                                                                                        mavasani|jaredpar|jinujoseph       0.00      0.00      0.00         1\n",
            "                                                                                            mavasani|vatsalyaagrawal       0.00      0.00      0.00         1\n",
            "                                                                                                            petrroll       0.00      0.00      0.00         7\n",
            "                                                                                          petrroll|gafter|jinujoseph       0.00      0.00      0.00         1\n",
            "                                                                               petrroll|jinujoseph|dibarbet|sharwell       0.00      0.00      0.00         1\n",
            "                                                                                            petrroll|vatsalyaagrawal       0.00      0.00      0.00         1\n",
            "                                                                                 petrroll|vatsalyaagrawal|jinujoseph       0.00      0.00      0.00         1\n",
            "                                                                                                            ryzngard       0.33      0.33      0.33         3\n",
            "                                                                                                            sharwell       0.09      0.25      0.13        12\n",
            "                                                                                                    sharwell|333fred       0.00      0.00      0.00         0\n",
            "                                                                                             sharwell|333fred|gafter       0.00      0.00      0.00         0\n",
            "                                                                            sharwell|jaredpar|heejaechang|jinujoseph       0.00      0.00      0.00         1\n",
            "                                                                                             sharwell|jaredpar|jcouv       0.00      0.00      0.00         1\n",
            "                                                                                 sharwell|jasonmalinowski|jinujoseph       0.00      0.00      0.00         1\n",
            "                                                                                                 sharwell|jinujoseph       0.00      0.00      0.00         2\n",
            "                                                                                                       sharwell|tmat       0.00      0.00      0.00         0\n",
            "                                          stephentoub|jcouv|jasonmalinowski|jaredpar|sharwell|RikkiGibson|jinujoseph       0.00      0.00      0.00         1\n",
            "                                                                                                stephentoub|sharwell       0.00      0.00      0.00         1\n",
            "                                                                                                                tmat       0.00      0.00      0.00         2\n",
            "                                                                                                       tmat|jaredpar       0.00      0.00      0.00         1\n",
            "                                                                                                     tmat|jinujoseph       0.00      0.00      0.00         1\n",
            "tmat|rchande|ManishJayaswal|AlekseyTs|jaredpar|agocke|333fred|gafter|RikkiGibson|VSadov|cston|jcouv|chsienki|fayrose       0.00      0.00      0.00         1\n",
            "                                                                            tmat|sharwell|vatsalyaagrawal|jinujoseph       0.00      0.00      0.00         1\n",
            "                                                                                  tmeschter|mavasani|vatsalyaagrawal       0.00      0.00      0.00         1\n",
            "                                              v-zbsail|tmeschter|vatsalyaagrawal|jasonmalinowski|agocke|msftbot[bot]       0.00      0.00      0.00         1\n",
            "                                                                                                     vatsalyaagrawal       0.00      0.00      0.00         0\n",
            "                                                                                          vatsalyaagrawal|jinujoseph       0.00      0.00      0.00         1\n",
            "                                                            vatsalyaagrawal|ryzngard|jmarolf|jasonmalinowski|davkean       0.00      0.00      0.00         1\n",
            "\n",
            "                                                                                                            accuracy                           0.11       179\n",
            "                                                                                                           macro avg       0.02      0.03      0.02       179\n",
            "                                                                                                        weighted avg       0.07      0.11      0.08       179\n",
            "\n"
          ],
          "name": "stdout"
        },
        {
          "output_type": "stream",
          "text": [
            "/usr/local/lib/python3.6/dist-packages/sklearn/metrics/classification.py:1437: UndefinedMetricWarning: Precision and F-score are ill-defined and being set to 0.0 in labels with no predicted samples.\n",
            "  'precision', 'predicted', average, warn_for)\n",
            "/usr/local/lib/python3.6/dist-packages/sklearn/metrics/classification.py:1439: UndefinedMetricWarning: Recall and F-score are ill-defined and being set to 0.0 in labels with no true samples.\n",
            "  'recall', 'true', average, warn_for)\n"
          ],
          "name": "stderr"
        }
      ]
    },
    {
      "cell_type": "code",
      "metadata": {
        "id": "bNG02At0yGXV",
        "colab_type": "code",
        "colab": {
          "base_uri": "https://localhost:8080/",
          "height": 85
        },
        "outputId": "fceafd95-6858-42fa-c1d0-579f966f40a4"
      },
      "source": [
        "#statistics\n",
        "data['word_count'] = data['Description'].apply(lambda x: len(str(x).split()))\n",
        "desc_lengths = list(data['word_count'])\n",
        "print(\"Number of descriptions:\",len(desc_lengths),\n",
        "      \"\\nAverage word count\", np.average(desc_lengths),\n",
        "      \"\\nMinimum word count\", min(desc_lengths),\n",
        "      \"\\nMaximum word count\", max(desc_lengths))"
      ],
      "execution_count": 7,
      "outputs": [
        {
          "output_type": "stream",
          "text": [
            "Number of descriptions: 895 \n",
            "Average word count 90.37430167597765 \n",
            "Minimum word count 1 \n",
            "Maximum word count 1220\n"
          ],
          "name": "stdout"
        }
      ]
    },
    {
      "cell_type": "markdown",
      "metadata": {
        "id": "pckCKEEe6q4g",
        "colab_type": "text"
      },
      "source": [
        "# New Section"
      ]
    }
  ]
}