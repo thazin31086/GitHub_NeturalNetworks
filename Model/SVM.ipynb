{
  "nbformat": 4,
  "nbformat_minor": 0,
  "metadata": {
    "colab": {
      "name": "SVM.ipynb",
      "provenance": [],
      "collapsed_sections": []
    },
    "kernelspec": {
      "name": "python3",
      "display_name": "Python 3"
    }
  },
  "cells": [
    {
      "cell_type": "code",
      "metadata": {
        "id": "0Rm_jDrX5XPN",
        "colab_type": "code",
        "colab": {
          "base_uri": "https://localhost:8080/",
          "height": 1000
        },
        "outputId": "c3ee8ff4-88b9-40c9-f672-ee44ac4bf19c"
      },
      "source": [
        "import pandas as pd\n",
        "import matplotlib.pyplot as plt\n",
        "import seaborn as sns\n",
        "import numpy as np\n",
        "\n",
        "from sklearn.model_selection import cross_val_score\n",
        "from sklearn.model_selection import train_test_split\n",
        "from sklearn.feature_extraction.text import TfidfVectorizer\n",
        "from sklearn.feature_extraction.text import CountVectorizer\n",
        "from sklearn.feature_extraction.text import TfidfTransformer\n",
        "from sklearn.naive_bayes import MultinomialNB\n",
        "from sklearn.linear_model import LogisticRegression\n",
        "from sklearn.ensemble import RandomForestClassifier\n",
        "from sklearn.svm import LinearSVC\n",
        "\n",
        "df = pd.read_csv('IssueDetailsRoslyn_24112019.csv', encoding='latin-1')\n",
        "\n",
        "\n",
        "tfidf = TfidfVectorizer(sublinear_tf=True, min_df=5, norm='l2', decode_error='replace',encoding='latin-1', ngram_range=(1, 2), stop_words='english')\n",
        "\n",
        "features = tfidf.fit_transform(df.Title.values.astype('U')).toarray()\n",
        "\n",
        "\n",
        "labels = df.Label\n",
        "features.shape\n",
        "\n",
        "#category id df\n",
        "category_id_df = df['Label'].drop_duplicates()\n",
        "\n",
        "\n",
        "#SVM\n",
        "model = LinearSVC()\n",
        "X_train, X_test, y_train, y_test, indices_train, indices_test = train_test_split(features, labels, df.index, test_size=0.33, random_state=0)\n",
        "model.fit(X_train, y_train)\n",
        "y_pred = model.predict(X_test)\n",
        "from sklearn import metrics\n",
        "print(metrics.classification_report(y_test, y_pred))"
      ],
      "execution_count": 42,
      "outputs": [
        {
          "output_type": "stream",
          "text": [
            "                               precision    recall  f1-score   support\n",
            "\n",
            "                  0 - Backlog       0.31      0.11      0.16       100\n",
            "                 1 - Planning       0.50      0.04      0.08        23\n",
            "                    2 - Ready       0.00      0.00      0.00        31\n",
            "                  3 - Working       0.00      0.00      0.00        20\n",
            "                4 - In Review       0.17      0.06      0.08       145\n",
            "            Approved to merge       0.23      0.14      0.17       507\n",
            "               Area-Analyzers       0.49      0.49      0.49       415\n",
            "               Area-Compilers       0.59      0.70      0.64      1827\n",
            "                Area-External       0.11      0.04      0.06        73\n",
            "                     Area-IDE       0.57      0.69      0.62      1814\n",
            "          Area-Infrastructure       0.71      0.72      0.72       876\n",
            "             Area-Interactive       0.60      0.56      0.58       329\n",
            "         Area-Language Design       0.50      0.47      0.48       199\n",
            "             Area-Performance       0.62      0.17      0.27        29\n",
            "         Area-SDK and Samples       0.29      0.14      0.19        14\n",
            "     Auto-Merge If Tests Pass       0.20      0.08      0.11        13\n",
            "                          Bug       0.20      0.13      0.16        15\n",
            "                    Community       0.67      0.08      0.15        24\n",
            "                  Concept-API       0.00      0.00      0.00         1\n",
            "             Contributor Pain       0.00      0.00      0.00         3\n",
            "          Developer Community       0.00      0.00      0.00         4\n",
            "                Disabled Test       1.00      1.00      1.00         1\n",
            "                   Discussion       0.00      0.00      0.00         2\n",
            "                Documentation       0.00      0.00      0.00         1\n",
            "              Feature Request       0.00      0.00      0.00         3\n",
            "        Interactive-Debugging       0.00      0.00      0.00         9\n",
            "              Interactive-EnC       0.20      0.25      0.22         4\n",
            "               Need More Info       0.00      0.00      0.00         2\n",
            "      Needs Shiproom Approval       0.00      0.00      0.00         1\n",
            "  New Feature - Flow Analysis       0.00      0.00      0.00         1\n",
            "New Language Feature - Tuples       0.00      0.00      0.00         2\n",
            "                         None       0.19      0.09      0.12        33\n",
            "  PR For Personal Review Only       0.07      0.02      0.04        41\n",
            "    Pending director approval       0.00      0.00      0.00         1\n",
            "                     Question       0.00      0.00      0.00         7\n",
            "          Resolution-Answered       0.00      0.00      0.00         3\n",
            "         Resolution-By Design       0.00      0.00      0.00         1\n",
            "         Resolution-Duplicate       0.00      0.00      0.00        21\n",
            "           Resolution-Expired       0.00      0.00      0.00         1\n",
            "          Resolution-External       0.00      0.00      0.00         9\n",
            "             Resolution-Fixed       0.00      0.00      0.00         2\n",
            "    Resolution-Not Applicable       0.00      0.00      0.00         1\n",
            "         Resolution-Won't Fix       0.00      0.00      0.00         6\n",
            "            Tenet-Performance       0.00      0.00      0.00         1\n",
            "                         Test       0.00      0.00      0.00         0\n",
            "    Verification Not Required       0.00      0.00      0.00         2\n",
            "                     Verified       0.00      0.00      0.00         1\n",
            "           cla-already-signed       0.48      0.46      0.47      1031\n",
            "             good first issue       0.00      0.00      0.00         1\n",
            "\n",
            "                     accuracy                           0.55      7650\n",
            "                    macro avg       0.18      0.13      0.14      7650\n",
            "                 weighted avg       0.52      0.55      0.53      7650\n",
            "\n"
          ],
          "name": "stdout"
        },
        {
          "output_type": "stream",
          "text": [
            "/usr/local/lib/python3.6/dist-packages/sklearn/metrics/classification.py:1437: UndefinedMetricWarning: Precision and F-score are ill-defined and being set to 0.0 in labels with no predicted samples.\n",
            "  'precision', 'predicted', average, warn_for)\n",
            "/usr/local/lib/python3.6/dist-packages/sklearn/metrics/classification.py:1439: UndefinedMetricWarning: Recall and F-score are ill-defined and being set to 0.0 in labels with no true samples.\n",
            "  'recall', 'true', average, warn_for)\n"
          ],
          "name": "stderr"
        }
      ]
    }
  ]
}