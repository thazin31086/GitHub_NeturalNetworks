{
  "nbformat": 4,
  "nbformat_minor": 0,
  "metadata": {
    "colab": {
      "name": "Untitled10.ipynb",
      "provenance": []
    },
    "kernelspec": {
      "name": "python3",
      "display_name": "Python 3"
    }
  },
  "cells": [
    {
      "cell_type": "code",
      "metadata": {
        "id": "xqlgizLKsgUL",
        "colab_type": "code",
        "colab": {}
      },
      "source": [
        "#Visualize total number of categories \n",
        "#https://towardsdatascience.com/multi-class-text-classification-with-scikit-learn-12f1e60e0a9f\n",
        "\n",
        "%matplotlib inline\n",
        "import re\n",
        "import matplotlib\n",
        "import numpy as np\n",
        "import matplotlib.pyplot as plt\n"
      ],
      "execution_count": 0,
      "outputs": []
    },
    {
      "cell_type": "code",
      "metadata": {
        "id": "p2PcKELqtJRP",
        "colab_type": "code",
        "colab": {
          "base_uri": "https://localhost:8080/",
          "height": 513
        },
        "outputId": "6f7a97d8-b36d-441b-b399-1bbecd45d8aa"
      },
      "source": [
        "import pandas as pd\n",
        "df = pd.read_csv('IssueDetailsSVF_20102019.csv')\n",
        "df.head()"
      ],
      "execution_count": 39,
      "outputs": [
        {
          "output_type": "execute_result",
          "data": {
            "text/html": [
              "<div>\n",
              "<style scoped>\n",
              "    .dataframe tbody tr th:only-of-type {\n",
              "        vertical-align: middle;\n",
              "    }\n",
              "\n",
              "    .dataframe tbody tr th {\n",
              "        vertical-align: top;\n",
              "    }\n",
              "\n",
              "    .dataframe thead th {\n",
              "        text-align: right;\n",
              "    }\n",
              "</style>\n",
              "<table border=\"1\" class=\"dataframe\">\n",
              "  <thead>\n",
              "    <tr style=\"text-align: right;\">\n",
              "      <th></th>\n",
              "      <th>IssueLabelID</th>\n",
              "      <th>Title</th>\n",
              "      <th>Description</th>\n",
              "      <th>Title_Description</th>\n",
              "      <th>Label</th>\n",
              "      <th>Assignee</th>\n",
              "      <th>CreatedAt</th>\n",
              "      <th>ClosedAt</th>\n",
              "    </tr>\n",
              "  </thead>\n",
              "  <tbody>\n",
              "    <tr>\n",
              "      <th>0</th>\n",
              "      <td>153</td>\n",
              "      <td>Assertion failed: `it!=PAGNodeToActualParmMap....</td>\n",
              "      <td>While performing a flow-sensitive analysis of ...</td>\n",
              "      <td>Assertion failed: `it!=PAGNodeToActualParmMap....</td>\n",
              "      <td>bug</td>\n",
              "      <td>yuleisui</td>\n",
              "      <td>8/10/2019 9:43</td>\n",
              "      <td>8/10/2019 14:25</td>\n",
              "    </tr>\n",
              "    <tr>\n",
              "      <th>1</th>\n",
              "      <td>150</td>\n",
              "      <td>SVF crashes while writing results of Andersen ...</td>\n",
              "      <td>While writing Andersen analysis result to a fi...</td>\n",
              "      <td>SVF crashes while writing results of Andersen ...</td>\n",
              "      <td>bug</td>\n",
              "      <td>yuleisui</td>\n",
              "      <td>21/09/2019 2:00</td>\n",
              "      <td>5/10/2019 4:50</td>\n",
              "    </tr>\n",
              "    <tr>\n",
              "      <th>2</th>\n",
              "      <td>148</td>\n",
              "      <td>Question on usage of pointer analysis</td>\n",
              "      <td>Hi!\\n\\nThanks for sharing and maintaining such...</td>\n",
              "      <td>Question on usage of pointer analysis Hi!\\n\\nT...</td>\n",
              "      <td>question</td>\n",
              "      <td>yuleisui</td>\n",
              "      <td>5/09/2019 17:42</td>\n",
              "      <td>NaN</td>\n",
              "    </tr>\n",
              "    <tr>\n",
              "      <th>3</th>\n",
              "      <td>147</td>\n",
              "      <td>Unable to build getting error: llvm/IR/Attribu...</td>\n",
              "      <td>Getting this below error while trying build SV...</td>\n",
              "      <td>Unable to build getting error: llvm/IR/Attribu...</td>\n",
              "      <td>question</td>\n",
              "      <td>yuleisui</td>\n",
              "      <td>31/08/2019 1:15</td>\n",
              "      <td>NaN</td>\n",
              "    </tr>\n",
              "    <tr>\n",
              "      <th>4</th>\n",
              "      <td>146</td>\n",
              "      <td>Unknown command line arguement</td>\n",
              "      <td>Hi When I follow the simple C program example ...</td>\n",
              "      <td>Unknown command line arguement Hi When I follo...</td>\n",
              "      <td>invalid</td>\n",
              "      <td>yuleisui</td>\n",
              "      <td>30/08/2019 16:39</td>\n",
              "      <td>NaN</td>\n",
              "    </tr>\n",
              "  </tbody>\n",
              "</table>\n",
              "</div>"
            ],
            "text/plain": [
              "   IssueLabelID  ...         ClosedAt\n",
              "0           153  ...  8/10/2019 14:25\n",
              "1           150  ...   5/10/2019 4:50\n",
              "2           148  ...              NaN\n",
              "3           147  ...              NaN\n",
              "4           146  ...              NaN\n",
              "\n",
              "[5 rows x 8 columns]"
            ]
          },
          "metadata": {
            "tags": []
          },
          "execution_count": 39
        }
      ]
    },
    {
      "cell_type": "code",
      "metadata": {
        "id": "VKSvraW0ysmG",
        "colab_type": "code",
        "colab": {
          "base_uri": "https://localhost:8080/",
          "height": 204
        },
        "outputId": "733faac6-2c60-4c36-9849-7ae5ccb5b686"
      },
      "source": [
        "from io import StringIO\n",
        "col = ['Label', 'Title']\n",
        "df = df[col]\n",
        "df = df[pd.notnull(df['Title'])]\n",
        "df.columns = ['Label', 'Title']\n",
        "df['IssueLabelID'] = df['Label'].factorize()[0]\n",
        "category_id_df = df[['Label', 'IssueLabelID']].drop_duplicates().sort_values('Label')\n",
        "category_to_id = dict(category_id_df.values)\n",
        "id_to_category = dict(category_id_df[['IssueLabelID', 'Label']].values)\n",
        "df.head()"
      ],
      "execution_count": 43,
      "outputs": [
        {
          "output_type": "execute_result",
          "data": {
            "text/html": [
              "<div>\n",
              "<style scoped>\n",
              "    .dataframe tbody tr th:only-of-type {\n",
              "        vertical-align: middle;\n",
              "    }\n",
              "\n",
              "    .dataframe tbody tr th {\n",
              "        vertical-align: top;\n",
              "    }\n",
              "\n",
              "    .dataframe thead th {\n",
              "        text-align: right;\n",
              "    }\n",
              "</style>\n",
              "<table border=\"1\" class=\"dataframe\">\n",
              "  <thead>\n",
              "    <tr style=\"text-align: right;\">\n",
              "      <th></th>\n",
              "      <th>Label</th>\n",
              "      <th>Title</th>\n",
              "      <th>IssueLabelID</th>\n",
              "    </tr>\n",
              "  </thead>\n",
              "  <tbody>\n",
              "    <tr>\n",
              "      <th>0</th>\n",
              "      <td>bug</td>\n",
              "      <td>Assertion failed: `it!=PAGNodeToActualParmMap....</td>\n",
              "      <td>0</td>\n",
              "    </tr>\n",
              "    <tr>\n",
              "      <th>1</th>\n",
              "      <td>bug</td>\n",
              "      <td>SVF crashes while writing results of Andersen ...</td>\n",
              "      <td>0</td>\n",
              "    </tr>\n",
              "    <tr>\n",
              "      <th>2</th>\n",
              "      <td>question</td>\n",
              "      <td>Question on usage of pointer analysis</td>\n",
              "      <td>1</td>\n",
              "    </tr>\n",
              "    <tr>\n",
              "      <th>3</th>\n",
              "      <td>question</td>\n",
              "      <td>Unable to build getting error: llvm/IR/Attribu...</td>\n",
              "      <td>1</td>\n",
              "    </tr>\n",
              "    <tr>\n",
              "      <th>4</th>\n",
              "      <td>invalid</td>\n",
              "      <td>Unknown command line arguement</td>\n",
              "      <td>2</td>\n",
              "    </tr>\n",
              "  </tbody>\n",
              "</table>\n",
              "</div>"
            ],
            "text/plain": [
              "      Label                                              Title  IssueLabelID\n",
              "0       bug  Assertion failed: `it!=PAGNodeToActualParmMap....             0\n",
              "1       bug  SVF crashes while writing results of Andersen ...             0\n",
              "2  question              Question on usage of pointer analysis             1\n",
              "3  question  Unable to build getting error: llvm/IR/Attribu...             1\n",
              "4   invalid                     Unknown command line arguement             2"
            ]
          },
          "metadata": {
            "tags": []
          },
          "execution_count": 43
        }
      ]
    },
    {
      "cell_type": "code",
      "metadata": {
        "id": "NP3SU_CF0GSy",
        "colab_type": "code",
        "colab": {
          "base_uri": "https://localhost:8080/",
          "height": 471
        },
        "outputId": "b5bd75c6-6936-4526-ba86-0aac465e337e"
      },
      "source": [
        "#Find Imbalanced Class\n",
        "import matplotlib.pyplot as plt\n",
        "fig = plt.figure(figsize=(8,6))\n",
        "df.groupby('Label').count().plot.bar(ylim=0)\n",
        "plt.show()"
      ],
      "execution_count": 41,
      "outputs": [
        {
          "output_type": "display_data",
          "data": {
            "text/plain": [
              "<Figure size 576x432 with 0 Axes>"
            ]
          },
          "metadata": {
            "tags": []
          }
        },
        {
          "output_type": "display_data",
          "data": {
            "image/png": "[encoded data removed]",
            "text/plain": [
              "<Figure size 432x288 with 1 Axes>"
            ]
          },
          "metadata": {
            "tags": []
          }
        }
      ]
    }
  ]
}