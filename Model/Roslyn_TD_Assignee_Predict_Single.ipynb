{
  "nbformat": 4,
  "nbformat_minor": 0,
  "metadata": {
    "colab": {
      "name": "SVF_Title_Assignee_Predict.ipynb",
      "provenance": [],
      "collapsed_sections": [],
      "toc_visible": true
    },
    "kernelspec": {
      "name": "python3",
      "display_name": "Python 3"
    }
  },
  "cells": [
    {
      "cell_type": "code",
      "metadata": {
        "id": "3xIbLyam6PAj",
        "colab_type": "code",
        "colab": {}
      },
      "source": [
        "#This Code predict Label for SVF Issues with Title\n",
        "\n",
        "import tensorflow as tf\n",
        "import tensorflow_hub as hub\n",
        "import pandas as pd\n",
        "from sklearn import preprocessing\n",
        "import keras\n",
        "import numpy as np\n",
        "\n",
        "url = \"https://tfhub.dev/google/universal-sentence-encoder-large/3\"\n",
        "embed = hub.Module(url)\n",
        "\n",
        "data = pd.read_csv('IssueDetailsRoslyn_20102019_Single.csv')\n",
        "data = data.sample(frac=1)\n",
        "\n",
        "\n",
        "y = list(data['Assignee']) \n",
        "x = list(data['Title_Description']) \n",
        "\n",
        "le = preprocessing.LabelEncoder()\n",
        "le.fit(y)\n",
        "\n",
        "categories = list(set(y))\n",
        "\n",
        "def encode(le, labels):\n",
        "    enc = le.transform(labels)\n",
        "    return keras.utils.to_categorical(enc)\n",
        "\n",
        "def decode(le, one_hot):\n",
        "    dec = np.argmax(one_hot, axis=1)\n",
        "    return le.inverse_transform(dec)\n",
        "\n",
        "test = encode(le,categories)\n",
        "\n",
        "untest = decode(le, test)\n",
        "\n",
        "\n",
        "x_enc = x\n",
        "y_enc = encode(le, y)\n",
        "\n",
        "#80% / 20% train / test split:\n",
        "\n",
        "train_size = int(len(x) * .8)\n",
        "\n",
        "x_train = np.asarray(x_enc[:train_size])\n",
        "y_train = np.asarray(y_enc[:train_size])\n",
        "\n",
        "x_test = np.asarray(x_enc[train_size:])\n",
        "y_test = np.asarray(y_enc[train_size:])"
      ],
      "execution_count": 0,
      "outputs": []
    },
    {
      "cell_type": "code",
      "metadata": {
        "id": "Lxgn6vzHdReY",
        "colab_type": "code",
        "colab": {}
      },
      "source": [
        "from keras.layers import Input, Lambda, Dense\n",
        "from keras.models import Model\n",
        "import keras.backend as K\n",
        "\n",
        "def UniversalEmbedding(x):\n",
        "    return embed(tf.squeeze(tf.cast(x, tf.string)))"
      ],
      "execution_count": 0,
      "outputs": []
    },
    {
      "cell_type": "code",
      "metadata": {
        "id": "Wfe-mPpJdUA0",
        "colab_type": "code",
        "outputId": "1d171e02-8c1e-4662-f47f-545093b274b2",
        "colab": {
          "base_uri": "https://localhost:8080/",
          "height": 51
        }
      },
      "source": [
        "input_text = Input(shape=(1,), dtype=tf.string)\n",
        "embedding = Lambda(UniversalEmbedding, output_shape=(512, ))(input_text)\n",
        "dense = Dense(256, activation='relu')(embedding)\n",
        "pred = Dense(len(categories), activation='softmax')(dense)\n",
        "model = Model(inputs=[input_text], outputs=pred)\n",
        "model.compile(loss='categorical_crossentropy', optimizer='adam', metrics=['accuracy'])"
      ],
      "execution_count": 29,
      "outputs": [
        {
          "output_type": "stream",
          "text": [
            "INFO:tensorflow:Saver not created because there are no variables in the graph to restore\n"
          ],
          "name": "stdout"
        },
        {
          "output_type": "stream",
          "text": [
            "INFO:tensorflow:Saver not created because there are no variables in the graph to restore\n"
          ],
          "name": "stderr"
        }
      ]
    },
    {
      "cell_type": "code",
      "metadata": {
        "id": "kL5QKGbCdWEs",
        "colab_type": "code",
        "outputId": "39303033-1377-4ea6-96f1-930f0a9ee4c2",
        "colab": {
          "base_uri": "https://localhost:8080/",
          "height": 1000
        }
      },
      "source": [
        "with tf.Session() as session:\n",
        "    K.set_session(session)\n",
        "    session.run(tf.global_variables_initializer())  \n",
        "    session.run(tf.tables_initializer())\n",
        "    history = model.fit(x_train, y_train, epochs=60, batch_size=32)\n",
        "    model.save_weights('./Roslyn_TD_Assignee_Predict_Single.h5')"
      ],
      "execution_count": 30,
      "outputs": [
        {
          "output_type": "stream",
          "text": [
            "Epoch 1/60\n",
            "715/715 [==============================] - 66s 93ms/step - loss: 3.5141 - acc: 0.2378\n",
            "Epoch 2/60\n",
            "715/715 [==============================] - 59s 83ms/step - loss: 2.7651 - acc: 0.3217\n",
            "Epoch 3/60\n",
            "715/715 [==============================] - 59s 83ms/step - loss: 2.5602 - acc: 0.3245\n",
            "Epoch 4/60\n",
            "715/715 [==============================] - 59s 83ms/step - loss: 2.4528 - acc: 0.3483\n",
            "Epoch 5/60\n",
            "715/715 [==============================] - 59s 83ms/step - loss: 2.3714 - acc: 0.3497\n",
            "Epoch 6/60\n",
            "715/715 [==============================] - 59s 83ms/step - loss: 2.3070 - acc: 0.3860\n",
            "Epoch 7/60\n",
            "715/715 [==============================] - 59s 83ms/step - loss: 2.2469 - acc: 0.3986\n",
            "Epoch 8/60\n",
            "715/715 [==============================] - 60s 84ms/step - loss: 2.1991 - acc: 0.4028\n",
            "Epoch 9/60\n",
            "715/715 [==============================] - 60s 84ms/step - loss: 2.1448 - acc: 0.4182\n",
            "Epoch 10/60\n",
            "715/715 [==============================] - 60s 84ms/step - loss: 2.0979 - acc: 0.4294\n",
            "Epoch 11/60\n",
            "715/715 [==============================] - 59s 83ms/step - loss: 2.0531 - acc: 0.4336\n",
            "Epoch 12/60\n",
            "715/715 [==============================] - 59s 83ms/step - loss: 2.0159 - acc: 0.4434\n",
            "Epoch 13/60\n",
            "715/715 [==============================] - 59s 82ms/step - loss: 1.9710 - acc: 0.4448\n",
            "Epoch 14/60\n",
            "715/715 [==============================] - 59s 82ms/step - loss: 1.9241 - acc: 0.4601\n",
            "Epoch 15/60\n",
            "715/715 [==============================] - 59s 82ms/step - loss: 1.8843 - acc: 0.4741\n",
            "Epoch 16/60\n",
            "715/715 [==============================] - 59s 82ms/step - loss: 1.8508 - acc: 0.4587\n",
            "Epoch 17/60\n",
            "715/715 [==============================] - 59s 82ms/step - loss: 1.8092 - acc: 0.4825\n",
            "Epoch 18/60\n",
            "715/715 [==============================] - 59s 82ms/step - loss: 1.7759 - acc: 0.4951\n",
            "Epoch 19/60\n",
            "715/715 [==============================] - 58s 81ms/step - loss: 1.7329 - acc: 0.5147\n",
            "Epoch 20/60\n",
            "715/715 [==============================] - 58s 81ms/step - loss: 1.7033 - acc: 0.5105\n",
            "Epoch 21/60\n",
            "715/715 [==============================] - 58s 81ms/step - loss: 1.6621 - acc: 0.5231\n",
            "Epoch 22/60\n",
            "715/715 [==============================] - 59s 83ms/step - loss: 1.6334 - acc: 0.5315\n",
            "Epoch 23/60\n",
            "715/715 [==============================] - 58s 81ms/step - loss: 1.6072 - acc: 0.5413\n",
            "Epoch 24/60\n",
            "715/715 [==============================] - 57s 80ms/step - loss: 1.5710 - acc: 0.5524\n",
            "Epoch 25/60\n",
            "715/715 [==============================] - 57s 80ms/step - loss: 1.5333 - acc: 0.5622\n",
            "Epoch 26/60\n",
            "715/715 [==============================] - 57s 80ms/step - loss: 1.4976 - acc: 0.5790\n",
            "Epoch 27/60\n",
            "715/715 [==============================] - 57s 80ms/step - loss: 1.4800 - acc: 0.5818\n",
            "Epoch 28/60\n",
            "715/715 [==============================] - 57s 80ms/step - loss: 1.4426 - acc: 0.5916\n",
            "Epoch 29/60\n",
            "715/715 [==============================] - 57s 80ms/step - loss: 1.4129 - acc: 0.6000\n",
            "Epoch 30/60\n",
            "715/715 [==============================] - 57s 80ms/step - loss: 1.3807 - acc: 0.6140\n",
            "Epoch 31/60\n",
            "715/715 [==============================] - 57s 80ms/step - loss: 1.3598 - acc: 0.6042\n",
            "Epoch 32/60\n",
            "715/715 [==============================] - 57s 80ms/step - loss: 1.3294 - acc: 0.6322\n",
            "Epoch 33/60\n",
            "715/715 [==============================] - 57s 80ms/step - loss: 1.2982 - acc: 0.6392\n",
            "Epoch 34/60\n",
            "715/715 [==============================] - 57s 80ms/step - loss: 1.2735 - acc: 0.6476\n",
            "Epoch 35/60\n",
            "715/715 [==============================] - 57s 80ms/step - loss: 1.2526 - acc: 0.6448\n",
            "Epoch 36/60\n",
            "715/715 [==============================] - 57s 80ms/step - loss: 1.2250 - acc: 0.6601\n",
            "Epoch 37/60\n",
            "715/715 [==============================] - 57s 80ms/step - loss: 1.2066 - acc: 0.6643\n",
            "Epoch 38/60\n",
            "715/715 [==============================] - 57s 79ms/step - loss: 1.1839 - acc: 0.6783\n",
            "Epoch 39/60\n",
            "715/715 [==============================] - 57s 80ms/step - loss: 1.1530 - acc: 0.6881\n",
            "Epoch 40/60\n",
            "715/715 [==============================] - 57s 80ms/step - loss: 1.1384 - acc: 0.6741\n",
            "Epoch 41/60\n",
            "715/715 [==============================] - 58s 80ms/step - loss: 1.1087 - acc: 0.6769\n",
            "Epoch 42/60\n",
            "715/715 [==============================] - 58s 81ms/step - loss: 1.0849 - acc: 0.7021\n",
            "Epoch 43/60\n",
            "715/715 [==============================] - 58s 80ms/step - loss: 1.0736 - acc: 0.7077\n",
            "Epoch 44/60\n",
            "715/715 [==============================] - 58s 81ms/step - loss: 1.0573 - acc: 0.7147\n",
            "Epoch 45/60\n",
            "715/715 [==============================] - 58s 81ms/step - loss: 1.0261 - acc: 0.7245\n",
            "Epoch 46/60\n",
            "715/715 [==============================] - 57s 80ms/step - loss: 1.0113 - acc: 0.7301\n",
            "Epoch 47/60\n",
            "715/715 [==============================] - 58s 81ms/step - loss: 0.9875 - acc: 0.7385\n",
            "Epoch 48/60\n",
            "715/715 [==============================] - 58s 81ms/step - loss: 0.9654 - acc: 0.7441\n",
            "Epoch 49/60\n",
            "715/715 [==============================] - 57s 80ms/step - loss: 0.9371 - acc: 0.7692\n",
            "Epoch 50/60\n",
            "715/715 [==============================] - 58s 80ms/step - loss: 0.9274 - acc: 0.7734\n",
            "Epoch 51/60\n",
            "715/715 [==============================] - 57s 80ms/step - loss: 0.9105 - acc: 0.7678\n",
            "Epoch 52/60\n",
            "715/715 [==============================] - 58s 81ms/step - loss: 0.8968 - acc: 0.7748\n",
            "Epoch 53/60\n",
            "715/715 [==============================] - 57s 80ms/step - loss: 0.8847 - acc: 0.7650\n",
            "Epoch 54/60\n",
            "715/715 [==============================] - 57s 80ms/step - loss: 0.8575 - acc: 0.7790\n",
            "Epoch 55/60\n",
            "715/715 [==============================] - 57s 80ms/step - loss: 0.8365 - acc: 0.7902\n",
            "Epoch 56/60\n",
            "715/715 [==============================] - 58s 81ms/step - loss: 0.8249 - acc: 0.7944\n",
            "Epoch 57/60\n",
            "715/715 [==============================] - 58s 80ms/step - loss: 0.8101 - acc: 0.8028\n",
            "Epoch 58/60\n",
            "715/715 [==============================] - 58s 81ms/step - loss: 0.7886 - acc: 0.8098\n",
            "Epoch 59/60\n",
            "715/715 [==============================] - 58s 81ms/step - loss: 0.7748 - acc: 0.8210\n",
            "Epoch 60/60\n",
            "715/715 [==============================] - 58s 81ms/step - loss: 0.7665 - acc: 0.8098\n"
          ],
          "name": "stdout"
        }
      ]
    },
    {
      "cell_type": "code",
      "metadata": {
        "id": "yh7KFTBXdaj-",
        "colab_type": "code",
        "colab": {}
      },
      "source": [
        "with tf.Session() as session:\n",
        "    K.set_session(session)\n",
        "    session.run(tf.global_variables_initializer())\n",
        "    session.run(tf.tables_initializer())\n",
        "    model.load_weights('./Roslyn_TD_Assignee_Predict_Single.h5')  \n",
        "    predicts = model.predict(x_test, batch_size=32)  "
      ],
      "execution_count": 0,
      "outputs": []
    },
    {
      "cell_type": "code",
      "metadata": {
        "id": "rJbFylyoyks9",
        "colab_type": "code",
        "colab": {}
      },
      "source": [
        ""
      ],
      "execution_count": 0,
      "outputs": []
    },
    {
      "cell_type": "code",
      "metadata": {
        "id": "cVG_eZ8jdbzN",
        "colab_type": "code",
        "outputId": "7c0fe3ad-3099-4ec6-a76a-b2a2e46b9bf0",
        "colab": {
          "base_uri": "https://localhost:8080/",
          "height": 751
        }
      },
      "source": [
        "y_test = np.asarray(y_enc[train_size:])\n",
        "y_test = decode(le, y_test)\n",
        "y_preds = decode(le, predicts)\n",
        "\n",
        "from sklearn import metrics\n",
        "\n",
        "metrics.confusion_matrix(y_test, y_preds)\n",
        "\n",
        "print(metrics.classification_report(y_test, y_preds))\n",
        "\n"
      ],
      "execution_count": 32,
      "outputs": [
        {
          "output_type": "stream",
          "text": [
            "                     precision    recall  f1-score   support\n",
            "\n",
            "            333fred       0.25      0.25      0.25         4\n",
            "          AlekseyTs       0.00      0.00      0.00         1\n",
            "           AmadeusW       0.00      0.00      0.00         1\n",
            "     CyrusNajmabadi       0.00      0.00      0.00         1\n",
            "          JoeRobich       0.25      0.12      0.17         8\n",
            "        RikkiGibson       0.50      0.09      0.15        11\n",
            "             agocke       0.50      0.33      0.40         3\n",
            "        allisonchou       0.00      0.00      0.00         2\n",
            "             chborl       0.00      0.00      0.00         1\n",
            "           chsienki       0.00      0.00      0.00         0\n",
            "              cston       0.00      0.00      0.00         0\n",
            "           dibarbet       0.00      0.00      0.00         3\n",
            "         dotnet-bot       0.97      1.00      0.98        30\n",
            "dotnet-maestro[bot]       1.00      1.00      1.00         1\n",
            "             gafter       0.20      0.32      0.25        22\n",
            "              genlu       0.00      0.00      0.00         4\n",
            "        heejaechang       0.00      0.00      0.00         1\n",
            "          ivanbasov       0.17      0.20      0.18         5\n",
            "           jaredpar       0.00      0.00      0.00         3\n",
            "    jasonmalinowski       0.11      0.25      0.15         4\n",
            "              jcouv       0.21      0.45      0.29        11\n",
            "         jinujoseph       0.00      0.00      0.00         4\n",
            "           mavasani       0.33      0.42      0.37        12\n",
            "          nnpcYvIVl       0.00      0.00      0.00         1\n",
            "           petrroll       0.00      0.00      0.00         3\n",
            "           ryzngard       0.00      0.00      0.00         9\n",
            "           sharwell       0.50      0.38      0.43        26\n",
            "              svick       0.00      0.00      0.00         0\n",
            "               tmat       0.00      0.00      0.00         6\n",
            "          tuespetre       0.00      0.00      0.00         1\n",
            "    vatsalyaagrawal       0.00      0.00      0.00         1\n",
            "\n",
            "           accuracy                           0.36       179\n",
            "          macro avg       0.16      0.16      0.15       179\n",
            "       weighted avg       0.36      0.36      0.34       179\n",
            "\n"
          ],
          "name": "stdout"
        },
        {
          "output_type": "stream",
          "text": [
            "/usr/local/lib/python3.6/dist-packages/sklearn/metrics/classification.py:1437: UndefinedMetricWarning: Precision and F-score are ill-defined and being set to 0.0 in labels with no predicted samples.\n",
            "  'precision', 'predicted', average, warn_for)\n",
            "/usr/local/lib/python3.6/dist-packages/sklearn/metrics/classification.py:1439: UndefinedMetricWarning: Recall and F-score are ill-defined and being set to 0.0 in labels with no true samples.\n",
            "  'recall', 'true', average, warn_for)\n"
          ],
          "name": "stderr"
        }
      ]
    },
    {
      "cell_type": "code",
      "metadata": {
        "id": "bNG02At0yGXV",
        "colab_type": "code",
        "colab": {}
      },
      "source": [
        ""
      ],
      "execution_count": 0,
      "outputs": []
    },
    {
      "cell_type": "markdown",
      "metadata": {
        "id": "pckCKEEe6q4g",
        "colab_type": "text"
      },
      "source": [
        "# New Section"
      ]
    }
  ]
}