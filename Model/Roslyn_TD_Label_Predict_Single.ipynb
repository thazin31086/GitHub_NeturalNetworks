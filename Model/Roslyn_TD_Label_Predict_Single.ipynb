{
  "nbformat": 4,
  "nbformat_minor": 0,
  "metadata": {
    "colab": {
      "name": "SVF_Title_Assignee_Predict.ipynb",
      "provenance": [],
      "collapsed_sections": [],
      "toc_visible": true
    },
    "kernelspec": {
      "name": "python3",
      "display_name": "Python 3"
    }
  },
  "cells": [
    {
      "cell_type": "code",
      "metadata": {
        "id": "3xIbLyam6PAj",
        "colab_type": "code",
        "colab": {}
      },
      "source": [
        "#This Code predict Label for SVF Issues with Title\n",
        "\n",
        "import tensorflow as tf\n",
        "import tensorflow_hub as hub\n",
        "import pandas as pd\n",
        "from sklearn import preprocessing\n",
        "import keras\n",
        "import numpy as np\n",
        "\n",
        "url = \"https://tfhub.dev/google/universal-sentence-encoder-large/3\"\n",
        "embed = hub.Module(url)\n",
        "\n",
        "data = pd.read_csv('IssueDetailsRoslyn_20102019_Single.csv')\n",
        "data = data.sample(frac=1)\n",
        "\n",
        "y = list(data['Label']) \n",
        "x = list(data['Title_Description']) \n",
        "\n",
        "le = preprocessing.LabelEncoder()\n",
        "le.fit(y)\n",
        "\n",
        "categories = list(set(y))\n",
        "\n",
        "def encode(le, labels):\n",
        "    enc = le.transform(labels)\n",
        "    return keras.utils.to_categorical(enc)\n",
        "\n",
        "def decode(le, one_hot):\n",
        "    dec = np.argmax(one_hot, axis=1)\n",
        "    return le.inverse_transform(dec)\n",
        "\n",
        "test = encode(le,categories)\n",
        "\n",
        "untest = decode(le, test)\n",
        "\n",
        "\n",
        "x_enc = x\n",
        "y_enc = encode(le, y)\n",
        "\n",
        "#80% / 20% train / test split:\n",
        "\n",
        "train_size = int(len(x) * .8)\n",
        "\n",
        "x_train = np.asarray(x_enc[:train_size])\n",
        "y_train = np.asarray(y_enc[:train_size])\n",
        "\n",
        "x_test = np.asarray(x_enc[train_size:])\n",
        "y_test = np.asarray(y_enc[train_size:])"
      ],
      "execution_count": 0,
      "outputs": []
    },
    {
      "cell_type": "code",
      "metadata": {
        "id": "Lxgn6vzHdReY",
        "colab_type": "code",
        "colab": {}
      },
      "source": [
        "from keras.layers import Input, Lambda, Dense\n",
        "from keras.models import Model\n",
        "import keras.backend as K\n",
        "\n",
        "def UniversalEmbedding(x):\n",
        "    return embed(tf.squeeze(tf.cast(x, tf.string)))"
      ],
      "execution_count": 0,
      "outputs": []
    },
    {
      "cell_type": "code",
      "metadata": {
        "id": "Wfe-mPpJdUA0",
        "colab_type": "code",
        "outputId": "e196e3e7-6ff0-4b3d-c6f9-2eff5e172cc2",
        "colab": {
          "base_uri": "https://localhost:8080/",
          "height": 51
        }
      },
      "source": [
        "input_text = Input(shape=(1,), dtype=tf.string)\n",
        "embedding = Lambda(UniversalEmbedding, output_shape=(512, ))(input_text)\n",
        "dense = Dense(256, activation='relu')(embedding)\n",
        "pred = Dense(len(categories), activation='softmax')(dense)\n",
        "model = Model(inputs=[input_text], outputs=pred)\n",
        "model.compile(loss='categorical_crossentropy', optimizer='adam', metrics=['accuracy'])"
      ],
      "execution_count": 12,
      "outputs": [
        {
          "output_type": "stream",
          "text": [
            "INFO:tensorflow:Saver not created because there are no variables in the graph to restore\n"
          ],
          "name": "stdout"
        },
        {
          "output_type": "stream",
          "text": [
            "INFO:tensorflow:Saver not created because there are no variables in the graph to restore\n"
          ],
          "name": "stderr"
        }
      ]
    },
    {
      "cell_type": "code",
      "metadata": {
        "id": "kL5QKGbCdWEs",
        "colab_type": "code",
        "outputId": "b78b337f-098a-478f-9dc4-6baf52d7dc88",
        "colab": {
          "base_uri": "https://localhost:8080/",
          "height": 1000
        }
      },
      "source": [
        "with tf.Session() as session:\n",
        "    K.set_session(session)\n",
        "    session.run(tf.global_variables_initializer())  \n",
        "    session.run(tf.tables_initializer())\n",
        "    history = model.fit(x_train, y_train, epochs=60, batch_size=32)\n",
        "    model.save_weights('./Roslyn_TD_Label_Predict_Single.h5')"
      ],
      "execution_count": 13,
      "outputs": [
        {
          "output_type": "stream",
          "text": [
            "Epoch 1/60\n",
            "715/715 [==============================] - 61s 85ms/step - loss: 2.2267 - acc: 0.5790\n",
            "Epoch 2/60\n",
            "715/715 [==============================] - 58s 81ms/step - loss: 1.2610 - acc: 0.6517\n",
            "Epoch 3/60\n",
            "715/715 [==============================] - 58s 80ms/step - loss: 1.0857 - acc: 0.6881\n",
            "Epoch 4/60\n",
            "715/715 [==============================] - 58s 80ms/step - loss: 1.0066 - acc: 0.6979\n",
            "Epoch 5/60\n",
            "715/715 [==============================] - 57s 80ms/step - loss: 0.9551 - acc: 0.7119\n",
            "Epoch 6/60\n",
            "715/715 [==============================] - 61s 85ms/step - loss: 0.9158 - acc: 0.7217\n",
            "Epoch 7/60\n",
            "715/715 [==============================] - 57s 80ms/step - loss: 0.8928 - acc: 0.7231\n",
            "Epoch 8/60\n",
            "715/715 [==============================] - 57s 80ms/step - loss: 0.8644 - acc: 0.7315\n",
            "Epoch 9/60\n",
            "715/715 [==============================] - 57s 80ms/step - loss: 0.8487 - acc: 0.7357\n",
            "Epoch 10/60\n",
            "715/715 [==============================] - 57s 80ms/step - loss: 0.8350 - acc: 0.7427\n",
            "Epoch 11/60\n",
            "715/715 [==============================] - 57s 80ms/step - loss: 0.8100 - acc: 0.7413\n",
            "Epoch 12/60\n",
            "715/715 [==============================] - 57s 80ms/step - loss: 0.7927 - acc: 0.7510\n",
            "Epoch 13/60\n",
            "715/715 [==============================] - 57s 80ms/step - loss: 0.7793 - acc: 0.7552\n",
            "Epoch 14/60\n",
            "715/715 [==============================] - 57s 80ms/step - loss: 0.7748 - acc: 0.7608\n",
            "Epoch 15/60\n",
            "715/715 [==============================] - 58s 81ms/step - loss: 0.7520 - acc: 0.7636\n",
            "Epoch 16/60\n",
            "715/715 [==============================] - 57s 80ms/step - loss: 0.7298 - acc: 0.7636\n",
            "Epoch 17/60\n",
            "715/715 [==============================] - 57s 80ms/step - loss: 0.7150 - acc: 0.7720\n",
            "Epoch 18/60\n",
            "715/715 [==============================] - 57s 80ms/step - loss: 0.6950 - acc: 0.7720\n",
            "Epoch 19/60\n",
            "715/715 [==============================] - 57s 80ms/step - loss: 0.6858 - acc: 0.7832\n",
            "Epoch 20/60\n",
            "715/715 [==============================] - 57s 80ms/step - loss: 0.6674 - acc: 0.7790\n",
            "Epoch 21/60\n",
            "715/715 [==============================] - 57s 80ms/step - loss: 0.6516 - acc: 0.7916\n",
            "Epoch 22/60\n",
            "715/715 [==============================] - 56s 78ms/step - loss: 0.6345 - acc: 0.7930\n",
            "Epoch 23/60\n",
            "715/715 [==============================] - 57s 79ms/step - loss: 0.6293 - acc: 0.7860\n",
            "Epoch 24/60\n",
            "715/715 [==============================] - 57s 80ms/step - loss: 0.6105 - acc: 0.8000\n",
            "Epoch 25/60\n",
            "715/715 [==============================] - 58s 81ms/step - loss: 0.5999 - acc: 0.8014\n",
            "Epoch 26/60\n",
            "715/715 [==============================] - 58s 81ms/step - loss: 0.5840 - acc: 0.8056\n",
            "Epoch 27/60\n",
            "715/715 [==============================] - 57s 80ms/step - loss: 0.5712 - acc: 0.8098\n",
            "Epoch 28/60\n",
            "715/715 [==============================] - 58s 81ms/step - loss: 0.5653 - acc: 0.8126\n",
            "Epoch 29/60\n",
            "715/715 [==============================] - 58s 81ms/step - loss: 0.5435 - acc: 0.8266\n",
            "Epoch 30/60\n",
            "715/715 [==============================] - 58s 81ms/step - loss: 0.5372 - acc: 0.8182\n",
            "Epoch 31/60\n",
            "715/715 [==============================] - 58s 81ms/step - loss: 0.5193 - acc: 0.8266\n",
            "Epoch 32/60\n",
            "715/715 [==============================] - 57s 80ms/step - loss: 0.5096 - acc: 0.8336\n",
            "Epoch 33/60\n",
            "715/715 [==============================] - 57s 80ms/step - loss: 0.4907 - acc: 0.8322\n",
            "Epoch 34/60\n",
            "715/715 [==============================] - 58s 81ms/step - loss: 0.4833 - acc: 0.8364\n",
            "Epoch 35/60\n",
            "715/715 [==============================] - 58s 81ms/step - loss: 0.4699 - acc: 0.8392\n",
            "Epoch 36/60\n",
            "715/715 [==============================] - 57s 80ms/step - loss: 0.4659 - acc: 0.8336\n",
            "Epoch 37/60\n",
            "715/715 [==============================] - 57s 80ms/step - loss: 0.4478 - acc: 0.8517\n",
            "Epoch 38/60\n",
            "715/715 [==============================] - 57s 80ms/step - loss: 0.4380 - acc: 0.8559\n",
            "Epoch 39/60\n",
            "715/715 [==============================] - 57s 80ms/step - loss: 0.4293 - acc: 0.8587\n",
            "Epoch 40/60\n",
            "715/715 [==============================] - 58s 82ms/step - loss: 0.4131 - acc: 0.8671\n",
            "Epoch 41/60\n",
            "715/715 [==============================] - 57s 80ms/step - loss: 0.4054 - acc: 0.8629\n",
            "Epoch 42/60\n",
            "715/715 [==============================] - 57s 80ms/step - loss: 0.3910 - acc: 0.8811\n",
            "Epoch 43/60\n",
            "715/715 [==============================] - 57s 80ms/step - loss: 0.3818 - acc: 0.8769\n",
            "Epoch 44/60\n",
            "715/715 [==============================] - 57s 80ms/step - loss: 0.3761 - acc: 0.8783\n",
            "Epoch 45/60\n",
            "715/715 [==============================] - 57s 80ms/step - loss: 0.3618 - acc: 0.8937\n",
            "Epoch 46/60\n",
            "715/715 [==============================] - 57s 80ms/step - loss: 0.3612 - acc: 0.8699\n",
            "Epoch 47/60\n",
            "715/715 [==============================] - 58s 81ms/step - loss: 0.3527 - acc: 0.8923\n",
            "Epoch 48/60\n",
            "715/715 [==============================] - 57s 80ms/step - loss: 0.3352 - acc: 0.8993\n",
            "Epoch 49/60\n",
            "715/715 [==============================] - 57s 80ms/step - loss: 0.3222 - acc: 0.9063\n",
            "Epoch 50/60\n",
            "715/715 [==============================] - 57s 80ms/step - loss: 0.3196 - acc: 0.8951\n",
            "Epoch 51/60\n",
            "715/715 [==============================] - 57s 80ms/step - loss: 0.3159 - acc: 0.9133\n",
            "Epoch 52/60\n",
            "715/715 [==============================] - 58s 81ms/step - loss: 0.2980 - acc: 0.9119\n",
            "Epoch 53/60\n",
            "715/715 [==============================] - 58s 81ms/step - loss: 0.2951 - acc: 0.9091\n",
            "Epoch 54/60\n",
            "715/715 [==============================] - 58s 81ms/step - loss: 0.2886 - acc: 0.9217\n",
            "Epoch 55/60\n",
            "715/715 [==============================] - 57s 80ms/step - loss: 0.2813 - acc: 0.9189\n",
            "Epoch 56/60\n",
            "715/715 [==============================] - 57s 80ms/step - loss: 0.2701 - acc: 0.9231\n",
            "Epoch 57/60\n",
            "715/715 [==============================] - 57s 80ms/step - loss: 0.2605 - acc: 0.9245\n",
            "Epoch 58/60\n",
            "715/715 [==============================] - 57s 80ms/step - loss: 0.2581 - acc: 0.9315\n",
            "Epoch 59/60\n",
            "715/715 [==============================] - 57s 80ms/step - loss: 0.2495 - acc: 0.9287\n",
            "Epoch 60/60\n",
            "715/715 [==============================] - 57s 80ms/step - loss: 0.2420 - acc: 0.9427\n"
          ],
          "name": "stdout"
        }
      ]
    },
    {
      "cell_type": "code",
      "metadata": {
        "id": "yh7KFTBXdaj-",
        "colab_type": "code",
        "colab": {}
      },
      "source": [
        "with tf.Session() as session:\n",
        "    K.set_session(session)\n",
        "    session.run(tf.global_variables_initializer())\n",
        "    session.run(tf.tables_initializer())\n",
        "    model.load_weights('./Roslyn_TD_Label_Predict_Single.h5')  \n",
        "    predicts = model.predict(x_test, batch_size=32)  "
      ],
      "execution_count": 0,
      "outputs": []
    },
    {
      "cell_type": "code",
      "metadata": {
        "id": "cVG_eZ8jdbzN",
        "colab_type": "code",
        "outputId": "8b971670-ee36-4b49-ca4a-aba4bb2d8c5d",
        "colab": {
          "base_uri": "https://localhost:8080/",
          "height": 445
        }
      },
      "source": [
        "y_test = np.asarray(y_enc[train_size:])\n",
        "y_test = decode(le, y_test)\n",
        "y_preds = decode(le, predicts)\n",
        "\n",
        "from sklearn import metrics\n",
        "\n",
        "metrics.confusion_matrix(y_test, y_preds)\n",
        "\n",
        "print(metrics.classification_report(y_test, y_preds))\n",
        "\n"
      ],
      "execution_count": 16,
      "outputs": [
        {
          "output_type": "stream",
          "text": [
            "                             precision    recall  f1-score   support\n",
            "\n",
            "              4 - In Review       0.00      0.00      0.00         2\n",
            "          Approved to merge       0.00      0.00      0.00         1\n",
            "             Area-Analyzers       0.33      0.20      0.25         5\n",
            "             Area-Compilers       0.58      0.67      0.62        48\n",
            "              Area-External       0.00      0.00      0.00         2\n",
            "                   Area-IDE       0.70      0.75      0.72        75\n",
            "        Area-Infrastructure       0.84      0.91      0.88        35\n",
            "           Area-Interactive       0.00      0.00      0.00         5\n",
            "       Area-Language Design       0.00      0.00      0.00         1\n",
            "                  Community       0.00      0.00      0.00         1\n",
            "PR For Personal Review Only       0.00      0.00      0.00         2\n",
            "       Resolution-Duplicate       0.00      0.00      0.00         2\n",
            "                        nan       0.00      0.00      0.00         0\n",
            "\n",
            "                   accuracy                           0.68       179\n",
            "                  macro avg       0.19      0.19      0.19       179\n",
            "               weighted avg       0.62      0.68      0.65       179\n",
            "\n"
          ],
          "name": "stdout"
        },
        {
          "output_type": "stream",
          "text": [
            "/usr/local/lib/python3.6/dist-packages/sklearn/metrics/classification.py:1437: UndefinedMetricWarning: Precision and F-score are ill-defined and being set to 0.0 in labels with no predicted samples.\n",
            "  'precision', 'predicted', average, warn_for)\n",
            "/usr/local/lib/python3.6/dist-packages/sklearn/metrics/classification.py:1439: UndefinedMetricWarning: Recall and F-score are ill-defined and being set to 0.0 in labels with no true samples.\n",
            "  'recall', 'true', average, warn_for)\n"
          ],
          "name": "stderr"
        }
      ]
    },
    {
      "cell_type": "code",
      "metadata": {
        "id": "bNG02At0yGXV",
        "colab_type": "code",
        "colab": {}
      },
      "source": [
        ""
      ],
      "execution_count": 0,
      "outputs": []
    },
    {
      "cell_type": "markdown",
      "metadata": {
        "id": "pckCKEEe6q4g",
        "colab_type": "text"
      },
      "source": [
        "# New Section"
      ]
    }
  ]
}