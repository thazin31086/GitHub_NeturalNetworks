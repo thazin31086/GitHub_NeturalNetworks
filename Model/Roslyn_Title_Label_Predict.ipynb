{
  "nbformat": 4,
  "nbformat_minor": 0,
  "metadata": {
    "colab": {
      "name": "SVF_TitleDescription_Assignee_Predict.ipynb",
      "provenance": [],
      "collapsed_sections": [],
      "toc_visible": true
    },
    "kernelspec": {
      "name": "python3",
      "display_name": "Python 3"
    }
  },
  "cells": [
    {
      "cell_type": "code",
      "metadata": {
        "id": "3xIbLyam6PAj",
        "colab_type": "code",
        "colab": {}
      },
      "source": [
        "#This Code predict Label for Roslyn Issues with Title\n",
        "\n",
        "import tensorflow as tf\n",
        "import tensorflow_hub as hub\n",
        "import pandas as pd\n",
        "from sklearn import preprocessing\n",
        "import keras\n",
        "import numpy as np\n",
        "\n",
        "url = \"https://tfhub.dev/google/universal-sentence-encoder-large/3\"\n",
        "embed = hub.Module(url)\n",
        "\n",
        "data = pd.read_csv('IssueDetailsRoslyn_20102019.csv', encoding='latin-1')\n",
        "\n",
        "y = list(data['Label']) \n",
        "x = list(data['Title']) \n",
        "\n",
        "le = preprocessing.LabelEncoder()\n",
        "le.fit(y)\n",
        "\n",
        "categories = list(set(y))\n",
        "\n",
        "def encode(le, labels):\n",
        "    enc = le.transform(labels)\n",
        "    return keras.utils.to_categorical(enc)\n",
        "\n",
        "def decode(le, one_hot):\n",
        "    dec = np.argmax(one_hot, axis=1)\n",
        "    return le.inverse_transform(dec)\n",
        "\n",
        "test = encode(le,categories)\n",
        "\n",
        "untest = decode(le, test)\n",
        "\n",
        "\n",
        "x_enc = x\n",
        "y_enc = encode(le, y)\n",
        "\n",
        "x_train = np.asarray(x_enc[:800])\n",
        "y_train = np.asarray(y_enc[:800])\n",
        "\n",
        "\n",
        "x_test = np.asarray(x_enc[800:])\n",
        "y_test = np.asarray(y_enc[800:])"
      ],
      "execution_count": 0,
      "outputs": []
    },
    {
      "cell_type": "code",
      "metadata": {
        "id": "Lxgn6vzHdReY",
        "colab_type": "code",
        "colab": {}
      },
      "source": [
        "from keras.layers import Input, Lambda, Dense\n",
        "from keras.models import Model\n",
        "import keras.backend as K\n",
        "\n",
        "def UniversalEmbedding(x):\n",
        "    return embed(tf.squeeze(tf.cast(x, tf.string)))"
      ],
      "execution_count": 0,
      "outputs": []
    },
    {
      "cell_type": "code",
      "metadata": {
        "id": "Wfe-mPpJdUA0",
        "colab_type": "code",
        "outputId": "37a621b0-fc65-4ced-ac34-8967527896d9",
        "colab": {
          "base_uri": "https://localhost:8080/",
          "height": 51
        }
      },
      "source": [
        "input_text = Input(shape=(1,), dtype=tf.string)\n",
        "embedding = Lambda(UniversalEmbedding, output_shape=(512, ))(input_text)\n",
        "dense = Dense(256, activation='relu')(embedding)\n",
        "pred = Dense(len(categories), activation='softmax')(dense)\n",
        "model = Model(inputs=[input_text], outputs=pred)\n",
        "model.compile(loss='categorical_crossentropy', optimizer='adam', metrics=['accuracy'])"
      ],
      "execution_count": 41,
      "outputs": [
        {
          "output_type": "stream",
          "text": [
            "INFO:tensorflow:Saver not created because there are no variables in the graph to restore\n"
          ],
          "name": "stdout"
        },
        {
          "output_type": "stream",
          "text": [
            "INFO:tensorflow:Saver not created because there are no variables in the graph to restore\n"
          ],
          "name": "stderr"
        }
      ]
    },
    {
      "cell_type": "code",
      "metadata": {
        "id": "kL5QKGbCdWEs",
        "colab_type": "code",
        "outputId": "29b3eb83-e220-4aff-c170-777bc136b098",
        "colab": {
          "base_uri": "https://localhost:8080/",
          "height": 1000
        }
      },
      "source": [
        "with tf.Session() as session:\n",
        "    K.set_session(session)\n",
        "    session.run(tf.global_variables_initializer())  \n",
        "    session.run(tf.tables_initializer())\n",
        "    history = model.fit(x_train, y_train, epochs=60, batch_size=32)\n",
        "    model.save_weights('./model.h5')"
      ],
      "execution_count": 45,
      "outputs": [
        {
          "output_type": "stream",
          "text": [
            "Epoch 1/60\n",
            "800/800 [==============================] - 11s 13ms/step - loss: 5.1870 - acc: 0.1638\n",
            "Epoch 2/60\n",
            "800/800 [==============================] - 9s 11ms/step - loss: 4.1310 - acc: 0.1787\n",
            "Epoch 3/60\n",
            "800/800 [==============================] - 9s 11ms/step - loss: 3.7652 - acc: 0.2675\n",
            "Epoch 4/60\n",
            "800/800 [==============================] - 9s 11ms/step - loss: 3.6079 - acc: 0.3087\n",
            "Epoch 5/60\n",
            "800/800 [==============================] - 9s 11ms/step - loss: 3.4734 - acc: 0.3262\n",
            "Epoch 6/60\n",
            "800/800 [==============================] - 9s 11ms/step - loss: 3.3337 - acc: 0.3313\n",
            "Epoch 7/60\n",
            "800/800 [==============================] - 9s 11ms/step - loss: 3.2012 - acc: 0.3337\n",
            "Epoch 8/60\n",
            "800/800 [==============================] - 9s 11ms/step - loss: 3.0662 - acc: 0.3450\n",
            "Epoch 9/60\n",
            "800/800 [==============================] - 9s 11ms/step - loss: 2.9428 - acc: 0.3500\n",
            "Epoch 10/60\n",
            "800/800 [==============================] - 9s 11ms/step - loss: 2.8100 - acc: 0.3650\n",
            "Epoch 11/60\n",
            "800/800 [==============================] - 9s 11ms/step - loss: 2.6961 - acc: 0.3750\n",
            "Epoch 12/60\n",
            "800/800 [==============================] - 9s 11ms/step - loss: 2.5725 - acc: 0.3850\n",
            "Epoch 13/60\n",
            "800/800 [==============================] - 9s 11ms/step - loss: 2.4600 - acc: 0.4062\n",
            "Epoch 14/60\n",
            "800/800 [==============================] - 9s 11ms/step - loss: 2.3365 - acc: 0.4187\n",
            "Epoch 15/60\n",
            "800/800 [==============================] - 9s 11ms/step - loss: 2.2286 - acc: 0.4512\n",
            "Epoch 16/60\n",
            "800/800 [==============================] - 9s 11ms/step - loss: 2.1171 - acc: 0.4563\n",
            "Epoch 17/60\n",
            "800/800 [==============================] - 9s 11ms/step - loss: 2.0030 - acc: 0.4800\n",
            "Epoch 18/60\n",
            "800/800 [==============================] - 9s 11ms/step - loss: 1.8986 - acc: 0.5012\n",
            "Epoch 19/60\n",
            "800/800 [==============================] - 9s 11ms/step - loss: 1.7982 - acc: 0.5350\n",
            "Epoch 20/60\n",
            "800/800 [==============================] - 9s 11ms/step - loss: 1.7025 - acc: 0.5725\n",
            "Epoch 21/60\n",
            "800/800 [==============================] - 9s 11ms/step - loss: 1.6255 - acc: 0.5913\n",
            "Epoch 22/60\n",
            "800/800 [==============================] - 9s 11ms/step - loss: 1.5420 - acc: 0.6212\n",
            "Epoch 23/60\n",
            "800/800 [==============================] - 9s 11ms/step - loss: 1.4640 - acc: 0.6475\n",
            "Epoch 24/60\n",
            "800/800 [==============================] - 9s 11ms/step - loss: 1.3860 - acc: 0.6763\n",
            "Epoch 25/60\n",
            "800/800 [==============================] - 9s 11ms/step - loss: 1.3214 - acc: 0.6887\n",
            "Epoch 26/60\n",
            "800/800 [==============================] - 9s 11ms/step - loss: 1.2555 - acc: 0.6962\n",
            "Epoch 27/60\n",
            "800/800 [==============================] - 9s 11ms/step - loss: 1.2085 - acc: 0.7362\n",
            "Epoch 28/60\n",
            "800/800 [==============================] - 9s 11ms/step - loss: 1.1509 - acc: 0.7362\n",
            "Epoch 29/60\n",
            "800/800 [==============================] - 9s 11ms/step - loss: 1.1015 - acc: 0.7600\n",
            "Epoch 30/60\n",
            "800/800 [==============================] - 9s 11ms/step - loss: 1.0481 - acc: 0.7688\n",
            "Epoch 31/60\n",
            "800/800 [==============================] - 9s 11ms/step - loss: 1.0212 - acc: 0.7600\n",
            "Epoch 32/60\n",
            "800/800 [==============================] - 9s 11ms/step - loss: 0.9778 - acc: 0.7800\n",
            "Epoch 33/60\n",
            "800/800 [==============================] - 9s 11ms/step - loss: 0.9417 - acc: 0.7838\n",
            "Epoch 34/60\n",
            "800/800 [==============================] - 9s 11ms/step - loss: 0.9048 - acc: 0.8013\n",
            "Epoch 35/60\n",
            "800/800 [==============================] - 9s 11ms/step - loss: 0.8718 - acc: 0.8038\n",
            "Epoch 36/60\n",
            "800/800 [==============================] - 9s 11ms/step - loss: 0.8358 - acc: 0.8113\n",
            "Epoch 37/60\n",
            "800/800 [==============================] - 9s 11ms/step - loss: 0.8097 - acc: 0.8325\n",
            "Epoch 38/60\n",
            "800/800 [==============================] - 9s 11ms/step - loss: 0.7767 - acc: 0.8350\n",
            "Epoch 39/60\n",
            "800/800 [==============================] - 9s 11ms/step - loss: 0.7570 - acc: 0.8362\n",
            "Epoch 40/60\n",
            "800/800 [==============================] - 9s 11ms/step - loss: 0.7308 - acc: 0.8425\n",
            "Epoch 41/60\n",
            "800/800 [==============================] - 9s 11ms/step - loss: 0.7041 - acc: 0.8475\n",
            "Epoch 42/60\n",
            "800/800 [==============================] - 16s 20ms/step - loss: 0.6828 - acc: 0.8538\n",
            "Epoch 43/60\n",
            "800/800 [==============================] - 11s 14ms/step - loss: 0.6612 - acc: 0.8612\n",
            "Epoch 44/60\n",
            "800/800 [==============================] - 9s 11ms/step - loss: 0.6403 - acc: 0.8837\n",
            "Epoch 45/60\n",
            "800/800 [==============================] - 9s 11ms/step - loss: 0.6205 - acc: 0.8712\n",
            "Epoch 46/60\n",
            "800/800 [==============================] - 9s 11ms/step - loss: 0.6000 - acc: 0.8762\n",
            "Epoch 47/60\n",
            "800/800 [==============================] - 9s 11ms/step - loss: 0.5881 - acc: 0.8712\n",
            "Epoch 48/60\n",
            "800/800 [==============================] - 9s 11ms/step - loss: 0.5702 - acc: 0.8825\n",
            "Epoch 49/60\n",
            "800/800 [==============================] - 9s 11ms/step - loss: 0.5517 - acc: 0.8912\n",
            "Epoch 50/60\n",
            "800/800 [==============================] - 9s 11ms/step - loss: 0.5300 - acc: 0.9012\n",
            "Epoch 51/60\n",
            "800/800 [==============================] - 9s 11ms/step - loss: 0.5200 - acc: 0.8962\n",
            "Epoch 52/60\n",
            "800/800 [==============================] - 9s 11ms/step - loss: 0.5016 - acc: 0.9100\n",
            "Epoch 53/60\n",
            "800/800 [==============================] - 9s 11ms/step - loss: 0.4849 - acc: 0.9037\n",
            "Epoch 54/60\n",
            "800/800 [==============================] - 9s 11ms/step - loss: 0.4713 - acc: 0.9088\n",
            "Epoch 55/60\n",
            "800/800 [==============================] - 9s 11ms/step - loss: 0.4594 - acc: 0.9125\n",
            "Epoch 56/60\n",
            "800/800 [==============================] - 9s 11ms/step - loss: 0.4499 - acc: 0.9138\n",
            "Epoch 57/60\n",
            "800/800 [==============================] - 9s 11ms/step - loss: 0.4352 - acc: 0.9213\n",
            "Epoch 58/60\n",
            "800/800 [==============================] - 9s 11ms/step - loss: 0.4256 - acc: 0.9325\n",
            "Epoch 59/60\n",
            "800/800 [==============================] - 9s 11ms/step - loss: 0.4149 - acc: 0.9288\n",
            "Epoch 60/60\n",
            "800/800 [==============================] - 9s 11ms/step - loss: 0.4039 - acc: 0.9275\n"
          ],
          "name": "stdout"
        }
      ]
    },
    {
      "cell_type": "code",
      "metadata": {
        "id": "yh7KFTBXdaj-",
        "colab_type": "code",
        "colab": {}
      },
      "source": [
        "with tf.Session() as session:\n",
        "    K.set_session(session)\n",
        "    session.run(tf.global_variables_initializer())\n",
        "    session.run(tf.tables_initializer())\n",
        "    model.load_weights('./model.h5')  \n",
        "    predicts = model.predict(x_test, batch_size=32)  "
      ],
      "execution_count": 0,
      "outputs": []
    },
    {
      "cell_type": "code",
      "metadata": {
        "id": "sY2Wve_zIMce",
        "colab_type": "code",
        "outputId": "8ad4332d-b907-429e-cafd-36eec16279e2",
        "colab": {
          "base_uri": "https://localhost:8080/",
          "height": 1000
        }
      },
      "source": [
        "y_test = np.asarray(y_enc[800:])\n",
        "\n",
        "\n",
        "y_test = decode(le, y_test)\n",
        "y_preds = decode(le, predicts)\n",
        "\n",
        "from sklearn import metrics\n",
        "\n",
        "metrics.confusion_matrix(y_test, y_preds)\n",
        "\n",
        "print(metrics.classification_report(y_test, y_preds))\n"
      ],
      "execution_count": 47,
      "outputs": [
        {
          "output_type": "stream",
          "text": [
            "                                                                                                                              precision    recall  f1-score   support\n",
            "\n",
            "4 - In Review|Area-Compilers|Area-Language Design|Bug|Language-C#|New Language Feature - Default Interface Impl|Urgency-Soon       0.00      0.00      0.00         1\n",
            "                                            4 - In Review|Area-Compilers|Bug|New Language Feature - Nullable Reference Types       0.00      0.00      0.00         1\n",
            "                                                    4 - In Review|Area-Compilers|Bug|New Language Feature - Pattern Matching       0.00      0.00      0.00         0\n",
            "                                                                                   Approved to merge|Area-Compilers|ask-mode       0.00      0.00      0.00         1\n",
            "                                                                                                  Approved to merge|Area-IDE       0.00      0.00      0.00         1\n",
            "                                                     Approved to merge|Area-Infrastructure|Auto-Merge If Tests Pass|ask-mode       0.00      0.00      0.00         1\n",
            "                                                                Approved to merge|Area-Infrastructure|Source-Build|tell-mode       0.00      0.00      0.00         1\n",
            "                                                                                               Area-Analyzers|Area-Compilers       0.00      0.00      0.00         0\n",
            "                                                             Area-Analyzers|Concept-Continuous Improvement|Tenet-Performance       0.00      0.00      0.00         1\n",
            "                                                                                                              Area-Compilers       0.00      0.00      0.00         6\n",
            "                                                                                Area-Compilers|Auto-Merge If Tests Pass|Test       0.00      0.00      0.00         1\n",
            "                                                                                                          Area-Compilers|Bug       0.00      0.00      0.00         5\n",
            "                                                                                      Area-Compilers|Bug|Concept-Design Debt       0.00      0.00      0.00         0\n",
            "                                                       Area-Compilers|Bug|Concept-Diagnostic Clarity|Language-C#|help wanted       0.00      0.00      0.00         1\n",
            "                                                                                            Area-Compilers|Bug|Disabled Test       0.00      0.00      0.00         1\n",
            "                                                            Area-Compilers|Bug|New Language Feature - Default Interface Impl       0.00      0.00      0.00         1\n",
            "                                                          Area-Compilers|Bug|New Language Feature - Nullable Reference Types       0.00      0.00      0.00         1\n",
            "                                     Area-Compilers|Bug|New Language Feature - Nullable Reference Types|Resolution-Duplicate       0.00      0.00      0.00         1\n",
            "                                                           Area-Compilers|Bug|New Language Feature - Tuples|Resolution-Fixed       0.00      0.00      0.00         1\n",
            "                                                                                     Area-Compilers|Bug|Resolution-Duplicate       0.00      0.00      0.00         1\n",
            "                                                                          Area-Compilers|Bug|Tenet-Compatibility|help wanted       0.00      0.00      0.00         1\n",
            "                                                                                                    Area-Compilers|Community       0.00      0.00      0.00         0\n",
            "                                                                                  Area-Compilers|Concept-API|Feature Request       0.00      0.00      0.00         1\n",
            "                                                                                                Area-Compilers|Documentation       0.00      0.00      0.00         0\n",
            "                                                                                              Area-Compilers|Feature Request       0.00      0.00      0.00         2\n",
            "                                                Area-Compilers|Investigating|New Language Feature - Nullable Reference Types       0.00      0.00      0.00         0\n",
            "                                                    Area-Compilers|Language-C#|New Language Feature - Default Interface Impl       1.00      1.00      1.00         1\n",
            "                                                                                   Area-Compilers|Language-VB|Need More Info       0.00      0.00      0.00         1\n",
            "                                                                Area-Compilers|New Language Feature - Default Interface Impl       0.00      0.00      0.00         1\n",
            "                                                              Area-Compilers|New Language Feature - Nullable Reference Types       0.00      0.00      0.00         1\n",
            "                                         Area-Compilers|New Language Feature - Nullable Reference Types|Resolution-Won't Fix       0.00      0.00      0.00         0\n",
            "                                                               Area-Compilers|New Language Feature - Nullable Semantic Model       0.00      0.00      0.00         0\n",
            "                                                                                 Area-Compilers|New Language Feature - Range       0.00      0.00      0.00         1\n",
            "                                                                                                         Area-Compilers|Test       0.00      0.00      0.00         0\n",
            "                                                                                                               Area-External       0.00      0.00      0.00         0\n",
            "                                                                                          Area-External|Bug|IDE-IntelliSense       0.00      0.00      0.00         1\n",
            "                                                                                                                    Area-IDE       0.11      0.22      0.14         9\n",
            "                                                                                                                Area-IDE|Bug       0.00      0.00      0.00         1\n",
            "                                                                                            Area-IDE|Bug|Developer Community       0.00      0.00      0.00         0\n",
            "                                                                                                  Area-IDE|Bug|IDE-CodeStyle       0.00      0.00      0.00         1\n",
            "                                                                             Area-IDE|Bug|IDE-CodeStyle|Resolution-Duplicate       0.00      0.00      0.00         1\n",
            "                                                                                      Area-IDE|Bug|IDE-CodeStyle|help wanted       0.00      0.00      0.00         1\n",
            "                                                                                 Area-IDE|Bug|IDE-Formatter|Resolution-Fixed       0.00      0.00      0.00         0\n",
            "                                                                                           Area-IDE|Bug|IDE-MSBuildWorkspace       0.00      0.00      0.00         0\n",
            "                                                                                     Area-IDE|Bug|IDE-Navigation|help wanted       0.00      0.00      0.00         1\n",
            "                                                                Area-IDE|Bug|New Language Feature - Nullable Reference Types       0.00      0.00      0.00         0\n",
            "                                                                                   Area-IDE|Bug|New Language Feature - Range       0.00      0.00      0.00         0\n",
            "                                                                                              Area-IDE|Bug|Tenet-Reliability       0.00      0.00      0.00         1\n",
            "                                                                                                    Area-IDE|Bug|help wanted       0.00      0.00      0.00         1\n",
            "                                                                                                          Area-IDE|Community       0.20      0.33      0.25         3\n",
            "                                                                                     Area-IDE|Concept-Continuous Improvement       0.00      0.00      0.00         4\n",
            "                                       Area-IDE|Concept-Continuous Improvement|Developer Community|IDE-CodeStyle|help wanted       0.00      0.00      0.00         1\n",
            "                                                Area-IDE|Concept-Continuous Improvement|Developer Community|IDE-IntelliSense       0.00      0.00      0.00         0\n",
            "                                                                  Area-IDE|Concept-Continuous Improvement|Need Design Review       0.00      0.00      0.00         1\n",
            "                                                                         Area-IDE|Concept-Continuous Improvement|help wanted       0.00      0.00      0.00         0\n",
            "                                                                                                Area-IDE|Developer Community       0.00      0.00      0.00         0\n",
            "                                                                                Area-IDE|Developer Community|Feature Request       0.00      0.00      0.00         2\n",
            "                                                             Area-IDE|Developer Community|Feature Request|Need Design Review       0.00      0.00      0.00         1\n",
            "                                                                                                      Area-IDE|Disabled Test       0.00      0.00      0.00         0\n",
            "                                                                                     Area-IDE|Disabled Test|IDE-IntelliSense       0.00      0.00      0.00         0\n",
            "                                                                                                    Area-IDE|Feature Request       0.00      0.00      0.00         1\n",
            "                                                                Area-IDE|Feature Request|IDE-IntelliSense|Need Design Review       0.00      0.00      0.00         1\n",
            "                                                                                 Area-IDE|Feature Request|Need Design Review       0.00      0.00      0.00         5\n",
            "                                                                                                   Area-IDE|IDE-IntelliSense       0.00      0.00      0.00         1\n",
            "                                                                                 Area-IDE|IDE-IntelliSense|Tenet-Reliability       0.00      0.00      0.00         0\n",
            "                                                                                              Area-IDE|IDE-IntelliSense|Test       0.00      0.00      0.00         1\n",
            "                                                                                      Area-IDE|Question|Resolution-Duplicate       0.00      0.00      0.00         0\n",
            "                                                                                                Area-IDE|Resolution-Answered       0.00      0.00      0.00         1\n",
            "                                                                                               Area-IDE|Resolution-Duplicate       0.00      0.00      0.00         2\n",
            "                                                                                                         Area-Infrastructure       0.17      0.33      0.22         3\n",
            "                                                                                Area-Infrastructure|Auto-Merge If Tests Pass       1.00      0.12      0.22         8\n",
            "                                                                                               Area-Infrastructure|Community       0.00      0.00      0.00         0\n",
            "                                                                                        Area-Infrastructure|Contributor Pain       0.00      0.00      0.00         0\n",
            "                                                                                              Area-Infrastructure|Flaky|Test       0.00      0.00      0.00         0\n",
            "                                                                                              Area-Infrastructure|auto-merge       0.00      0.00      0.00         0\n",
            "                                                                                                        Area-Interactive|Bug       0.00      0.00      0.00         0\n",
            "                                                                                      Area-Interactive|Interactive-Debugging       0.00      0.00      0.00         1\n",
            "                                                                                                            Area-Performance       0.00      0.00      0.00         1\n",
            "                                                                                                               Disabled Test       0.00      0.00      0.00         1\n",
            "                                                                                                 PR For Personal Review Only       0.00      0.00      0.00         2\n",
            "                                                                                                            Resolution-Fixed       0.00      0.00      0.00         1\n",
            "                                                                                                                         nan       0.00      0.00      0.00         2\n",
            "\n",
            "                                                                                                                    accuracy                           0.06        95\n",
            "                                                                                                                   macro avg       0.03      0.02      0.02        95\n",
            "                                                                                                                weighted avg       0.12      0.06      0.06        95\n",
            "\n"
          ],
          "name": "stdout"
        },
        {
          "output_type": "stream",
          "text": [
            "/usr/local/lib/python3.6/dist-packages/sklearn/metrics/classification.py:1437: UndefinedMetricWarning: Precision and F-score are ill-defined and being set to 0.0 in labels with no predicted samples.\n",
            "  'precision', 'predicted', average, warn_for)\n",
            "/usr/local/lib/python3.6/dist-packages/sklearn/metrics/classification.py:1439: UndefinedMetricWarning: Recall and F-score are ill-defined and being set to 0.0 in labels with no true samples.\n",
            "  'recall', 'true', average, warn_for)\n"
          ],
          "name": "stderr"
        }
      ]
    },
    {
      "cell_type": "code",
      "metadata": {
        "id": "bNG02At0yGXV",
        "colab_type": "code",
        "colab": {}
      },
      "source": [
        ""
      ],
      "execution_count": 0,
      "outputs": []
    },
    {
      "cell_type": "markdown",
      "metadata": {
        "id": "pckCKEEe6q4g",
        "colab_type": "text"
      },
      "source": [
        "# New Section"
      ]
    }
  ]
}