{
  "nbformat": 4,
  "nbformat_minor": 0,
  "metadata": {
    "colab": {
      "name": "SVF_Title_Assignee_Predict.ipynb",
      "provenance": [],
      "collapsed_sections": [],
      "toc_visible": true
    },
    "kernelspec": {
      "name": "python3",
      "display_name": "Python 3"
    }
  },
  "cells": [
    {
      "cell_type": "code",
      "metadata": {
        "id": "3xIbLyam6PAj",
        "colab_type": "code",
        "colab": {
          "base_uri": "https://localhost:8080/",
          "height": 34
        },
        "outputId": "b40b4e1c-29ff-4f8f-8760-4979b5e3bfd4"
      },
      "source": [
        "#This Code predict Label for SVF Issues with Title\n",
        "\n",
        "import tensorflow as tf\n",
        "import tensorflow_hub as hub\n",
        "import pandas as pd\n",
        "from sklearn import preprocessing\n",
        "import keras\n",
        "import numpy as np\n",
        "\n",
        "url = \"https://tfhub.dev/google/universal-sentence-encoder-large/3\"\n",
        "embed = hub.Module(url)\n",
        "\n",
        "data = pd.read_csv('IssueDetailsRoslyn_20102019_Single.csv')\n",
        "data = data.sample(frac=1)\n",
        "\n",
        "y = list(data['Label']) \n",
        "x = list(data['Title']) \n",
        "\n",
        "le = preprocessing.LabelEncoder()\n",
        "le.fit(y)\n",
        "\n",
        "categories = list(set(y))\n",
        "\n",
        "def encode(le, labels):\n",
        "    enc = le.transform(labels)\n",
        "    return keras.utils.to_categorical(enc)\n",
        "\n",
        "def decode(le, one_hot):\n",
        "    dec = np.argmax(one_hot, axis=1)\n",
        "    return le.inverse_transform(dec)\n",
        "\n",
        "test = encode(le,categories)\n",
        "\n",
        "untest = decode(le, test)\n",
        "\n",
        "\n",
        "x_enc = x\n",
        "y_enc = encode(le, y)\n",
        "\n",
        "#80% / 20% train / test split:\n",
        "\n",
        "train_size = int(len(x) * .8)\n",
        "\n",
        "x_train = np.asarray(x_enc[:train_size])\n",
        "y_train = np.asarray(y_enc[:train_size])\n",
        "\n",
        "x_test = np.asarray(x_enc[train_size:])\n",
        "y_test = np.asarray(y_enc[train_size:])"
      ],
      "execution_count": 3,
      "outputs": [
        {
          "output_type": "stream",
          "text": [
            "Using TensorFlow backend.\n"
          ],
          "name": "stderr"
        }
      ]
    },
    {
      "cell_type": "code",
      "metadata": {
        "id": "Lxgn6vzHdReY",
        "colab_type": "code",
        "colab": {}
      },
      "source": [
        "from keras.layers import Input, Lambda, Dense\n",
        "from keras.models import Model\n",
        "import keras.backend as K\n",
        "\n",
        "def UniversalEmbedding(x):\n",
        "    return embed(tf.squeeze(tf.cast(x, tf.string)))"
      ],
      "execution_count": 0,
      "outputs": []
    },
    {
      "cell_type": "code",
      "metadata": {
        "id": "Wfe-mPpJdUA0",
        "colab_type": "code",
        "outputId": "ef93dac3-5d55-49bf-e735-9dc6b01f8081",
        "colab": {
          "base_uri": "https://localhost:8080/",
          "height": 411
        }
      },
      "source": [
        "input_text = Input(shape=(1,), dtype=tf.string)\n",
        "embedding = Lambda(UniversalEmbedding, output_shape=(512, ))(input_text)\n",
        "dense = Dense(256, activation='relu')(embedding)\n",
        "pred = Dense(len(categories), activation='softmax')(dense)\n",
        "model = Model(inputs=[input_text], outputs=pred)\n",
        "model.compile(loss='categorical_crossentropy', optimizer='adam', metrics=['accuracy'])"
      ],
      "execution_count": 6,
      "outputs": [
        {
          "output_type": "stream",
          "text": [
            "WARNING:tensorflow:From /usr/local/lib/python3.6/dist-packages/keras/backend/tensorflow_backend.py:66: The name tf.get_default_graph is deprecated. Please use tf.compat.v1.get_default_graph instead.\n",
            "\n"
          ],
          "name": "stdout"
        },
        {
          "output_type": "stream",
          "text": [
            "WARNING:tensorflow:From /usr/local/lib/python3.6/dist-packages/keras/backend/tensorflow_backend.py:66: The name tf.get_default_graph is deprecated. Please use tf.compat.v1.get_default_graph instead.\n",
            "\n"
          ],
          "name": "stderr"
        },
        {
          "output_type": "stream",
          "text": [
            "WARNING:tensorflow:From /usr/local/lib/python3.6/dist-packages/keras/backend/tensorflow_backend.py:541: The name tf.placeholder is deprecated. Please use tf.compat.v1.placeholder instead.\n",
            "\n"
          ],
          "name": "stdout"
        },
        {
          "output_type": "stream",
          "text": [
            "WARNING:tensorflow:From /usr/local/lib/python3.6/dist-packages/keras/backend/tensorflow_backend.py:541: The name tf.placeholder is deprecated. Please use tf.compat.v1.placeholder instead.\n",
            "\n"
          ],
          "name": "stderr"
        },
        {
          "output_type": "stream",
          "text": [
            "INFO:tensorflow:Saver not created because there are no variables in the graph to restore\n"
          ],
          "name": "stdout"
        },
        {
          "output_type": "stream",
          "text": [
            "INFO:tensorflow:Saver not created because there are no variables in the graph to restore\n"
          ],
          "name": "stderr"
        },
        {
          "output_type": "stream",
          "text": [
            "WARNING:tensorflow:From /usr/local/lib/python3.6/dist-packages/keras/backend/tensorflow_backend.py:4432: The name tf.random_uniform is deprecated. Please use tf.random.uniform instead.\n",
            "\n"
          ],
          "name": "stdout"
        },
        {
          "output_type": "stream",
          "text": [
            "WARNING:tensorflow:From /usr/local/lib/python3.6/dist-packages/keras/backend/tensorflow_backend.py:4432: The name tf.random_uniform is deprecated. Please use tf.random.uniform instead.\n",
            "\n"
          ],
          "name": "stderr"
        },
        {
          "output_type": "stream",
          "text": [
            "WARNING:tensorflow:From /usr/local/lib/python3.6/dist-packages/keras/optimizers.py:793: The name tf.train.Optimizer is deprecated. Please use tf.compat.v1.train.Optimizer instead.\n",
            "\n"
          ],
          "name": "stdout"
        },
        {
          "output_type": "stream",
          "text": [
            "WARNING:tensorflow:From /usr/local/lib/python3.6/dist-packages/keras/optimizers.py:793: The name tf.train.Optimizer is deprecated. Please use tf.compat.v1.train.Optimizer instead.\n",
            "\n"
          ],
          "name": "stderr"
        },
        {
          "output_type": "stream",
          "text": [
            "WARNING:tensorflow:From /usr/local/lib/python3.6/dist-packages/keras/backend/tensorflow_backend.py:3576: The name tf.log is deprecated. Please use tf.math.log instead.\n",
            "\n"
          ],
          "name": "stdout"
        },
        {
          "output_type": "stream",
          "text": [
            "WARNING:tensorflow:From /usr/local/lib/python3.6/dist-packages/keras/backend/tensorflow_backend.py:3576: The name tf.log is deprecated. Please use tf.math.log instead.\n",
            "\n"
          ],
          "name": "stderr"
        }
      ]
    },
    {
      "cell_type": "code",
      "metadata": {
        "id": "kL5QKGbCdWEs",
        "colab_type": "code",
        "outputId": "beab1c96-7af0-4a50-8bc2-f079b29b920c",
        "colab": {
          "base_uri": "https://localhost:8080/",
          "height": 1000
        }
      },
      "source": [
        "with tf.Session() as session:\n",
        "    K.set_session(session)\n",
        "    session.run(tf.global_variables_initializer())  \n",
        "    session.run(tf.tables_initializer())\n",
        "    history = model.fit(x_train, y_train, epochs=60, batch_size=32)\n",
        "    model.save_weights('./Roslyn_T_Label_Predict_Single.h5')"
      ],
      "execution_count": 7,
      "outputs": [
        {
          "output_type": "stream",
          "text": [
            "WARNING:tensorflow:From /usr/local/lib/python3.6/dist-packages/tensorflow_core/python/ops/math_grad.py:1424: where (from tensorflow.python.ops.array_ops) is deprecated and will be removed in a future version.\n",
            "Instructions for updating:\n",
            "Use tf.where in 2.0, which has the same broadcast rule as np.where\n"
          ],
          "name": "stdout"
        },
        {
          "output_type": "stream",
          "text": [
            "WARNING:tensorflow:From /usr/local/lib/python3.6/dist-packages/tensorflow_core/python/ops/math_grad.py:1424: where (from tensorflow.python.ops.array_ops) is deprecated and will be removed in a future version.\n",
            "Instructions for updating:\n",
            "Use tf.where in 2.0, which has the same broadcast rule as np.where\n"
          ],
          "name": "stderr"
        },
        {
          "output_type": "stream",
          "text": [
            "WARNING:tensorflow:From /usr/local/lib/python3.6/dist-packages/keras/backend/tensorflow_backend.py:1033: The name tf.assign_add is deprecated. Please use tf.compat.v1.assign_add instead.\n",
            "\n"
          ],
          "name": "stdout"
        },
        {
          "output_type": "stream",
          "text": [
            "WARNING:tensorflow:From /usr/local/lib/python3.6/dist-packages/keras/backend/tensorflow_backend.py:1033: The name tf.assign_add is deprecated. Please use tf.compat.v1.assign_add instead.\n",
            "\n"
          ],
          "name": "stderr"
        },
        {
          "output_type": "stream",
          "text": [
            "WARNING:tensorflow:From /usr/local/lib/python3.6/dist-packages/keras/backend/tensorflow_backend.py:1020: The name tf.assign is deprecated. Please use tf.compat.v1.assign instead.\n",
            "\n"
          ],
          "name": "stdout"
        },
        {
          "output_type": "stream",
          "text": [
            "WARNING:tensorflow:From /usr/local/lib/python3.6/dist-packages/keras/backend/tensorflow_backend.py:1020: The name tf.assign is deprecated. Please use tf.compat.v1.assign instead.\n",
            "\n"
          ],
          "name": "stderr"
        },
        {
          "output_type": "stream",
          "text": [
            "Epoch 1/60\n",
            "WARNING:tensorflow:From /usr/local/lib/python3.6/dist-packages/keras/backend/tensorflow_backend.py:190: The name tf.get_default_session is deprecated. Please use tf.compat.v1.get_default_session instead.\n",
            "\n"
          ],
          "name": "stdout"
        },
        {
          "output_type": "stream",
          "text": [
            "WARNING:tensorflow:From /usr/local/lib/python3.6/dist-packages/keras/backend/tensorflow_backend.py:190: The name tf.get_default_session is deprecated. Please use tf.compat.v1.get_default_session instead.\n",
            "\n"
          ],
          "name": "stderr"
        },
        {
          "output_type": "stream",
          "text": [
            "WARNING:tensorflow:From /usr/local/lib/python3.6/dist-packages/keras/backend/tensorflow_backend.py:207: The name tf.global_variables is deprecated. Please use tf.compat.v1.global_variables instead.\n",
            "\n"
          ],
          "name": "stdout"
        },
        {
          "output_type": "stream",
          "text": [
            "WARNING:tensorflow:From /usr/local/lib/python3.6/dist-packages/keras/backend/tensorflow_backend.py:207: The name tf.global_variables is deprecated. Please use tf.compat.v1.global_variables instead.\n",
            "\n"
          ],
          "name": "stderr"
        },
        {
          "output_type": "stream",
          "text": [
            "WARNING:tensorflow:From /usr/local/lib/python3.6/dist-packages/keras/backend/tensorflow_backend.py:216: The name tf.is_variable_initialized is deprecated. Please use tf.compat.v1.is_variable_initialized instead.\n",
            "\n"
          ],
          "name": "stdout"
        },
        {
          "output_type": "stream",
          "text": [
            "WARNING:tensorflow:From /usr/local/lib/python3.6/dist-packages/keras/backend/tensorflow_backend.py:216: The name tf.is_variable_initialized is deprecated. Please use tf.compat.v1.is_variable_initialized instead.\n",
            "\n"
          ],
          "name": "stderr"
        },
        {
          "output_type": "stream",
          "text": [
            "WARNING:tensorflow:From /usr/local/lib/python3.6/dist-packages/keras/backend/tensorflow_backend.py:223: The name tf.variables_initializer is deprecated. Please use tf.compat.v1.variables_initializer instead.\n",
            "\n"
          ],
          "name": "stdout"
        },
        {
          "output_type": "stream",
          "text": [
            "WARNING:tensorflow:From /usr/local/lib/python3.6/dist-packages/keras/backend/tensorflow_backend.py:223: The name tf.variables_initializer is deprecated. Please use tf.compat.v1.variables_initializer instead.\n",
            "\n"
          ],
          "name": "stderr"
        },
        {
          "output_type": "stream",
          "text": [
            "715/715 [==============================] - 11s 15ms/step - loss: 2.2821 - acc: 0.5105\n",
            "Epoch 2/60\n",
            "715/715 [==============================] - 9s 12ms/step - loss: 1.2719 - acc: 0.6224\n",
            "Epoch 3/60\n",
            "715/715 [==============================] - 9s 12ms/step - loss: 1.1411 - acc: 0.6182\n",
            "Epoch 4/60\n",
            "715/715 [==============================] - 9s 12ms/step - loss: 1.0819 - acc: 0.6503\n",
            "Epoch 5/60\n",
            "715/715 [==============================] - 9s 12ms/step - loss: 1.0311 - acc: 0.6881\n",
            "Epoch 6/60\n",
            "715/715 [==============================] - 9s 12ms/step - loss: 0.9981 - acc: 0.6951\n",
            "Epoch 7/60\n",
            "715/715 [==============================] - 9s 12ms/step - loss: 0.9663 - acc: 0.6979\n",
            "Epoch 8/60\n",
            "715/715 [==============================] - 8s 12ms/step - loss: 0.9418 - acc: 0.7063\n",
            "Epoch 9/60\n",
            "715/715 [==============================] - 9s 12ms/step - loss: 0.9135 - acc: 0.7063\n",
            "Epoch 10/60\n",
            "715/715 [==============================] - 8s 12ms/step - loss: 0.9029 - acc: 0.7133\n",
            "Epoch 11/60\n",
            "715/715 [==============================] - 9s 12ms/step - loss: 0.8764 - acc: 0.7231\n",
            "Epoch 12/60\n",
            "715/715 [==============================] - 9s 12ms/step - loss: 0.8527 - acc: 0.7203\n",
            "Epoch 13/60\n",
            "715/715 [==============================] - 9s 12ms/step - loss: 0.8300 - acc: 0.7385\n",
            "Epoch 14/60\n",
            "715/715 [==============================] - 9s 12ms/step - loss: 0.8075 - acc: 0.7357\n",
            "Epoch 15/60\n",
            "715/715 [==============================] - 9s 12ms/step - loss: 0.7906 - acc: 0.7497\n",
            "Epoch 16/60\n",
            "715/715 [==============================] - 9s 12ms/step - loss: 0.7695 - acc: 0.7427\n",
            "Epoch 17/60\n",
            "715/715 [==============================] - 9s 12ms/step - loss: 0.7583 - acc: 0.7357\n",
            "Epoch 18/60\n",
            "715/715 [==============================] - 9s 12ms/step - loss: 0.7341 - acc: 0.7594\n",
            "Epoch 19/60\n",
            "715/715 [==============================] - 9s 12ms/step - loss: 0.7157 - acc: 0.7580\n",
            "Epoch 20/60\n",
            "715/715 [==============================] - 9s 12ms/step - loss: 0.6954 - acc: 0.7706\n",
            "Epoch 21/60\n",
            "715/715 [==============================] - 9s 12ms/step - loss: 0.6795 - acc: 0.7790\n",
            "Epoch 22/60\n",
            "715/715 [==============================] - 9s 12ms/step - loss: 0.6604 - acc: 0.7776\n",
            "Epoch 23/60\n",
            "715/715 [==============================] - 9s 12ms/step - loss: 0.6470 - acc: 0.7874\n",
            "Epoch 24/60\n",
            "715/715 [==============================] - 9s 12ms/step - loss: 0.6289 - acc: 0.7902\n",
            "Epoch 25/60\n",
            "715/715 [==============================] - 9s 12ms/step - loss: 0.6103 - acc: 0.7958\n",
            "Epoch 26/60\n",
            "715/715 [==============================] - 9s 13ms/step - loss: 0.5953 - acc: 0.7874\n",
            "Epoch 27/60\n",
            "715/715 [==============================] - 9s 13ms/step - loss: 0.5828 - acc: 0.7930\n",
            "Epoch 28/60\n",
            "715/715 [==============================] - 9s 13ms/step - loss: 0.5697 - acc: 0.8028\n",
            "Epoch 29/60\n",
            "715/715 [==============================] - 9s 12ms/step - loss: 0.5514 - acc: 0.8056\n",
            "Epoch 30/60\n",
            "715/715 [==============================] - 9s 12ms/step - loss: 0.5359 - acc: 0.8084\n",
            "Epoch 31/60\n",
            "715/715 [==============================] - 9s 12ms/step - loss: 0.5241 - acc: 0.8182\n",
            "Epoch 32/60\n",
            "715/715 [==============================] - 9s 12ms/step - loss: 0.5078 - acc: 0.8182\n",
            "Epoch 33/60\n",
            "715/715 [==============================] - 9s 12ms/step - loss: 0.4897 - acc: 0.8280\n",
            "Epoch 34/60\n",
            "715/715 [==============================] - 9s 13ms/step - loss: 0.4891 - acc: 0.8154\n",
            "Epoch 35/60\n",
            "715/715 [==============================] - 9s 12ms/step - loss: 0.4717 - acc: 0.8336\n",
            "Epoch 36/60\n",
            "715/715 [==============================] - 9s 12ms/step - loss: 0.4516 - acc: 0.8545\n",
            "Epoch 37/60\n",
            "715/715 [==============================] - 9s 13ms/step - loss: 0.4379 - acc: 0.8503\n",
            "Epoch 38/60\n",
            "715/715 [==============================] - 9s 12ms/step - loss: 0.4228 - acc: 0.8643\n",
            "Epoch 39/60\n",
            "715/715 [==============================] - 9s 12ms/step - loss: 0.4169 - acc: 0.8685\n",
            "Epoch 40/60\n",
            "715/715 [==============================] - 9s 12ms/step - loss: 0.4008 - acc: 0.8741\n",
            "Epoch 41/60\n",
            "715/715 [==============================] - 9s 13ms/step - loss: 0.3839 - acc: 0.8797\n",
            "Epoch 42/60\n",
            "715/715 [==============================] - 9s 12ms/step - loss: 0.3799 - acc: 0.8825\n",
            "Epoch 43/60\n",
            "715/715 [==============================] - 9s 12ms/step - loss: 0.3624 - acc: 0.8937\n",
            "Epoch 44/60\n",
            "715/715 [==============================] - 9s 13ms/step - loss: 0.3509 - acc: 0.8937\n",
            "Epoch 45/60\n",
            "715/715 [==============================] - 9s 12ms/step - loss: 0.3408 - acc: 0.8979\n",
            "Epoch 46/60\n",
            "715/715 [==============================] - 9s 12ms/step - loss: 0.3286 - acc: 0.9147\n",
            "Epoch 47/60\n",
            "715/715 [==============================] - 9s 12ms/step - loss: 0.3193 - acc: 0.9091\n",
            "Epoch 48/60\n",
            "715/715 [==============================] - 9s 13ms/step - loss: 0.3063 - acc: 0.9105\n",
            "Epoch 49/60\n",
            "715/715 [==============================] - 9s 13ms/step - loss: 0.3050 - acc: 0.9189\n",
            "Epoch 50/60\n",
            "715/715 [==============================] - 9s 13ms/step - loss: 0.2926 - acc: 0.9189\n",
            "Epoch 51/60\n",
            "715/715 [==============================] - 9s 13ms/step - loss: 0.2868 - acc: 0.9287\n",
            "Epoch 52/60\n",
            "715/715 [==============================] - 9s 13ms/step - loss: 0.2736 - acc: 0.9273\n",
            "Epoch 53/60\n",
            "715/715 [==============================] - 9s 13ms/step - loss: 0.2683 - acc: 0.9301\n",
            "Epoch 54/60\n",
            "715/715 [==============================] - 9s 13ms/step - loss: 0.2595 - acc: 0.9399\n",
            "Epoch 55/60\n",
            "715/715 [==============================] - 9s 13ms/step - loss: 0.2517 - acc: 0.9455\n",
            "Epoch 56/60\n",
            "715/715 [==============================] - 9s 13ms/step - loss: 0.2421 - acc: 0.9497\n",
            "Epoch 57/60\n",
            "715/715 [==============================] - 9s 13ms/step - loss: 0.2341 - acc: 0.9510\n",
            "Epoch 58/60\n",
            "715/715 [==============================] - 9s 13ms/step - loss: 0.2265 - acc: 0.9510\n",
            "Epoch 59/60\n",
            "715/715 [==============================] - 9s 13ms/step - loss: 0.2206 - acc: 0.9510\n",
            "Epoch 60/60\n",
            "715/715 [==============================] - 9s 13ms/step - loss: 0.2119 - acc: 0.9636\n"
          ],
          "name": "stdout"
        }
      ]
    },
    {
      "cell_type": "code",
      "metadata": {
        "id": "yh7KFTBXdaj-",
        "colab_type": "code",
        "colab": {}
      },
      "source": [
        "with tf.Session() as session:\n",
        "    K.set_session(session)\n",
        "    session.run(tf.global_variables_initializer())\n",
        "    session.run(tf.tables_initializer())\n",
        "    model.load_weights('./Roslyn_T_Label_Predict_Single.h5')  \n",
        "    predicts = model.predict(x_test, batch_size=32)  "
      ],
      "execution_count": 0,
      "outputs": []
    },
    {
      "cell_type": "code",
      "metadata": {
        "id": "cVG_eZ8jdbzN",
        "colab_type": "code",
        "outputId": "5b3186e0-5797-4ee4-a869-26d68150f9d1",
        "colab": {
          "base_uri": "https://localhost:8080/",
          "height": 394
        }
      },
      "source": [
        "y_test = np.asarray(y_enc[train_size:])\n",
        "y_test = decode(le, y_test)\n",
        "y_preds = decode(le, predicts)\n",
        "\n",
        "from sklearn import metrics\n",
        "\n",
        "metrics.confusion_matrix(y_test, y_preds)\n",
        "\n",
        "print(metrics.classification_report(y_test, y_preds))\n",
        "\n"
      ],
      "execution_count": 9,
      "outputs": [
        {
          "output_type": "stream",
          "text": [
            "                             precision    recall  f1-score   support\n",
            "\n",
            "              4 - In Review       0.00      0.00      0.00         3\n",
            "             Area-Analyzers       0.00      0.00      0.00         5\n",
            "             Area-Compilers       0.48      0.65      0.55        40\n",
            "              Area-External       0.00      0.00      0.00         1\n",
            "                   Area-IDE       0.72      0.74      0.73        85\n",
            "        Area-Infrastructure       0.86      0.83      0.85        36\n",
            "           Area-Interactive       0.00      0.00      0.00         2\n",
            "       Area-Language Design       0.00      0.00      0.00         1\n",
            "PR For Personal Review Only       0.00      0.00      0.00         2\n",
            "       Resolution-By Design       0.00      0.00      0.00         1\n",
            "       Resolution-Duplicate       0.00      0.00      0.00         1\n",
            "                        nan       0.00      0.00      0.00         2\n",
            "\n",
            "                   accuracy                           0.66       179\n",
            "                  macro avg       0.17      0.19      0.18       179\n",
            "               weighted avg       0.62      0.66      0.64       179\n",
            "\n"
          ],
          "name": "stdout"
        },
        {
          "output_type": "stream",
          "text": [
            "/usr/local/lib/python3.6/dist-packages/sklearn/metrics/classification.py:1437: UndefinedMetricWarning: Precision and F-score are ill-defined and being set to 0.0 in labels with no predicted samples.\n",
            "  'precision', 'predicted', average, warn_for)\n"
          ],
          "name": "stderr"
        }
      ]
    },
    {
      "cell_type": "code",
      "metadata": {
        "id": "bNG02At0yGXV",
        "colab_type": "code",
        "colab": {}
      },
      "source": [
        ""
      ],
      "execution_count": 0,
      "outputs": []
    },
    {
      "cell_type": "markdown",
      "metadata": {
        "id": "pckCKEEe6q4g",
        "colab_type": "text"
      },
      "source": [
        "# New Section"
      ]
    }
  ]
}