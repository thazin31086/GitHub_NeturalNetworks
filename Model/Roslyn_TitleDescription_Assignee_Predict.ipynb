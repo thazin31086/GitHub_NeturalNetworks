{
  "nbformat": 4,
  "nbformat_minor": 0,
  "metadata": {
    "colab": {
      "name": "SVF_TitleDescription_Assignee_Predict.ipynb",
      "provenance": [],
      "collapsed_sections": [],
      "toc_visible": true
    },
    "kernelspec": {
      "name": "python3",
      "display_name": "Python 3"
    }
  },
  "cells": [
    {
      "cell_type": "code",
      "metadata": {
        "id": "3xIbLyam6PAj",
        "colab_type": "code",
        "colab": {}
      },
      "source": [
        "#This Code predict Assignee for Roslyn Issues with Title\n",
        "\n",
        "import tensorflow as tf\n",
        "import tensorflow_hub as hub\n",
        "import pandas as pd\n",
        "from sklearn import preprocessing\n",
        "import keras\n",
        "import numpy as np\n",
        "\n",
        "url = \"https://tfhub.dev/google/universal-sentence-encoder-large/3\"\n",
        "embed = hub.Module(url)\n",
        "\n",
        "data = pd.read_csv('IssueDetailsRoslyn_20102019.csv', encoding='latin-1')\n",
        "\n",
        "y = list(data['Assignee']) \n",
        "x = list(data['Title_Description']) \n",
        "\n",
        "le = preprocessing.LabelEncoder()\n",
        "le.fit(y)\n",
        "\n",
        "categories = list(set(y))\n",
        "\n",
        "def encode(le, labels):\n",
        "    enc = le.transform(labels)\n",
        "    return keras.utils.to_categorical(enc)\n",
        "\n",
        "def decode(le, one_hot):\n",
        "    dec = np.argmax(one_hot, axis=1)\n",
        "    return le.inverse_transform(dec)\n",
        "\n",
        "test = encode(le,categories)\n",
        "\n",
        "untest = decode(le, test)\n",
        "\n",
        "\n",
        "x_enc = x\n",
        "y_enc = encode(le, y)\n",
        "\n",
        "x_train = np.asarray(x_enc[:800])\n",
        "y_train = np.asarray(y_enc[:800])\n",
        "\n",
        "\n",
        "x_test = np.asarray(x_enc[800:])\n",
        "y_test = np.asarray(y_enc[800:])"
      ],
      "execution_count": 0,
      "outputs": []
    },
    {
      "cell_type": "code",
      "metadata": {
        "id": "Lxgn6vzHdReY",
        "colab_type": "code",
        "colab": {}
      },
      "source": [
        "from keras.layers import Input, Lambda, Dense\n",
        "from keras.models import Model\n",
        "import keras.backend as K\n",
        "\n",
        "def UniversalEmbedding(x):\n",
        "    return embed(tf.squeeze(tf.cast(x, tf.string)))"
      ],
      "execution_count": 0,
      "outputs": []
    },
    {
      "cell_type": "code",
      "metadata": {
        "id": "Wfe-mPpJdUA0",
        "colab_type": "code",
        "outputId": "593bb793-4f4c-4e6f-81b1-f4d7f55bc357",
        "colab": {
          "base_uri": "https://localhost:8080/",
          "height": 51
        }
      },
      "source": [
        "input_text = Input(shape=(1,), dtype=tf.string)\n",
        "embedding = Lambda(UniversalEmbedding, output_shape=(512, ))(input_text)\n",
        "dense = Dense(256, activation='relu')(embedding)\n",
        "pred = Dense(len(categories), activation='softmax')(dense)\n",
        "model = Model(inputs=[input_text], outputs=pred)\n",
        "model.compile(loss='categorical_crossentropy', optimizer='adam', metrics=['accuracy'])"
      ],
      "execution_count": 63,
      "outputs": [
        {
          "output_type": "stream",
          "text": [
            "INFO:tensorflow:Saver not created because there are no variables in the graph to restore\n"
          ],
          "name": "stdout"
        },
        {
          "output_type": "stream",
          "text": [
            "INFO:tensorflow:Saver not created because there are no variables in the graph to restore\n"
          ],
          "name": "stderr"
        }
      ]
    },
    {
      "cell_type": "code",
      "metadata": {
        "id": "kL5QKGbCdWEs",
        "colab_type": "code",
        "outputId": "9850fea3-fc4d-40a8-bc7e-a32f04e61749",
        "colab": {
          "base_uri": "https://localhost:8080/",
          "height": 1000
        }
      },
      "source": [
        "with tf.Session() as session:\n",
        "    K.set_session(session)\n",
        "    session.run(tf.global_variables_initializer())  \n",
        "    session.run(tf.tables_initializer())\n",
        "    history = model.fit(x_train, y_train, epochs=30, batch_size=32)\n",
        "    model.save_weights('./model_roslyn_TitleDescription_Assignee_Prediction.h5')"
      ],
      "execution_count": 64,
      "outputs": [
        {
          "output_type": "stream",
          "text": [
            "Epoch 1/30\n",
            "800/800 [==============================] - 77s 96ms/step - loss: 5.4947 - acc: 0.0762\n",
            "Epoch 2/30\n",
            "800/800 [==============================] - 63s 79ms/step - loss: 4.7410 - acc: 0.0812\n",
            "Epoch 3/30\n",
            "800/800 [==============================] - 63s 79ms/step - loss: 4.4077 - acc: 0.1475\n",
            "Epoch 4/30\n",
            "800/800 [==============================] - 64s 80ms/step - loss: 4.1972 - acc: 0.1662\n",
            "Epoch 5/30\n",
            "800/800 [==============================] - 72s 90ms/step - loss: 4.0274 - acc: 0.1787\n",
            "Epoch 6/30\n",
            "800/800 [==============================] - 63s 78ms/step - loss: 3.8802 - acc: 0.1988\n",
            "Epoch 7/30\n",
            "800/800 [==============================] - 62s 78ms/step - loss: 3.7482 - acc: 0.2225\n",
            "Epoch 8/30\n",
            "800/800 [==============================] - 63s 79ms/step - loss: 3.6278 - acc: 0.2112\n",
            "Epoch 9/30\n",
            "800/800 [==============================] - 63s 79ms/step - loss: 3.5098 - acc: 0.2263\n",
            "Epoch 10/30\n",
            "800/800 [==============================] - 63s 79ms/step - loss: 3.4004 - acc: 0.2438\n",
            "Epoch 11/30\n",
            "800/800 [==============================] - 62s 78ms/step - loss: 3.2863 - acc: 0.2450\n",
            "Epoch 12/30\n",
            "800/800 [==============================] - 63s 78ms/step - loss: 3.1932 - acc: 0.2487\n",
            "Epoch 13/30\n",
            "800/800 [==============================] - 62s 78ms/step - loss: 3.0824 - acc: 0.2637\n",
            "Epoch 14/30\n",
            "800/800 [==============================] - 63s 78ms/step - loss: 2.9871 - acc: 0.2512\n",
            "Epoch 15/30\n",
            "800/800 [==============================] - 64s 80ms/step - loss: 2.8871 - acc: 0.2725\n",
            "Epoch 16/30\n",
            "800/800 [==============================] - 63s 78ms/step - loss: 2.7884 - acc: 0.2850\n",
            "Epoch 17/30\n",
            "800/800 [==============================] - 62s 78ms/step - loss: 2.6861 - acc: 0.3112\n",
            "Epoch 18/30\n",
            "800/800 [==============================] - 63s 78ms/step - loss: 2.5960 - acc: 0.3175\n",
            "Epoch 19/30\n",
            "800/800 [==============================] - 62s 78ms/step - loss: 2.5041 - acc: 0.3400\n",
            "Epoch 20/30\n",
            "800/800 [==============================] - 63s 79ms/step - loss: 2.4015 - acc: 0.3663\n",
            "Epoch 21/30\n",
            "800/800 [==============================] - 64s 79ms/step - loss: 2.3205 - acc: 0.3750\n",
            "Epoch 22/30\n",
            "800/800 [==============================] - 63s 78ms/step - loss: 2.2405 - acc: 0.4075\n",
            "Epoch 23/30\n",
            "800/800 [==============================] - 62s 78ms/step - loss: 2.1505 - acc: 0.4175\n",
            "Epoch 24/30\n",
            "800/800 [==============================] - 63s 78ms/step - loss: 2.0795 - acc: 0.4550\n",
            "Epoch 25/30\n",
            "800/800 [==============================] - 62s 78ms/step - loss: 2.0059 - acc: 0.4637\n",
            "Epoch 26/30\n",
            "800/800 [==============================] - 62s 77ms/step - loss: 1.9480 - acc: 0.4938\n",
            "Epoch 27/30\n",
            "800/800 [==============================] - 62s 77ms/step - loss: 1.8721 - acc: 0.5325\n",
            "Epoch 28/30\n",
            "800/800 [==============================] - 62s 77ms/step - loss: 1.8166 - acc: 0.5413\n",
            "Epoch 29/30\n",
            "800/800 [==============================] - 62s 78ms/step - loss: 1.7566 - acc: 0.5550\n",
            "Epoch 30/30\n",
            "800/800 [==============================] - 63s 78ms/step - loss: 1.7018 - acc: 0.5513\n"
          ],
          "name": "stdout"
        }
      ]
    },
    {
      "cell_type": "code",
      "metadata": {
        "id": "yh7KFTBXdaj-",
        "colab_type": "code",
        "colab": {}
      },
      "source": [
        "with tf.Session() as session:\n",
        "    K.set_session(session)\n",
        "    session.run(tf.global_variables_initializer())\n",
        "    session.run(tf.tables_initializer())\n",
        "    model.load_weights('./model_roslyn_TitleDescription_Assignee_Prediction.h5')  \n",
        "    predicts = model.predict(x_test, batch_size=32)  "
      ],
      "execution_count": 0,
      "outputs": []
    },
    {
      "cell_type": "code",
      "metadata": {
        "id": "sY2Wve_zIMce",
        "colab_type": "code",
        "outputId": "4e145ee4-6d8f-4148-8f46-58e33567c87b",
        "colab": {
          "base_uri": "https://localhost:8080/",
          "height": 1000
        }
      },
      "source": [
        "y_test = np.asarray(y_enc[800:])\n",
        "\n",
        "\n",
        "y_test = decode(le, y_test)\n",
        "y_preds = decode(le, predicts)\n",
        "\n",
        "from sklearn import metrics\n",
        "\n",
        "metrics.confusion_matrix(y_test, y_preds)\n",
        "\n",
        "print(metrics.classification_report(y_test, y_preds))\n"
      ],
      "execution_count": 66,
      "outputs": [
        {
          "output_type": "stream",
          "text": [
            "                                                                                                                   precision    recall  f1-score   support\n",
            "\n",
            "                                                                                                   333fred|gafter       0.00      0.00      0.00         1\n",
            "                                                                         333fred|jaredpar|heejaechang|tmat|agocke       0.00      0.00      0.00         1\n",
            "333fred|jasonmalinowski|ryzngard|jaredpar|agocke|gafter|RikkiGibson|VSadov|AlekseyTs|cston|jcouv|chsienki|fayrose       0.00      0.00      0.00         0\n",
            "                                                                                            333fred|tmat|jaredpar       0.00      0.00      0.00         1\n",
            "                                                                                                        AlekseyTs       0.00      0.00      0.00         3\n",
            "                                                                                                 AlekseyTs|gafter       0.00      0.00      0.00         1\n",
            "                                                                                 Cosifne|sharwell|vatsalyaagrawal       0.00      0.00      0.00         1\n",
            "                                                                                                        JoeRobich       0.00      0.00      0.00         1\n",
            "                                                                               JoeRobich|jasonmalinowski|mavasani       0.00      0.00      0.00         0\n",
            "                                                                                    JoeRobich|tmat|sandyarmstrong       0.00      0.00      0.00         0\n",
            "                                                                                                      RikkiGibson       0.00      0.00      0.00         0\n",
            "                                                                                      RikkiGibson|gafter|jaredpar       0.00      0.00      0.00         1\n",
            "                                                                                                           agocke       0.00      0.00      0.00         0\n",
            "                                                                          agocke|jasonmalinowski|333fred|jaredpar       0.00      0.00      0.00         1\n",
            "                         agocke|jcouv|333fred|jaredpar|gafter|RikkiGibson|VSadov|AlekseyTs|cston|chsienki|fayrose       0.00      0.00      0.00         1\n",
            "                                                                                                           chborl       0.00      0.00      0.00         1\n",
            "                                                                                                chborl|jinujoseph       0.00      0.00      0.00         0\n",
            "                                                                                               chsienki|AlekseyTs       0.00      0.00      0.00         1\n",
            "                                                                                                            cston       0.00      0.00      0.00         1\n",
            "                                                                                            cston|AlekseyTs|jcouv       0.00      0.00      0.00         1\n",
            "                         cston|jaredpar|agocke|333fred|gafter|RikkiGibson|VSadov|AlekseyTs|jcouv|chsienki|fayrose       0.00      0.00      0.00         1\n",
            "                                          davkean|gafter|jasonmalinowski|agocke|vatsalyaagrawal|panopticoncentral       0.00      0.00      0.00         1\n",
            "                                                                                                         dibarbet       0.00      0.00      0.00         3\n",
            "                                                                                 dibarbet|daytonellwanger|amcasey       0.00      0.00      0.00         1\n",
            "                                                                                             dotnet-bot|JoeRobich       0.00      0.00      0.00         2\n",
            "                                                                                           dotnet-bot|RikkiGibson       0.00      0.00      0.00         3\n",
            "                                                                                              dotnet-bot|dibarbet       0.00      0.00      0.00         0\n",
            "                                                                                  dotnet-bot|dotnet-automerge-bot       0.33      1.00      0.50         2\n",
            "                                                        dotnet-bot|jasonmalinowski|ivanbasov|dotnet-automerge-bot       0.00      0.00      0.00         1\n",
            "                                                                                                           gafter       0.33      0.33      0.33         9\n",
            "                                                                                                 gafter|AlekseyTs       0.00      0.00      0.00         1\n",
            "                                                                                                  gafter|jaredpar       0.00      0.00      0.00         1\n",
            "                                                                                                gafter|jinujoseph       0.00      0.00      0.00         0\n",
            "                                                                                       gafter|jinujoseph|sharwell       0.00      0.00      0.00         0\n",
            "                                                                                                  gafter|sharwell       0.00      0.00      0.00         2\n",
            "                                                                                           gafter|vatsalyaagrawal       0.00      0.00      0.00         6\n",
            "                                                                                gafter|vatsalyaagrawal|jinujoseph       0.00      0.00      0.00         1\n",
            "                                                                                                        ivanbasov       1.00      0.33      0.50         3\n",
            "                                                                                   ivanbasov|CyrusNajmabadi|genlu       0.00      0.00      0.00         1\n",
            "                                                                                              ivanbasov|JoeRobich       0.00      0.00      0.00         1\n",
            "                                                                                         ivanbasov|cston|sharwell       0.00      0.00      0.00         1\n",
            "                                                                                             ivanbasov|jinujoseph       0.00      0.00      0.00         0\n",
            "                                                                                                         jaredpar       0.00      0.00      0.00         1\n",
            "                         jaredpar|agocke|333fred|gafter|RikkiGibson|VSadov|AlekseyTs|cston|jcouv|chsienki|fayrose       0.00      0.00      0.00         2\n",
            "                                                                                                jaredpar|sharwell       0.00      0.00      0.00         1\n",
            "                                                                              jaredpar|vatsalyaagrawal|jinujoseph       0.00      0.00      0.00         1\n",
            "                                                                                                  jasonmalinowski       0.33      0.17      0.22         6\n",
            "                                                                                                            jcouv       0.18      0.33      0.24         6\n",
            "                                                                                                     jcouv|gafter       0.00      0.00      0.00         1\n",
            "                                                                                                         mavasani       0.12      0.33      0.17         6\n",
            "                                                                                         mavasani|vatsalyaagrawal       0.00      0.00      0.00         1\n",
            "                                                                                                         petrroll       0.00      0.00      0.00         3\n",
            "                                                                                         petrroll|vatsalyaagrawal       0.00      0.00      0.00         1\n",
            "                                                                              petrroll|vatsalyaagrawal|jinujoseph       0.00      0.00      0.00         1\n",
            "                                                                                                         ryzngard       0.00      0.00      0.00         0\n",
            "                                                                                                         sharwell       0.00      0.00      0.00         3\n",
            "                                                                                              sharwell|jinujoseph       0.00      0.00      0.00         0\n",
            "                                                                                                             tmat       0.00      0.00      0.00         0\n",
            "                                                                                        tmat|ivanbasov|jinujoseph       0.00      0.00      0.00         0\n",
            "                                                                                                    tmat|jaredpar       0.00      0.00      0.00         1\n",
            "                                                                         tmat|sharwell|vatsalyaagrawal|jinujoseph       0.00      0.00      0.00         1\n",
            "                                                                               tmeschter|mavasani|vatsalyaagrawal       0.00      0.00      0.00         1\n",
            "                                           v-zbsail|tmeschter|vatsalyaagrawal|jasonmalinowski|agocke|msftbot[bot]       0.00      0.00      0.00         1\n",
            "                                                                                       vatsalyaagrawal|jinujoseph       0.00      0.00      0.00         1\n",
            "                                                         vatsalyaagrawal|ryzngard|jmarolf|jasonmalinowski|davkean       0.00      0.00      0.00         1\n",
            "\n",
            "                                                                                                         accuracy                           0.12        95\n",
            "                                                                                                        macro avg       0.04      0.04      0.03        95\n",
            "                                                                                                     weighted avg       0.11      0.12      0.10        95\n",
            "\n"
          ],
          "name": "stdout"
        },
        {
          "output_type": "stream",
          "text": [
            "/usr/local/lib/python3.6/dist-packages/sklearn/metrics/classification.py:1437: UndefinedMetricWarning: Precision and F-score are ill-defined and being set to 0.0 in labels with no predicted samples.\n",
            "  'precision', 'predicted', average, warn_for)\n",
            "/usr/local/lib/python3.6/dist-packages/sklearn/metrics/classification.py:1439: UndefinedMetricWarning: Recall and F-score are ill-defined and being set to 0.0 in labels with no true samples.\n",
            "  'recall', 'true', average, warn_for)\n"
          ],
          "name": "stderr"
        }
      ]
    },
    {
      "cell_type": "code",
      "metadata": {
        "id": "bNG02At0yGXV",
        "colab_type": "code",
        "colab": {}
      },
      "source": [
        ""
      ],
      "execution_count": 0,
      "outputs": []
    },
    {
      "cell_type": "markdown",
      "metadata": {
        "id": "pckCKEEe6q4g",
        "colab_type": "text"
      },
      "source": [
        "# New Section"
      ]
    }
  ]
}